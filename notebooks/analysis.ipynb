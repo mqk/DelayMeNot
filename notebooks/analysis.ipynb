{
 "metadata": {
  "name": ""
 },
 "nbformat": 3,
 "nbformat_minor": 0,
 "worksheets": [
  {
   "cells": [
    {
     "cell_type": "markdown",
     "source": [
      "## Notebook for analysis of the DelayMeNot models ##"
     ]
    },
    {
     "cell_type": "markdown",
     "source": [
      "### Recall, Origin vs. Destination plot ###"
     ]
    },
    {
     "cell_type": "code",
     "collapsed": true,
     "input": [
      "#### Load all the model results ####\n",
      "\n",
      "import cPickle\n",
      "import time\n",
      "from glob import glob\n",
      "\n",
      "origin_model_summaries = {}\n",
      "\n",
      "for fn in glob('/data/DelayMeNot/RandomForest_models/by_origin/*.pkl'):\n",
      "    origin = fn[-7:-4]\n",
      "\n",
      "    print 'Reading %s...' % fn\n",
      "    time0 = time.time()\n",
      "    f = open(fn,'rb')\n",
      "    (_, model_summary) = cPickle.load(f)\n",
      "    f.close()\n",
      "    print '   that took %.1f seconds' % (time.time() - time0)\n",
      "\n",
      "    origin_model_summaries[origin] = model_summary\n",
      "\n",
      "f = open('origin_model_summaries.pkl','wb')\n",
      "cPickle.dump(origin_model_summaries,f,2)\n",
      "f.close()\n",
      "\n",
      "\n",
      "destination_model_summaries = {}\n",
      "\n",
      "for fn in glob('/data/DelayMeNot/RandomForest_models/by_destination/*.pkl'):\n",
      "    destination = fn[-7:-4]\n",
      "\n",
      "    print 'Reading %s...' % fn\n",
      "    time0 = time.time()\n",
      "    f = open(fn,'rb')\n",
      "    (_, model_summary) = cPickle.load(f)\n",
      "    f.close()\n",
      "    print '   that took %.1f seconds' % (time.time() - time0)\n",
      "\n",
      "    destination_model_summaries[destination] = model_summary\n",
      "\n",
      "f = open('destination_model_summaries.pkl','wb')\n",
      "cPickle.dump(destination_model_summaries,f,2)\n",
      "f.close()\n",
      "\t"
     ],
     "language": "python",
     "outputs": [
      {
       "output_type": "stream",
       "stream": "stdout",
       "text": [
        "Reading /data/DelayMeNot/RandomForest_models/by_origin/rfm_MBS.pkl...\n",
        "   that took 1.5 seconds"
       ]
      },
      {
       "output_type": "stream",
       "stream": "stdout",
       "text": [
        "\n",
        "Reading /data/DelayMeNot/RandomForest_models/by_origin/rfm_XNA.pkl...\n",
        "   that took 0.5 seconds"
       ]
      },
      {
       "output_type": "stream",
       "stream": "stdout",
       "text": [
        "\n",
        "Reading /data/DelayMeNot/RandomForest_models/by_origin/rfm_ILM.pkl...\n",
        "   that took 0.2 seconds"
       ]
      },
      {
       "output_type": "stream",
       "stream": "stdout",
       "text": [
        "\n",
        "Reading /data/DelayMeNot/RandomForest_models/by_origin/rfm_MCI.pkl...\n",
        "   that took 1.5 seconds"
       ]
      },
      {
       "output_type": "stream",
       "stream": "stdout",
       "text": [
        "\n",
        "Reading /data/DelayMeNot/RandomForest_models/by_origin/rfm_LAN.pkl...\n",
        "   that took 0.2 seconds"
       ]
      },
      {
       "output_type": "stream",
       "stream": "stdout",
       "text": [
        "\n",
        "Reading /data/DelayMeNot/RandomForest_models/by_origin/rfm_RNO.pkl...\n",
        "   that took 0.6 seconds"
       ]
      },
      {
       "output_type": "stream",
       "stream": "stdout",
       "text": [
        "\n",
        "Reading /data/DelayMeNot/RandomForest_models/by_origin/rfm_CHA.pkl...\n",
        "   that took 0.2 seconds"
       ]
      },
      {
       "output_type": "stream",
       "stream": "stdout",
       "text": [
        "\n",
        "Reading /data/DelayMeNot/RandomForest_models/by_origin/rfm_SBN.pkl...\n",
        "   that took 0.3 seconds"
       ]
      },
      {
       "output_type": "stream",
       "stream": "stdout",
       "text": [
        "\n",
        "Reading /data/DelayMeNot/RandomForest_models/by_origin/rfm_DTW.pkl...\n",
        "   that took 4.2 seconds"
       ]
      },
      {
       "output_type": "stream",
       "stream": "stdout",
       "text": [
        "\n",
        "Reading /data/DelayMeNot/RandomForest_models/by_origin/rfm_SAV.pkl...\n",
        "   that took 0.4 seconds"
       ]
      },
      {
       "output_type": "stream",
       "stream": "stdout",
       "text": [
        "\n",
        "Reading /data/DelayMeNot/RandomForest_models/by_origin/rfm_MAF.pkl...\n",
        "   that took 0.2 seconds"
       ]
      },
      {
       "output_type": "stream",
       "stream": "stdout",
       "text": [
        "\n",
        "Reading /data/DelayMeNot/RandomForest_models/by_origin/rfm_MLU.pkl...\n",
        "   that took 0.2 seconds"
       ]
      },
      {
       "output_type": "stream",
       "stream": "stdout",
       "text": [
        "\n",
        "Reading /data/DelayMeNot/RandomForest_models/by_origin/rfm_SMF.pkl...\n",
        "   that took 1.2 seconds"
       ]
      },
      {
       "output_type": "stream",
       "stream": "stdout",
       "text": [
        "\n",
        "Reading /data/DelayMeNot/RandomForest_models/by_origin/rfm_BUF.pkl...\n",
        "   that took 0.8 seconds"
       ]
      },
      {
       "output_type": "stream",
       "stream": "stdout",
       "text": [
        "\n",
        "Reading /data/DelayMeNot/RandomForest_models/by_origin/rfm_DEN.pkl...\n",
        "   that took 7.2 seconds"
       ]
      },
      {
       "output_type": "stream",
       "stream": "stdout",
       "text": [
        "\n",
        "Reading /data/DelayMeNot/RandomForest_models/by_origin/rfm_OMA.pkl...\n",
        "   that took 0.7 seconds"
       ]
      },
      {
       "output_type": "stream",
       "stream": "stdout",
       "text": [
        "\n",
        "Reading /data/DelayMeNot/RandomForest_models/by_origin/rfm_PHX.pkl...\n",
        "   that took 5.0 seconds"
       ]
      },
      {
       "output_type": "stream",
       "stream": "stdout",
       "text": [
        "\n",
        "Reading /data/DelayMeNot/RandomForest_models/by_origin/rfm_SFO.pkl...\n",
        "   that took 5.0 seconds"
       ]
      },
      {
       "output_type": "stream",
       "stream": "stdout",
       "text": [
        "\n",
        "Reading /data/DelayMeNot/RandomForest_models/by_origin/rfm_CHS.pkl...\n",
        "   that took 0.5 seconds"
       ]
      },
      {
       "output_type": "stream",
       "stream": "stdout",
       "text": [
        "\n",
        "Reading /data/DelayMeNot/RandomForest_models/by_origin/rfm_SJU.pkl...\n",
        "   that took 0.8 seconds"
       ]
      },
      {
       "output_type": "stream",
       "stream": "stdout",
       "text": [
        "\n",
        "Reading /data/DelayMeNot/RandomForest_models/by_origin/rfm_AMA.pkl...\n",
        "   that took 0.2 seconds"
       ]
      },
      {
       "output_type": "stream",
       "stream": "stdout",
       "text": [
        "\n",
        "Reading /data/DelayMeNot/RandomForest_models/by_origin/rfm_ICT.pkl...\n",
        "   that took 0.4 seconds"
       ]
      },
      {
       "output_type": "stream",
       "stream": "stdout",
       "text": [
        "\n",
        "Reading /data/DelayMeNot/RandomForest_models/by_origin/rfm_BWI.pkl...\n",
        "   that took 3.0 seconds"
       ]
      },
      {
       "output_type": "stream",
       "stream": "stdout",
       "text": [
        "\n",
        "Reading /data/DelayMeNot/RandomForest_models/by_origin/rfm_ORD.pkl...\n",
        "   that took 10.4 seconds"
       ]
      },
      {
       "output_type": "stream",
       "stream": "stdout",
       "text": [
        "\n",
        "Reading /data/DelayMeNot/RandomForest_models/by_origin/rfm_GEG.pkl...\n",
        "   that took 0.3 seconds"
       ]
      },
      {
       "output_type": "stream",
       "stream": "stdout",
       "text": [
        "\n",
        "Reading /data/DelayMeNot/RandomForest_models/by_origin/rfm_CVG.pkl...\n",
        "   that took 1.6 seconds"
       ]
      },
      {
       "output_type": "stream",
       "stream": "stdout",
       "text": [
        "\n",
        "Reading /data/DelayMeNot/RandomForest_models/by_origin/rfm_ORF.pkl...\n",
        "   that took 0.5 seconds"
       ]
      },
      {
       "output_type": "stream",
       "stream": "stdout",
       "text": [
        "\n",
        "Reading /data/DelayMeNot/RandomForest_models/by_origin/rfm_BUR.pkl...\n",
        "   that took 0.6 seconds"
       ]
      },
      {
       "output_type": "stream",
       "stream": "stdout",
       "text": [
        "\n",
        "Reading /data/DelayMeNot/RandomForest_models/by_origin/rfm_MFE.pkl...\n",
        "   that took 0.2 seconds"
       ]
      },
      {
       "output_type": "stream",
       "stream": "stdout",
       "text": [
        "\n",
        "Reading /data/DelayMeNot/RandomForest_models/by_origin/rfm_BOS.pkl...\n",
        "   that took 3.6 seconds"
       ]
      },
      {
       "output_type": "stream",
       "stream": "stdout",
       "text": [
        "\n",
        "Reading /data/DelayMeNot/RandomForest_models/by_origin/rfm_SAN.pkl...\n",
        "   that took 2.1 seconds"
       ]
      },
      {
       "output_type": "stream",
       "stream": "stdout",
       "text": [
        "\n",
        "Reading /data/DelayMeNot/RandomForest_models/by_origin/rfm_CRW.pkl...\n",
        "   that took 0.2 seconds"
       ]
      },
      {
       "output_type": "stream",
       "stream": "stdout",
       "text": [
        "\n",
        "Reading /data/DelayMeNot/RandomForest_models/by_origin/rfm_TRI.pkl...\n",
        "   that took 0.2 seconds"
       ]
      },
      {
       "output_type": "stream",
       "stream": "stdout",
       "text": [
        "\n",
        "Reading /data/DelayMeNot/RandomForest_models/by_origin/rfm_HNL.pkl...\n",
        "   that took 1.0 seconds"
       ]
      },
      {
       "output_type": "stream",
       "stream": "stdout",
       "text": [
        "\n",
        "Reading /data/DelayMeNot/RandomForest_models/by_origin/rfm_LIT.pkl...\n",
        "   that took 0.6 seconds"
       ]
      },
      {
       "output_type": "stream",
       "stream": "stdout",
       "text": [
        "\n",
        "Reading /data/DelayMeNot/RandomForest_models/by_origin/rfm_AVL.pkl...\n",
        "   that took 0.2 seconds"
       ]
      },
      {
       "output_type": "stream",
       "stream": "stdout",
       "text": [
        "\n",
        "Reading /data/DelayMeNot/RandomForest_models/by_origin/rfm_EUG.pkl...\n",
        "   that took 0.2 seconds"
       ]
      },
      {
       "output_type": "stream",
       "stream": "stdout",
       "text": [
        "\n",
        "Reading /data/DelayMeNot/RandomForest_models/by_origin/rfm_ROC.pkl...\n",
        "   that took 0.4 seconds"
       ]
      },
      {
       "output_type": "stream",
       "stream": "stdout",
       "text": [
        "\n",
        "Reading /data/DelayMeNot/RandomForest_models/by_origin/rfm_MEM.pkl...\n",
        "   that took 2.0 seconds"
       ]
      },
      {
       "output_type": "stream",
       "stream": "stdout",
       "text": [
        "\n",
        "Reading /data/DelayMeNot/RandomForest_models/by_origin/rfm_RST.pkl...\n",
        "   that took 0.2 seconds"
       ]
      },
      {
       "output_type": "stream",
       "stream": "stdout",
       "text": [
        "\n",
        "Reading /data/DelayMeNot/RandomForest_models/by_origin/rfm_MLI.pkl...\n",
        "   that took 0.3 seconds"
       ]
      },
      {
       "output_type": "stream",
       "stream": "stdout",
       "text": [
        "\n",
        "Reading /data/DelayMeNot/RandomForest_models/by_origin/rfm_SDF.pkl...\n",
        "   that took 0.6 seconds"
       ]
      },
      {
       "output_type": "stream",
       "stream": "stdout",
       "text": [
        "\n",
        "Reading /data/DelayMeNot/RandomForest_models/by_origin/rfm_CLT.pkl...\n",
        "   that took 4.1 seconds"
       ]
      },
      {
       "output_type": "stream",
       "stream": "stdout",
       "text": [
        "\n",
        "Reading /data/DelayMeNot/RandomForest_models/by_origin/rfm_CLE.pkl...\n",
        "   that took 1.8 seconds"
       ]
      },
      {
       "output_type": "stream",
       "stream": "stdout",
       "text": [
        "\n",
        "Reading /data/DelayMeNot/RandomForest_models/by_origin/rfm_BFL.pkl...\n",
        "   that took 0.2 seconds"
       ]
      },
      {
       "output_type": "stream",
       "stream": "stdout",
       "text": [
        "\n",
        "Reading /data/DelayMeNot/RandomForest_models/by_origin/rfm_LNK.pkl...\n",
        "   that took 0.2 seconds"
       ]
      },
      {
       "output_type": "stream",
       "stream": "stdout",
       "text": [
        "\n",
        "Reading /data/DelayMeNot/RandomForest_models/by_origin/rfm_VPS.pkl...\n",
        "   that took 0.3 seconds"
       ]
      },
      {
       "output_type": "stream",
       "stream": "stdout",
       "text": [
        "\n",
        "Reading /data/DelayMeNot/RandomForest_models/by_origin/rfm_HPN.pkl...\n",
        "   that took 0.4 seconds"
       ]
      },
      {
       "output_type": "stream",
       "stream": "stdout",
       "text": [
        "\n",
        "Reading /data/DelayMeNot/RandomForest_models/by_origin/rfm_SHV.pkl...\n",
        "   that took 0.2 seconds"
       ]
      },
      {
       "output_type": "stream",
       "stream": "stdout",
       "text": [
        "\n",
        "Reading /data/DelayMeNot/RandomForest_models/by_origin/rfm_PSC.pkl...\n",
        "   that took 0.2 seconds"
       ]
      },
      {
       "output_type": "stream",
       "stream": "stdout",
       "text": [
        "\n",
        "Reading /data/DelayMeNot/RandomForest_models/by_origin/rfm_FWA.pkl...\n",
        "   that took 0.2 seconds"
       ]
      },
      {
       "output_type": "stream",
       "stream": "stdout",
       "text": [
        "\n",
        "Reading /data/DelayMeNot/RandomForest_models/by_origin/rfm_LFT.pkl...\n",
        "   that took 0.2 seconds"
       ]
      },
      {
       "output_type": "stream",
       "stream": "stdout",
       "text": [
        "\n",
        "Reading /data/DelayMeNot/RandomForest_models/by_origin/rfm_RAP.pkl...\n",
        "   that took 0.2 seconds"
       ]
      },
      {
       "output_type": "stream",
       "stream": "stdout",
       "text": [
        "\n",
        "Reading /data/DelayMeNot/RandomForest_models/by_origin/rfm_JAN.pkl...\n",
        "   that took 0.4 seconds"
       ]
      },
      {
       "output_type": "stream",
       "stream": "stdout",
       "text": [
        "\n",
        "Reading /data/DelayMeNot/RandomForest_models/by_origin/rfm_LAX.pkl...\n",
        "   that took 6.1 seconds"
       ]
      },
      {
       "output_type": "stream",
       "stream": "stdout",
       "text": [
        "\n",
        "Reading /data/DelayMeNot/RandomForest_models/by_origin/rfm_BDL.pkl...\n",
        "   that took 0.7 seconds"
       ]
      },
      {
       "output_type": "stream",
       "stream": "stdout",
       "text": [
        "\n",
        "Reading /data/DelayMeNot/RandomForest_models/by_origin/rfm_CMH.pkl...\n",
        "   that took 0.9 seconds"
       ]
      },
      {
       "output_type": "stream",
       "stream": "stdout",
       "text": [
        "\n",
        "Reading /data/DelayMeNot/RandomForest_models/by_origin/rfm_OAK.pkl...\n",
        "   that took 1.2 seconds"
       ]
      },
      {
       "output_type": "stream",
       "stream": "stdout",
       "text": [
        "\n",
        "Reading /data/DelayMeNot/RandomForest_models/by_origin/rfm_SWF.pkl...\n",
        "   that took 0.2 seconds"
       ]
      },
      {
       "output_type": "stream",
       "stream": "stdout",
       "text": [
        "\n",
        "Reading /data/DelayMeNot/RandomForest_models/by_origin/rfm_LGB.pkl...\n",
        "   that took 0.5 seconds"
       ]
      },
      {
       "output_type": "stream",
       "stream": "stdout",
       "text": [
        "\n",
        "Reading /data/DelayMeNot/RandomForest_models/by_origin/rfm_PVD.pkl...\n",
        "   that took 0.6 seconds"
       ]
      },
      {
       "output_type": "stream",
       "stream": "stdout",
       "text": [
        "\n",
        "Reading /data/DelayMeNot/RandomForest_models/by_origin/rfm_TPA.pkl...\n",
        "   that took 2.1 seconds"
       ]
      },
      {
       "output_type": "stream",
       "stream": "stdout",
       "text": [
        "\n",
        "Reading /data/DelayMeNot/RandomForest_models/by_origin/rfm_FAT.pkl...\n",
        "   that took 0.5 seconds"
       ]
      },
      {
       "output_type": "stream",
       "stream": "stdout",
       "text": [
        "\n",
        "Reading /data/DelayMeNot/RandomForest_models/by_origin/rfm_GRR.pkl...\n",
        "   that took 0.4 seconds"
       ]
      },
      {
       "output_type": "stream",
       "stream": "stdout",
       "text": [
        "\n",
        "Reading /data/DelayMeNot/RandomForest_models/by_origin/rfm_KOA.pkl...\n",
        "   that took 0.2 seconds"
       ]
      },
      {
       "output_type": "stream",
       "stream": "stdout",
       "text": [
        "\n",
        "Reading /data/DelayMeNot/RandomForest_models/by_origin/rfm_CAK.pkl...\n",
        "   that took 0.3 seconds"
       ]
      },
      {
       "output_type": "stream",
       "stream": "stdout",
       "text": [
        "\n",
        "Reading /data/DelayMeNot/RandomForest_models/by_origin/rfm_MCO.pkl...\n",
        "   that took 3.9 seconds"
       ]
      },
      {
       "output_type": "stream",
       "stream": "stdout",
       "text": [
        "\n",
        "Reading /data/DelayMeNot/RandomForest_models/by_origin/rfm_TLH.pkl...\n",
        "   that took 0.4 seconds"
       ]
      },
      {
       "output_type": "stream",
       "stream": "stdout",
       "text": [
        "\n",
        "Reading /data/DelayMeNot/RandomForest_models/by_origin/rfm_JFK.pkl...\n",
        "   that took 3.5 seconds"
       ]
      },
      {
       "output_type": "stream",
       "stream": "stdout",
       "text": [
        "\n",
        "Reading /data/DelayMeNot/RandomForest_models/by_origin/rfm_MKE.pkl...\n",
        "   that took 1.3 seconds"
       ]
      },
      {
       "output_type": "stream",
       "stream": "stdout",
       "text": [
        "\n",
        "Reading /data/DelayMeNot/RandomForest_models/by_origin/rfm_EWR.pkl...\n",
        "   that took 4.3 seconds"
       ]
      },
      {
       "output_type": "stream",
       "stream": "stdout",
       "text": [
        "\n",
        "Reading /data/DelayMeNot/RandomForest_models/by_origin/rfm_FNT.pkl...\n",
        "   that took 0.2 seconds"
       ]
      },
      {
       "output_type": "stream",
       "stream": "stdout",
       "text": [
        "\n",
        "Reading /data/DelayMeNot/RandomForest_models/by_origin/rfm_GTF.pkl...\n",
        "   that took 0.2 seconds"
       ]
      },
      {
       "output_type": "stream",
       "stream": "stdout",
       "text": [
        "\n",
        "Reading /data/DelayMeNot/RandomForest_models/by_origin/rfm_LAS.pkl...\n",
        "   that took 4.1 seconds"
       ]
      },
      {
       "output_type": "stream",
       "stream": "stdout",
       "text": [
        "\n",
        "Reading /data/DelayMeNot/RandomForest_models/by_origin/rfm_IAH.pkl...\n",
        "   that took 5.4 seconds"
       ]
      },
      {
       "output_type": "stream",
       "stream": "stdout",
       "text": [
        "\n",
        "Reading /data/DelayMeNot/RandomForest_models/by_origin/rfm_TUS.pkl...\n",
        "   that took 0.5 seconds"
       ]
      },
      {
       "output_type": "stream",
       "stream": "stdout",
       "text": [
        "\n",
        "Reading /data/DelayMeNot/RandomForest_models/by_origin/rfm_BTR.pkl...\n",
        "   that took 0.4 seconds"
       ]
      },
      {
       "output_type": "stream",
       "stream": "stdout",
       "text": [
        "\n",
        "Reading /data/DelayMeNot/RandomForest_models/by_origin/rfm_FAI.pkl...\n",
        "   that took 0.2 seconds"
       ]
      },
      {
       "output_type": "stream",
       "stream": "stdout",
       "text": [
        "\n",
        "Reading /data/DelayMeNot/RandomForest_models/by_origin/rfm_LBB.pkl...\n",
        "   that took 0.3 seconds"
       ]
      },
      {
       "output_type": "stream",
       "stream": "stdout",
       "text": [
        "\n",
        "Reading /data/DelayMeNot/RandomForest_models/by_origin/rfm_DAB.pkl...\n",
        "   that took 0.2 seconds"
       ]
      },
      {
       "output_type": "stream",
       "stream": "stdout",
       "text": [
        "\n",
        "Reading /data/DelayMeNot/RandomForest_models/by_origin/rfm_OKC.pkl...\n",
        "   that took 0.7 seconds"
       ]
      },
      {
       "output_type": "stream",
       "stream": "stdout",
       "text": [
        "\n",
        "Reading /data/DelayMeNot/RandomForest_models/by_origin/rfm_ISP.pkl...\n",
        "   that took 0.2 seconds"
       ]
      },
      {
       "output_type": "stream",
       "stream": "stdout",
       "text": [
        "\n",
        "Reading /data/DelayMeNot/RandomForest_models/by_origin/rfm_MSO.pkl...\n",
        "   that took 0.2 seconds"
       ]
      },
      {
       "output_type": "stream",
       "stream": "stdout",
       "text": [
        "\n",
        "Reading /data/DelayMeNot/RandomForest_models/by_origin/rfm_SLC.pkl...\n",
        "   that took 2.8 seconds"
       ]
      },
      {
       "output_type": "stream",
       "stream": "stdout",
       "text": [
        "\n",
        "Reading /data/DelayMeNot/RandomForest_models/by_origin/rfm_PDX.pkl...\n",
        "   that took 1.5 seconds"
       ]
      },
      {
       "output_type": "stream",
       "stream": "stdout",
       "text": [
        "\n",
        "Reading /data/DelayMeNot/RandomForest_models/by_origin/rfm_SBA.pkl...\n",
        "   that took 0.5 seconds"
       ]
      },
      {
       "output_type": "stream",
       "stream": "stdout",
       "text": [
        "\n",
        "Reading /data/DelayMeNot/RandomForest_models/by_origin/rfm_ANC.pkl...\n",
        "   that took 0.4 seconds"
       ]
      },
      {
       "output_type": "stream",
       "stream": "stdout",
       "text": [
        "\n",
        "Reading /data/DelayMeNot/RandomForest_models/by_origin/rfm_GSO.pkl...\n",
        "   that took 0.4 seconds"
       ]
      },
      {
       "output_type": "stream",
       "stream": "stdout",
       "text": [
        "\n",
        "Reading /data/DelayMeNot/RandomForest_models/by_origin/rfm_ELP.pkl...\n",
        "   that took 0.6 seconds"
       ]
      },
      {
       "output_type": "stream",
       "stream": "stdout",
       "text": [
        "\n",
        "Reading /data/DelayMeNot/RandomForest_models/by_origin/rfm_MDT.pkl...\n",
        "   that took 0.2 seconds"
       ]
      },
      {
       "output_type": "stream",
       "stream": "stdout",
       "text": [
        "\n",
        "Reading /data/DelayMeNot/RandomForest_models/by_origin/rfm_RDU.pkl...\n",
        "   that took 1.6 seconds"
       ]
      },
      {
       "output_type": "stream",
       "stream": "stdout",
       "text": [
        "\n",
        "Reading /data/DelayMeNot/RandomForest_models/by_origin/rfm_CID.pkl...\n",
        "   that took 0.3 seconds"
       ]
      },
      {
       "output_type": "stream",
       "stream": "stdout",
       "text": [
        "\n",
        "Reading /data/DelayMeNot/RandomForest_models/by_origin/rfm_MFR.pkl...\n",
        "   that took 0.2 seconds"
       ]
      },
      {
       "output_type": "stream",
       "stream": "stdout",
       "text": [
        "\n",
        "Reading /data/DelayMeNot/RandomForest_models/by_origin/rfm_PSP.pkl...\n",
        "   that took 0.4 seconds"
       ]
      },
      {
       "output_type": "stream",
       "stream": "stdout",
       "text": [
        "\n",
        "Reading /data/DelayMeNot/RandomForest_models/by_origin/rfm_BHM.pkl...\n",
        "   that took 0.8 seconds"
       ]
      },
      {
       "output_type": "stream",
       "stream": "stdout",
       "text": [
        "\n",
        "Reading /data/DelayMeNot/RandomForest_models/by_origin/rfm_PHL.pkl...\n",
        "   that took 3.0 seconds"
       ]
      },
      {
       "output_type": "stream",
       "stream": "stdout",
       "text": [
        "\n",
        "Reading /data/DelayMeNot/RandomForest_models/by_origin/rfm_BGR.pkl...\n",
        "   that took 0.2 seconds"
       ]
      },
      {
       "output_type": "stream",
       "stream": "stdout",
       "text": [
        "\n",
        "Reading /data/DelayMeNot/RandomForest_models/by_origin/rfm_JNU.pkl...\n",
        "   that took 0.2 seconds"
       ]
      },
      {
       "output_type": "stream",
       "stream": "stdout",
       "text": [
        "\n",
        "Reading /data/DelayMeNot/RandomForest_models/by_origin/rfm_PWM.pkl...\n",
        "   that took 0.3 seconds"
       ]
      },
      {
       "output_type": "stream",
       "stream": "stdout",
       "text": [
        "\n",
        "Reading /data/DelayMeNot/RandomForest_models/by_origin/rfm_IND.pkl...\n",
        "   that took 1.1 seconds"
       ]
      },
      {
       "output_type": "stream",
       "stream": "stdout",
       "text": [
        "\n",
        "Reading /data/DelayMeNot/RandomForest_models/by_origin/rfm_PHF.pkl...\n",
        "   that took 0.2 seconds"
       ]
      },
      {
       "output_type": "stream",
       "stream": "stdout",
       "text": [
        "\n",
        "Reading /data/DelayMeNot/RandomForest_models/by_origin/rfm_AUS.pkl...\n",
        "   that took 1.4 seconds"
       ]
      },
      {
       "output_type": "stream",
       "stream": "stdout",
       "text": [
        "\n",
        "Reading /data/DelayMeNot/RandomForest_models/by_origin/rfm_HSV.pkl...\n",
        "   that took 0.3 seconds"
       ]
      },
      {
       "output_type": "stream",
       "stream": "stdout",
       "text": [
        "\n",
        "Reading /data/DelayMeNot/RandomForest_models/by_origin/rfm_DFW.pkl...\n",
        "   that took 8.8 seconds"
       ]
      },
      {
       "output_type": "stream",
       "stream": "stdout",
       "text": [
        "\n",
        "Reading /data/DelayMeNot/RandomForest_models/by_origin/rfm_FAY.pkl...\n",
        "   that took 0.2 seconds"
       ]
      },
      {
       "output_type": "stream",
       "stream": "stdout",
       "text": [
        "\n",
        "Reading /data/DelayMeNot/RandomForest_models/by_origin/rfm_ITO.pkl...\n",
        "   that took 0.2 seconds"
       ]
      },
      {
       "output_type": "stream",
       "stream": "stdout",
       "text": [
        "\n",
        "Reading /data/DelayMeNot/RandomForest_models/by_origin/rfm_GJT.pkl...\n",
        "   that took 0.2 seconds"
       ]
      },
      {
       "output_type": "stream",
       "stream": "stdout",
       "text": [
        "\n",
        "Reading /data/DelayMeNot/RandomForest_models/by_origin/rfm_MYR.pkl...\n",
        "   that took 0.2 seconds"
       ]
      },
      {
       "output_type": "stream",
       "stream": "stdout",
       "text": [
        "\n",
        "Reading /data/DelayMeNot/RandomForest_models/by_origin/rfm_AVP.pkl...\n",
        "   that took 0.2 seconds"
       ]
      },
      {
       "output_type": "stream",
       "stream": "stdout",
       "text": [
        "\n",
        "Reading /data/DelayMeNot/RandomForest_models/by_origin/rfm_PIT.pkl...\n",
        "   that took 1.1 seconds"
       ]
      },
      {
       "output_type": "stream",
       "stream": "stdout",
       "text": [
        "\n",
        "Reading /data/DelayMeNot/RandomForest_models/by_origin/rfm_BZN.pkl...\n",
        "   that took 0.2 seconds"
       ]
      },
      {
       "output_type": "stream",
       "stream": "stdout",
       "text": [
        "\n",
        "Reading /data/DelayMeNot/RandomForest_models/by_origin/rfm_HOU.pkl...\n",
        "   that took 1.6 seconds"
       ]
      },
      {
       "output_type": "stream",
       "stream": "stdout",
       "text": [
        "\n",
        "Reading /data/DelayMeNot/RandomForest_models/by_origin/rfm_BIL.pkl...\n",
        "   that took 0.2 seconds"
       ]
      },
      {
       "output_type": "stream",
       "stream": "stdout",
       "text": [
        "\n",
        "Reading /data/DelayMeNot/RandomForest_models/by_origin/rfm_DCA.pkl...\n",
        "   that took 2.5 seconds"
       ]
      },
      {
       "output_type": "stream",
       "stream": "stdout",
       "text": [
        "\n",
        "Reading /data/DelayMeNot/RandomForest_models/by_origin/rfm_SEA.pkl...\n",
        "   that took 2.5 seconds"
       ]
      },
      {
       "output_type": "stream",
       "stream": "stdout",
       "text": [
        "\n",
        "Reading /data/DelayMeNot/RandomForest_models/by_origin/rfm_BNA.pkl...\n",
        "   that took 1.7 seconds"
       ]
      },
      {
       "output_type": "stream",
       "stream": "stdout",
       "text": [
        "\n",
        "Reading /data/DelayMeNot/RandomForest_models/by_origin/rfm_LIH.pkl...\n",
        "   that took 0.2 seconds"
       ]
      },
      {
       "output_type": "stream",
       "stream": "stdout",
       "text": [
        "\n",
        "Reading /data/DelayMeNot/RandomForest_models/by_origin/rfm_ROA.pkl...\n",
        "   that took 0.2 seconds"
       ]
      },
      {
       "output_type": "stream",
       "stream": "stdout",
       "text": [
        "\n",
        "Reading /data/DelayMeNot/RandomForest_models/by_origin/rfm_ATL.pkl...\n",
        "   that took 12.1 seconds"
       ]
      },
      {
       "output_type": "stream",
       "stream": "stdout",
       "text": [
        "\n",
        "Reading /data/DelayMeNot/RandomForest_models/by_origin/rfm_STT.pkl...\n",
        "   that took 0.2 seconds"
       ]
      },
      {
       "output_type": "stream",
       "stream": "stdout",
       "text": [
        "\n",
        "Reading /data/DelayMeNot/RandomForest_models/by_origin/rfm_GPT.pkl...\n",
        "   that took 0.2 seconds"
       ]
      },
      {
       "output_type": "stream",
       "stream": "stdout",
       "text": [
        "\n",
        "Reading /data/DelayMeNot/RandomForest_models/by_origin/rfm_AGS.pkl...\n",
        "   that took 0.2 seconds"
       ]
      },
      {
       "output_type": "stream",
       "stream": "stdout",
       "text": [
        "\n",
        "Reading /data/DelayMeNot/RandomForest_models/by_origin/rfm_ABQ.pkl...\n",
        "   that took 0.9 seconds"
       ]
      },
      {
       "output_type": "stream",
       "stream": "stdout",
       "text": [
        "\n",
        "Reading /data/DelayMeNot/RandomForest_models/by_origin/rfm_KTN.pkl...\n",
        "   that took 0.2 seconds"
       ]
      },
      {
       "output_type": "stream",
       "stream": "stdout",
       "text": [
        "\n",
        "Reading /data/DelayMeNot/RandomForest_models/by_origin/rfm_DSM.pkl...\n",
        "   that took 0.5 seconds"
       ]
      },
      {
       "output_type": "stream",
       "stream": "stdout",
       "text": [
        "\n",
        "Reading /data/DelayMeNot/RandomForest_models/by_origin/rfm_PIA.pkl...\n",
        "   that took 0.2 seconds"
       ]
      },
      {
       "output_type": "stream",
       "stream": "stdout",
       "text": [
        "\n",
        "Reading /data/DelayMeNot/RandomForest_models/by_origin/rfm_DAY.pkl...\n",
        "   that took 0.4 seconds"
       ]
      },
      {
       "output_type": "stream",
       "stream": "stdout",
       "text": [
        "\n",
        "Reading /data/DelayMeNot/RandomForest_models/by_origin/rfm_SYR.pkl...\n",
        "   that took 0.4 seconds"
       ]
      },
      {
       "output_type": "stream",
       "stream": "stdout",
       "text": [
        "\n",
        "Reading /data/DelayMeNot/RandomForest_models/by_origin/rfm_IAD.pkl...\n",
        "   that took 2.5 seconds"
       ]
      },
      {
       "output_type": "stream",
       "stream": "stdout",
       "text": [
        "\n",
        "Reading /data/DelayMeNot/RandomForest_models/by_origin/rfm_SNA.pkl...\n",
        "   that took 1.4 seconds"
       ]
      },
      {
       "output_type": "stream",
       "stream": "stdout",
       "text": [
        "\n",
        "Reading /data/DelayMeNot/RandomForest_models/by_origin/rfm_SRQ.pkl...\n",
        "   that took 0.2 seconds"
       ]
      },
      {
       "output_type": "stream",
       "stream": "stdout",
       "text": [
        "\n",
        "Reading /data/DelayMeNot/RandomForest_models/by_origin/rfm_HRL.pkl...\n",
        "   that took 0.2 seconds"
       ]
      },
      {
       "output_type": "stream",
       "stream": "stdout",
       "text": [
        "\n",
        "Reading /data/DelayMeNot/RandomForest_models/by_origin/rfm_GSP.pkl...\n",
        "   that took 0.5 seconds"
       ]
      },
      {
       "output_type": "stream",
       "stream": "stdout",
       "text": [
        "\n",
        "Reading /data/DelayMeNot/RandomForest_models/by_origin/rfm_RIC.pkl...\n",
        "   that took 0.6 seconds"
       ]
      },
      {
       "output_type": "stream",
       "stream": "stdout",
       "text": [
        "\n",
        "Reading /data/DelayMeNot/RandomForest_models/by_origin/rfm_JAX.pkl...\n",
        "   that took 0.9 seconds"
       ]
      },
      {
       "output_type": "stream",
       "stream": "stdout",
       "text": [
        "\n",
        "Reading /data/DelayMeNot/RandomForest_models/by_origin/rfm_OGG.pkl...\n",
        "   that took 0.5 seconds"
       ]
      },
      {
       "output_type": "stream",
       "stream": "stdout",
       "text": [
        "\n",
        "Reading /data/DelayMeNot/RandomForest_models/by_origin/rfm_TUL.pkl...\n",
        "   that took 0.6 seconds"
       ]
      },
      {
       "output_type": "stream",
       "stream": "stdout",
       "text": [
        "\n",
        "Reading /data/DelayMeNot/RandomForest_models/by_origin/rfm_MSP.pkl...\n",
        "   that took 3.6 seconds"
       ]
      },
      {
       "output_type": "stream",
       "stream": "stdout",
       "text": [
        "\n",
        "Reading /data/DelayMeNot/RandomForest_models/by_origin/rfm_MOB.pkl...\n",
        "   that took 0.3 seconds"
       ]
      },
      {
       "output_type": "stream",
       "stream": "stdout",
       "text": [
        "\n",
        "Reading /data/DelayMeNot/RandomForest_models/by_origin/rfm_PBI.pkl...\n",
        "   that took 0.8 seconds"
       ]
      },
      {
       "output_type": "stream",
       "stream": "stdout",
       "text": [
        "\n",
        "Reading /data/DelayMeNot/RandomForest_models/by_origin/rfm_FAR.pkl...\n",
        "   that took 0.2 seconds"
       ]
      },
      {
       "output_type": "stream",
       "stream": "stdout",
       "text": [
        "\n",
        "Reading /data/DelayMeNot/RandomForest_models/by_origin/rfm_BIS.pkl...\n",
        "   that took 0.2 seconds"
       ]
      },
      {
       "output_type": "stream",
       "stream": "stdout",
       "text": [
        "\n",
        "Reading /data/DelayMeNot/RandomForest_models/by_origin/rfm_SAT.pkl...\n",
        "   that took 1.1 seconds"
       ]
      },
      {
       "output_type": "stream",
       "stream": "stdout",
       "text": [
        "\n",
        "Reading /data/DelayMeNot/RandomForest_models/by_origin/rfm_AZO.pkl...\n",
        "   that took 0.2 seconds"
       ]
      },
      {
       "output_type": "stream",
       "stream": "stdout",
       "text": [
        "\n",
        "Reading /data/DelayMeNot/RandomForest_models/by_origin/rfm_MHT.pkl...\n",
        "   that took 0.4 seconds"
       ]
      },
      {
       "output_type": "stream",
       "stream": "stdout",
       "text": [
        "\n",
        "Reading /data/DelayMeNot/RandomForest_models/by_origin/rfm_MLB.pkl...\n",
        "   that took 0.2 seconds"
       ]
      },
      {
       "output_type": "stream",
       "stream": "stdout",
       "text": [
        "\n",
        "Reading /data/DelayMeNot/RandomForest_models/by_origin/rfm_MIA.pkl...\n",
        "   that took 3.0 seconds"
       ]
      },
      {
       "output_type": "stream",
       "stream": "stdout",
       "text": [
        "\n",
        "Reading /data/DelayMeNot/RandomForest_models/by_origin/rfm_MRY.pkl...\n",
        "   that took 0.2 seconds"
       ]
      },
      {
       "output_type": "stream",
       "stream": "stdout",
       "text": [
        "\n",
        "Reading /data/DelayMeNot/RandomForest_models/by_origin/rfm_BOI.pkl...\n",
        "   that took 0.4 seconds"
       ]
      },
      {
       "output_type": "stream",
       "stream": "stdout",
       "text": [
        "\n",
        "Reading /data/DelayMeNot/RandomForest_models/by_origin/rfm_MGM.pkl...\n",
        "   that took 0.2 seconds"
       ]
      },
      {
       "output_type": "stream",
       "stream": "stdout",
       "text": [
        "\n",
        "Reading /data/DelayMeNot/RandomForest_models/by_origin/rfm_BTV.pkl...\n",
        "   that took 0.2 seconds"
       ]
      },
      {
       "output_type": "stream",
       "stream": "stdout",
       "text": [
        "\n",
        "Reading /data/DelayMeNot/RandomForest_models/by_origin/rfm_TVC.pkl...\n",
        "   that took 0.2 seconds"
       ]
      },
      {
       "output_type": "stream",
       "stream": "stdout",
       "text": [
        "\n",
        "Reading /data/DelayMeNot/RandomForest_models/by_origin/rfm_TOL.pkl...\n",
        "   that took 0.2 seconds"
       ]
      },
      {
       "output_type": "stream",
       "stream": "stdout",
       "text": [
        "\n",
        "Reading /data/DelayMeNot/RandomForest_models/by_origin/rfm_CRP.pkl...\n",
        "   that took 0.2 seconds"
       ]
      },
      {
       "output_type": "stream",
       "stream": "stdout",
       "text": [
        "\n",
        "Reading /data/DelayMeNot/RandomForest_models/by_origin/rfm_ABE.pkl...\n",
        "   that took 0.2 seconds"
       ]
      },
      {
       "output_type": "stream",
       "stream": "stdout",
       "text": [
        "\n",
        "Reading /data/DelayMeNot/RandomForest_models/by_origin/rfm_LGA.pkl...\n",
        "   that took 3.0 seconds"
       ]
      },
      {
       "output_type": "stream",
       "stream": "stdout",
       "text": [
        "\n",
        "Reading /data/DelayMeNot/RandomForest_models/by_origin/rfm_SBP.pkl...\n",
        "   that took 0.3 seconds"
       ]
      },
      {
       "output_type": "stream",
       "stream": "stdout",
       "text": [
        "\n",
        "Reading /data/DelayMeNot/RandomForest_models/by_origin/rfm_EVV.pkl...\n",
        "   that took 0.3 seconds"
       ]
      },
      {
       "output_type": "stream",
       "stream": "stdout",
       "text": [
        "\n",
        "Reading /data/DelayMeNot/RandomForest_models/by_origin/rfm_SJC.pkl...\n",
        "   that took 1.1 seconds"
       ]
      },
      {
       "output_type": "stream",
       "stream": "stdout",
       "text": [
        "\n",
        "Reading /data/DelayMeNot/RandomForest_models/by_origin/rfm_LEX.pkl...\n",
        "   that took 0.3 seconds"
       ]
      },
      {
       "output_type": "stream",
       "stream": "stdout",
       "text": [
        "\n",
        "Reading /data/DelayMeNot/RandomForest_models/by_origin/rfm_COS.pkl...\n",
        "   that took 0.4 seconds"
       ]
      },
      {
       "output_type": "stream",
       "stream": "stdout",
       "text": [
        "\n",
        "Reading /data/DelayMeNot/RandomForest_models/by_origin/rfm_CAE.pkl...\n",
        "   that took 0.3 seconds"
       ]
      },
      {
       "output_type": "stream",
       "stream": "stdout",
       "text": [
        "\n",
        "Reading /data/DelayMeNot/RandomForest_models/by_origin/rfm_MDW.pkl...\n",
        "   that took 2.5 seconds"
       ]
      },
      {
       "output_type": "stream",
       "stream": "stdout",
       "text": [
        "\n",
        "Reading /data/DelayMeNot/RandomForest_models/by_origin/rfm_FSD.pkl...\n",
        "   that took 0.4 seconds"
       ]
      },
      {
       "output_type": "stream",
       "stream": "stdout",
       "text": [
        "\n",
        "Reading /data/DelayMeNot/RandomForest_models/by_origin/rfm_MSN.pkl...\n",
        "   that took 0.4 seconds"
       ]
      },
      {
       "output_type": "stream",
       "stream": "stdout",
       "text": [
        "\n",
        "Reading /data/DelayMeNot/RandomForest_models/by_origin/rfm_STL.pkl...\n",
        "   that took 1.8 seconds"
       ]
      },
      {
       "output_type": "stream",
       "stream": "stdout",
       "text": [
        "\n",
        "Reading /data/DelayMeNot/RandomForest_models/by_origin/rfm_FLL.pkl...\n",
        "   that took 2.0 seconds"
       ]
      },
      {
       "output_type": "stream",
       "stream": "stdout",
       "text": [
        "\n",
        "Reading /data/DelayMeNot/RandomForest_models/by_origin/rfm_DAL.pkl...\n",
        "   that took 1.5 seconds"
       ]
      },
      {
       "output_type": "stream",
       "stream": "stdout",
       "text": [
        "\n",
        "Reading /data/DelayMeNot/RandomForest_models/by_origin/rfm_PNS.pkl...\n",
        "   that took 0.4 seconds"
       ]
      },
      {
       "output_type": "stream",
       "stream": "stdout",
       "text": [
        "\n",
        "Reading /data/DelayMeNot/RandomForest_models/by_origin/rfm_ALB.pkl...\n",
        "   that took 0.4 seconds"
       ]
      },
      {
       "output_type": "stream",
       "stream": "stdout",
       "text": [
        "\n",
        "Reading /data/DelayMeNot/RandomForest_models/by_origin/rfm_MSY.pkl...\n",
        "   that took 1.3 seconds"
       ]
      },
      {
       "output_type": "stream",
       "stream": "stdout",
       "text": [
        "\n",
        "Reading /data/DelayMeNot/RandomForest_models/by_origin/rfm_ONT.pkl...\n",
        "   that took 0.7 seconds"
       ]
      },
      {
       "output_type": "stream",
       "stream": "stdout",
       "text": [
        "\n",
        "Reading /data/DelayMeNot/RandomForest_models/by_origin/rfm_GRB.pkl...\n",
        "   that took 0.2 seconds"
       ]
      },
      {
       "output_type": "stream",
       "stream": "stdout",
       "text": [
        "\n",
        "Reading /data/DelayMeNot/RandomForest_models/by_origin/rfm_SGF.pkl...\n",
        "   that took 0.3 seconds"
       ]
      },
      {
       "output_type": "stream",
       "stream": "stdout",
       "text": [
        "\n",
        "Reading /data/DelayMeNot/RandomForest_models/by_origin/rfm_JAC.pkl...\n",
        "   that took 0.2 seconds"
       ]
      },
      {
       "output_type": "stream",
       "stream": "stdout",
       "text": [
        "\n",
        "Reading /data/DelayMeNot/RandomForest_models/by_origin/rfm_RSW.pkl...\n",
        "   that took 0.8 seconds"
       ]
      },
      {
       "output_type": "stream",
       "stream": "stdout",
       "text": [
        "\n",
        "Reading /data/DelayMeNot/RandomForest_models/by_origin/rfm_TYS.pkl...\n",
        "   that took 0.5 seconds"
       ]
      },
      {
       "output_type": "stream",
       "stream": "stdout",
       "text": [
        "\n",
        "Reading /data/DelayMeNot/RandomForest_models/by_destination/rfm_XNA.pkl...\n",
        "   that took 0.6 seconds"
       ]
      },
      {
       "output_type": "stream",
       "stream": "stdout",
       "text": [
        "\n",
        "Reading /data/DelayMeNot/RandomForest_models/by_destination/rfm_MCI.pkl...\n",
        "   that took 1.9 seconds"
       ]
      },
      {
       "output_type": "stream",
       "stream": "stdout",
       "text": [
        "\n",
        "Reading /data/DelayMeNot/RandomForest_models/by_destination/rfm_RNO.pkl...\n",
        "   that took 0.6 seconds"
       ]
      },
      {
       "output_type": "stream",
       "stream": "stdout",
       "text": [
        "\n",
        "Reading /data/DelayMeNot/RandomForest_models/by_destination/rfm_DTW.pkl...\n",
        "   that took 3.7 seconds"
       ]
      },
      {
       "output_type": "stream",
       "stream": "stdout",
       "text": [
        "\n",
        "Reading /data/DelayMeNot/RandomForest_models/by_destination/rfm_SAV.pkl...\n",
        "   that took 0.5 seconds"
       ]
      },
      {
       "output_type": "stream",
       "stream": "stdout",
       "text": [
        "\n",
        "Reading /data/DelayMeNot/RandomForest_models/by_destination/rfm_SMF.pkl...\n",
        "   that took 1.5 seconds"
       ]
      },
      {
       "output_type": "stream",
       "stream": "stdout",
       "text": [
        "\n",
        "Reading /data/DelayMeNot/RandomForest_models/by_destination/rfm_BUF.pkl...\n",
        "   that took 0.9 seconds"
       ]
      },
      {
       "output_type": "stream",
       "stream": "stdout",
       "text": [
        "\n",
        "Reading /data/DelayMeNot/RandomForest_models/by_destination/rfm_DEN.pkl...\n",
        "   that took 6.5 seconds"
       ]
      },
      {
       "output_type": "stream",
       "stream": "stdout",
       "text": [
        "\n",
        "Reading /data/DelayMeNot/RandomForest_models/by_destination/rfm_OMA.pkl...\n",
        "   that took 0.9 seconds"
       ]
      },
      {
       "output_type": "stream",
       "stream": "stdout",
       "text": [
        "\n",
        "Reading /data/DelayMeNot/RandomForest_models/by_destination/rfm_PHX.pkl...\n",
        "   that took 4.4 seconds"
       ]
      },
      {
       "output_type": "stream",
       "stream": "stdout",
       "text": [
        "\n",
        "Reading /data/DelayMeNot/RandomForest_models/by_destination/rfm_SFO.pkl...\n",
        "   that took 5.3 seconds"
       ]
      },
      {
       "output_type": "stream",
       "stream": "stdout",
       "text": [
        "\n",
        "Reading /data/DelayMeNot/RandomForest_models/by_destination/rfm_CHS.pkl...\n",
        "   that took 0.5 seconds"
       ]
      },
      {
       "output_type": "stream",
       "stream": "stdout",
       "text": [
        "\n",
        "Reading /data/DelayMeNot/RandomForest_models/by_destination/rfm_SJU.pkl...\n",
        "   that took 0.8 seconds"
       ]
      },
      {
       "output_type": "stream",
       "stream": "stdout",
       "text": [
        "\n",
        "Reading /data/DelayMeNot/RandomForest_models/by_destination/rfm_ICT.pkl...\n",
        "   that took 0.5 seconds"
       ]
      },
      {
       "output_type": "stream",
       "stream": "stdout",
       "text": [
        "\n",
        "Reading /data/DelayMeNot/RandomForest_models/by_destination/rfm_BWI.pkl...\n",
        "   that took 2.7 seconds"
       ]
      },
      {
       "output_type": "stream",
       "stream": "stdout",
       "text": [
        "\n",
        "Reading /data/DelayMeNot/RandomForest_models/by_destination/rfm_ORD.pkl...\n",
        "   that took 8.8 seconds"
       ]
      },
      {
       "output_type": "stream",
       "stream": "stdout",
       "text": [
        "\n",
        "Reading /data/DelayMeNot/RandomForest_models/by_destination/rfm_GEG.pkl...\n",
        "   that took 0.4 seconds"
       ]
      },
      {
       "output_type": "stream",
       "stream": "stdout",
       "text": [
        "\n",
        "Reading /data/DelayMeNot/RandomForest_models/by_destination/rfm_CVG.pkl...\n",
        "   that took 1.5 seconds"
       ]
      },
      {
       "output_type": "stream",
       "stream": "stdout",
       "text": [
        "\n",
        "Reading /data/DelayMeNot/RandomForest_models/by_destination/rfm_ORF.pkl...\n",
        "   that took 0.6 seconds"
       ]
      },
      {
       "output_type": "stream",
       "stream": "stdout",
       "text": [
        "\n",
        "Reading /data/DelayMeNot/RandomForest_models/by_destination/rfm_BUR.pkl...\n",
        "   that took 0.7 seconds"
       ]
      },
      {
       "output_type": "stream",
       "stream": "stdout",
       "text": [
        "\n",
        "Reading /data/DelayMeNot/RandomForest_models/by_destination/rfm_BOS.pkl...\n",
        "   that took 3.7 seconds"
       ]
      },
      {
       "output_type": "stream",
       "stream": "stdout",
       "text": [
        "\n",
        "Reading /data/DelayMeNot/RandomForest_models/by_destination/rfm_SAN.pkl...\n",
        "   that took 2.4 seconds"
       ]
      },
      {
       "output_type": "stream",
       "stream": "stdout",
       "text": [
        "\n",
        "Reading /data/DelayMeNot/RandomForest_models/by_destination/rfm_HNL.pkl...\n",
        "   that took 1.1 seconds"
       ]
      },
      {
       "output_type": "stream",
       "stream": "stdout",
       "text": [
        "\n",
        "Reading /data/DelayMeNot/RandomForest_models/by_destination/rfm_LIT.pkl...\n",
        "   that took 0.7 seconds"
       ]
      },
      {
       "output_type": "stream",
       "stream": "stdout",
       "text": [
        "\n",
        "Reading /data/DelayMeNot/RandomForest_models/by_destination/rfm_ROC.pkl...\n",
        "   that took 0.4 seconds"
       ]
      },
      {
       "output_type": "stream",
       "stream": "stdout",
       "text": [
        "\n",
        "Reading /data/DelayMeNot/RandomForest_models/by_destination/rfm_MEM.pkl...\n",
        "   that took 1.9 seconds"
       ]
      },
      {
       "output_type": "stream",
       "stream": "stdout",
       "text": [
        "\n",
        "Reading /data/DelayMeNot/RandomForest_models/by_destination/rfm_SDF.pkl...\n",
        "   that took 0.7 seconds"
       ]
      },
      {
       "output_type": "stream",
       "stream": "stdout",
       "text": [
        "\n",
        "Reading /data/DelayMeNot/RandomForest_models/by_destination/rfm_CLT.pkl...\n",
        "   that took 3.4 seconds"
       ]
      },
      {
       "output_type": "stream",
       "stream": "stdout",
       "text": [
        "\n",
        "Reading /data/DelayMeNot/RandomForest_models/by_destination/rfm_CLE.pkl...\n",
        "   that took 2.0 seconds"
       ]
      },
      {
       "output_type": "stream",
       "stream": "stdout",
       "text": [
        "\n",
        "Reading /data/DelayMeNot/RandomForest_models/by_destination/rfm_HPN.pkl...\n",
        "   that took 0.4 seconds"
       ]
      },
      {
       "output_type": "stream",
       "stream": "stdout",
       "text": [
        "\n",
        "Reading /data/DelayMeNot/RandomForest_models/by_destination/rfm_JAN.pkl...\n",
        "   that took 0.4 seconds"
       ]
      },
      {
       "output_type": "stream",
       "stream": "stdout",
       "text": [
        "\n",
        "Reading /data/DelayMeNot/RandomForest_models/by_destination/rfm_LAX.pkl...\n",
        "   that took 6.1 seconds"
       ]
      },
      {
       "output_type": "stream",
       "stream": "stdout",
       "text": [
        "\n",
        "Reading /data/DelayMeNot/RandomForest_models/by_destination/rfm_BDL.pkl...\n",
        "   that took 0.8 seconds"
       ]
      },
      {
       "output_type": "stream",
       "stream": "stdout",
       "text": [
        "\n",
        "Reading /data/DelayMeNot/RandomForest_models/by_destination/rfm_CMH.pkl...\n",
        "   that took 1.1 seconds"
       ]
      },
      {
       "output_type": "stream",
       "stream": "stdout",
       "text": [
        "\n",
        "Reading /data/DelayMeNot/RandomForest_models/by_destination/rfm_OAK.pkl...\n",
        "   that took 1.3 seconds"
       ]
      },
      {
       "output_type": "stream",
       "stream": "stdout",
       "text": [
        "\n",
        "Reading /data/DelayMeNot/RandomForest_models/by_destination/rfm_LGB.pkl...\n",
        "   that took 0.4 seconds"
       ]
      },
      {
       "output_type": "stream",
       "stream": "stdout",
       "text": [
        "\n",
        "Reading /data/DelayMeNot/RandomForest_models/by_destination/rfm_PVD.pkl...\n",
        "   that took 0.6 seconds"
       ]
      },
      {
       "output_type": "stream",
       "stream": "stdout",
       "text": [
        "\n",
        "Reading /data/DelayMeNot/RandomForest_models/by_destination/rfm_TPA.pkl...\n",
        "   that took 2.4 seconds"
       ]
      },
      {
       "output_type": "stream",
       "stream": "stdout",
       "text": [
        "\n",
        "Reading /data/DelayMeNot/RandomForest_models/by_destination/rfm_FAT.pkl...\n",
        "   that took 0.4 seconds"
       ]
      },
      {
       "output_type": "stream",
       "stream": "stdout",
       "text": [
        "\n",
        "Reading /data/DelayMeNot/RandomForest_models/by_destination/rfm_GRR.pkl...\n",
        "   that took 0.5 seconds"
       ]
      },
      {
       "output_type": "stream",
       "stream": "stdout",
       "text": [
        "\n",
        "Reading /data/DelayMeNot/RandomForest_models/by_destination/rfm_KOA.pkl...\n",
        "   that took 0.3 seconds"
       ]
      },
      {
       "output_type": "stream",
       "stream": "stdout",
       "text": [
        "\n",
        "Reading /data/DelayMeNot/RandomForest_models/by_destination/rfm_MCO.pkl...\n",
        "   that took 3.9 seconds"
       ]
      },
      {
       "output_type": "stream",
       "stream": "stdout",
       "text": [
        "\n",
        "Reading /data/DelayMeNot/RandomForest_models/by_destination/rfm_JFK.pkl...\n",
        "   that took 3.7 seconds"
       ]
      },
      {
       "output_type": "stream",
       "stream": "stdout",
       "text": [
        "\n",
        "Reading /data/DelayMeNot/RandomForest_models/by_destination/rfm_MKE.pkl...\n",
        "   that took 1.3 seconds"
       ]
      },
      {
       "output_type": "stream",
       "stream": "stdout",
       "text": [
        "\n",
        "Reading /data/DelayMeNot/RandomForest_models/by_destination/rfm_EWR.pkl...\n",
        "   that took 3.9 seconds"
       ]
      },
      {
       "output_type": "stream",
       "stream": "stdout",
       "text": [
        "\n",
        "Reading /data/DelayMeNot/RandomForest_models/by_destination/rfm_LAS.pkl...\n",
        "   that took 4.3 seconds"
       ]
      },
      {
       "output_type": "stream",
       "stream": "stdout",
       "text": [
        "\n",
        "Reading /data/DelayMeNot/RandomForest_models/by_destination/rfm_IAH.pkl...\n",
        "   that took 4.7 seconds"
       ]
      },
      {
       "output_type": "stream",
       "stream": "stdout",
       "text": [
        "\n",
        "Reading /data/DelayMeNot/RandomForest_models/by_destination/rfm_TUS.pkl...\n",
        "   that took 0.9 seconds"
       ]
      },
      {
       "output_type": "stream",
       "stream": "stdout",
       "text": [
        "\n",
        "Reading /data/DelayMeNot/RandomForest_models/by_destination/rfm_OKC.pkl...\n",
        "   that took 0.9 seconds"
       ]
      },
      {
       "output_type": "stream",
       "stream": "stdout",
       "text": [
        "\n",
        "Reading /data/DelayMeNot/RandomForest_models/by_destination/rfm_SLC.pkl...\n",
        "   that took 2.8 seconds"
       ]
      },
      {
       "output_type": "stream",
       "stream": "stdout",
       "text": [
        "\n",
        "Reading /data/DelayMeNot/RandomForest_models/by_destination/rfm_PDX.pkl...\n",
        "   that took 1.5 seconds"
       ]
      },
      {
       "output_type": "stream",
       "stream": "stdout",
       "text": [
        "\n",
        "Reading /data/DelayMeNot/RandomForest_models/by_destination/rfm_SBA.pkl...\n",
        "   that took 0.6 seconds"
       ]
      },
      {
       "output_type": "stream",
       "stream": "stdout",
       "text": [
        "\n",
        "Reading /data/DelayMeNot/RandomForest_models/by_destination/rfm_ANC.pkl...\n",
        "   that took 0.5 seconds"
       ]
      },
      {
       "output_type": "stream",
       "stream": "stdout",
       "text": [
        "\n",
        "Reading /data/DelayMeNot/RandomForest_models/by_destination/rfm_GSO.pkl...\n",
        "   that took 0.4 seconds"
       ]
      },
      {
       "output_type": "stream",
       "stream": "stdout",
       "text": [
        "\n",
        "Reading /data/DelayMeNot/RandomForest_models/by_destination/rfm_ELP.pkl...\n",
        "   that took 0.7 seconds"
       ]
      },
      {
       "output_type": "stream",
       "stream": "stdout",
       "text": [
        "\n",
        "Reading /data/DelayMeNot/RandomForest_models/by_destination/rfm_RDU.pkl...\n",
        "   that took 1.6 seconds"
       ]
      },
      {
       "output_type": "stream",
       "stream": "stdout",
       "text": [
        "\n",
        "Reading /data/DelayMeNot/RandomForest_models/by_destination/rfm_PSP.pkl...\n",
        "   that took 0.4 seconds"
       ]
      },
      {
       "output_type": "stream",
       "stream": "stdout",
       "text": [
        "\n",
        "Reading /data/DelayMeNot/RandomForest_models/by_destination/rfm_BHM.pkl...\n",
        "   that took 0.7 seconds"
       ]
      },
      {
       "output_type": "stream",
       "stream": "stdout",
       "text": [
        "\n",
        "Reading /data/DelayMeNot/RandomForest_models/by_destination/rfm_PHL.pkl...\n",
        "   that took 3.1 seconds"
       ]
      },
      {
       "output_type": "stream",
       "stream": "stdout",
       "text": [
        "\n",
        "Reading /data/DelayMeNot/RandomForest_models/by_destination/rfm_IND.pkl...\n",
        "   that took 1.1 seconds"
       ]
      },
      {
       "output_type": "stream",
       "stream": "stdout",
       "text": [
        "\n",
        "Reading /data/DelayMeNot/RandomForest_models/by_destination/rfm_AUS.pkl...\n",
        "   that took 1.7 seconds"
       ]
      },
      {
       "output_type": "stream",
       "stream": "stdout",
       "text": [
        "\n",
        "Reading /data/DelayMeNot/RandomForest_models/by_destination/rfm_HSV.pkl...\n",
        "   that took 0.4 seconds"
       ]
      },
      {
       "output_type": "stream",
       "stream": "stdout",
       "text": [
        "\n",
        "Reading /data/DelayMeNot/RandomForest_models/by_destination/rfm_DFW.pkl...\n",
        "   that took 7.6 seconds"
       ]
      },
      {
       "output_type": "stream",
       "stream": "stdout",
       "text": [
        "\n",
        "Reading /data/DelayMeNot/RandomForest_models/by_destination/rfm_PIT.pkl...\n",
        "   that took 1.2 seconds"
       ]
      },
      {
       "output_type": "stream",
       "stream": "stdout",
       "text": [
        "\n",
        "Reading /data/DelayMeNot/RandomForest_models/by_destination/rfm_HOU.pkl...\n",
        "   that took 1.6 seconds"
       ]
      },
      {
       "output_type": "stream",
       "stream": "stdout",
       "text": [
        "\n",
        "Reading /data/DelayMeNot/RandomForest_models/by_destination/rfm_DCA.pkl...\n",
        "   that took 2.2 seconds"
       ]
      },
      {
       "output_type": "stream",
       "stream": "stdout",
       "text": [
        "\n",
        "Reading /data/DelayMeNot/RandomForest_models/by_destination/rfm_SEA.pkl...\n",
        "   that took 2.9 seconds"
       ]
      },
      {
       "output_type": "stream",
       "stream": "stdout",
       "text": [
        "\n",
        "Reading /data/DelayMeNot/RandomForest_models/by_destination/rfm_BNA.pkl...\n",
        "   that took 1.7 seconds"
       ]
      },
      {
       "output_type": "stream",
       "stream": "stdout",
       "text": [
        "\n",
        "Reading /data/DelayMeNot/RandomForest_models/by_destination/rfm_LIH.pkl...\n",
        "   that took 0.3 seconds"
       ]
      },
      {
       "output_type": "stream",
       "stream": "stdout",
       "text": [
        "\n",
        "Reading /data/DelayMeNot/RandomForest_models/by_destination/rfm_ATL.pkl...\n",
        "   that took 10.9 seconds"
       ]
      },
      {
       "output_type": "stream",
       "stream": "stdout",
       "text": [
        "\n",
        "Reading /data/DelayMeNot/RandomForest_models/by_destination/rfm_ABQ.pkl...\n",
        "   that took 1.1 seconds"
       ]
      },
      {
       "output_type": "stream",
       "stream": "stdout",
       "text": [
        "\n",
        "Reading /data/DelayMeNot/RandomForest_models/by_destination/rfm_DSM.pkl...\n",
        "   that took 0.5 seconds"
       ]
      },
      {
       "output_type": "stream",
       "stream": "stdout",
       "text": [
        "\n",
        "Reading /data/DelayMeNot/RandomForest_models/by_destination/rfm_DAY.pkl...\n",
        "   that took 0.6 seconds"
       ]
      },
      {
       "output_type": "stream",
       "stream": "stdout",
       "text": [
        "\n",
        "Reading /data/DelayMeNot/RandomForest_models/by_destination/rfm_SYR.pkl...\n",
        "   that took 0.4 seconds"
       ]
      },
      {
       "output_type": "stream",
       "stream": "stdout",
       "text": [
        "\n",
        "Reading /data/DelayMeNot/RandomForest_models/by_destination/rfm_IAD.pkl...\n",
        "   that took 2.4 seconds"
       ]
      },
      {
       "output_type": "stream",
       "stream": "stdout",
       "text": [
        "\n",
        "Reading /data/DelayMeNot/RandomForest_models/by_destination/rfm_SNA.pkl...\n",
        "   that took 1.4 seconds"
       ]
      },
      {
       "output_type": "stream",
       "stream": "stdout",
       "text": [
        "\n",
        "Reading /data/DelayMeNot/RandomForest_models/by_destination/rfm_GSP.pkl...\n",
        "   that took 0.5 seconds"
       ]
      },
      {
       "output_type": "stream",
       "stream": "stdout",
       "text": [
        "\n",
        "Reading /data/DelayMeNot/RandomForest_models/by_destination/rfm_RIC.pkl...\n",
        "   that took 0.8 seconds"
       ]
      },
      {
       "output_type": "stream",
       "stream": "stdout",
       "text": [
        "\n",
        "Reading /data/DelayMeNot/RandomForest_models/by_destination/rfm_JAX.pkl...\n",
        "   that took 1.0 seconds"
       ]
      },
      {
       "output_type": "stream",
       "stream": "stdout",
       "text": [
        "\n",
        "Reading /data/DelayMeNot/RandomForest_models/by_destination/rfm_OGG.pkl...\n",
        "   that took 0.5 seconds"
       ]
      },
      {
       "output_type": "stream",
       "stream": "stdout",
       "text": [
        "\n",
        "Reading /data/DelayMeNot/RandomForest_models/by_destination/rfm_TUL.pkl...\n",
        "   that took 0.8 seconds"
       ]
      },
      {
       "output_type": "stream",
       "stream": "stdout",
       "text": [
        "\n",
        "Reading /data/DelayMeNot/RandomForest_models/by_destination/rfm_MSP.pkl...\n",
        "   that took 3.4 seconds"
       ]
      },
      {
       "output_type": "stream",
       "stream": "stdout",
       "text": [
        "\n",
        "Reading /data/DelayMeNot/RandomForest_models/by_destination/rfm_PBI.pkl...\n",
        "   that took 0.9 seconds"
       ]
      },
      {
       "output_type": "stream",
       "stream": "stdout",
       "text": [
        "\n",
        "Reading /data/DelayMeNot/RandomForest_models/by_destination/rfm_SAT.pkl...\n",
        "   that took 1.4 seconds"
       ]
      },
      {
       "output_type": "stream",
       "stream": "stdout",
       "text": [
        "\n",
        "Reading /data/DelayMeNot/RandomForest_models/by_destination/rfm_MHT.pkl...\n",
        "   that took 0.5 seconds"
       ]
      },
      {
       "output_type": "stream",
       "stream": "stdout",
       "text": [
        "\n",
        "Reading /data/DelayMeNot/RandomForest_models/by_destination/rfm_MIA.pkl...\n",
        "   that took 2.3 seconds"
       ]
      },
      {
       "output_type": "stream",
       "stream": "stdout",
       "text": [
        "\n",
        "Reading /data/DelayMeNot/RandomForest_models/by_destination/rfm_BOI.pkl...\n",
        "   that took 0.7 seconds"
       ]
      },
      {
       "output_type": "stream",
       "stream": "stdout",
       "text": [
        "\n",
        "Reading /data/DelayMeNot/RandomForest_models/by_destination/rfm_LGA.pkl...\n",
        "   that took 3.2 seconds"
       ]
      },
      {
       "output_type": "stream",
       "stream": "stdout",
       "text": [
        "\n",
        "Reading /data/DelayMeNot/RandomForest_models/by_destination/rfm_SJC.pkl...\n",
        "   that took 1.2 seconds"
       ]
      },
      {
       "output_type": "stream",
       "stream": "stdout",
       "text": [
        "\n",
        "Reading /data/DelayMeNot/RandomForest_models/by_destination/rfm_COS.pkl...\n",
        "   that took 0.5 seconds"
       ]
      },
      {
       "output_type": "stream",
       "stream": "stdout",
       "text": [
        "\n",
        "Reading /data/DelayMeNot/RandomForest_models/by_destination/rfm_MDW.pkl...\n",
        "   that took 2.4 seconds"
       ]
      },
      {
       "output_type": "stream",
       "stream": "stdout",
       "text": [
        "\n",
        "Reading /data/DelayMeNot/RandomForest_models/by_destination/rfm_MSN.pkl...\n",
        "   that took 0.4 seconds"
       ]
      },
      {
       "output_type": "stream",
       "stream": "stdout",
       "text": [
        "\n",
        "Reading /data/DelayMeNot/RandomForest_models/by_destination/rfm_STL.pkl...\n",
        "   that took 1.7 seconds"
       ]
      },
      {
       "output_type": "stream",
       "stream": "stdout",
       "text": [
        "\n",
        "Reading /data/DelayMeNot/RandomForest_models/by_destination/rfm_FLL.pkl...\n",
        "   that took 2.1 seconds"
       ]
      },
      {
       "output_type": "stream",
       "stream": "stdout",
       "text": [
        "\n",
        "Reading /data/DelayMeNot/RandomForest_models/by_destination/rfm_DAL.pkl...\n",
        "   that took 1.6 seconds"
       ]
      },
      {
       "output_type": "stream",
       "stream": "stdout",
       "text": [
        "\n",
        "Reading /data/DelayMeNot/RandomForest_models/by_destination/rfm_PNS.pkl...\n",
        "   that took 0.5 seconds"
       ]
      },
      {
       "output_type": "stream",
       "stream": "stdout",
       "text": [
        "\n",
        "Reading /data/DelayMeNot/RandomForest_models/by_destination/rfm_ALB.pkl...\n",
        "   that took 0.4 seconds"
       ]
      },
      {
       "output_type": "stream",
       "stream": "stdout",
       "text": [
        "\n",
        "Reading /data/DelayMeNot/RandomForest_models/by_destination/rfm_MSY.pkl...\n",
        "   that took 1.2 seconds"
       ]
      },
      {
       "output_type": "stream",
       "stream": "stdout",
       "text": [
        "\n",
        "Reading /data/DelayMeNot/RandomForest_models/by_destination/rfm_ONT.pkl...\n",
        "   that took 0.7 seconds"
       ]
      },
      {
       "output_type": "stream",
       "stream": "stdout",
       "text": [
        "\n",
        "Reading /data/DelayMeNot/RandomForest_models/by_destination/rfm_RSW.pkl...\n",
        "   that took 0.9 seconds"
       ]
      },
      {
       "output_type": "stream",
       "stream": "stdout",
       "text": [
        "\n",
        "Reading /data/DelayMeNot/RandomForest_models/by_destination/rfm_TYS.pkl...\n",
        "   that took 0.5 seconds"
       ]
      },
      {
       "output_type": "stream",
       "stream": "stdout",
       "text": [
        "\n"
       ]
      }
     ],
     "prompt_number": 3
    },
    {
     "cell_type": "code",
     "collapsed": false,
     "input": [
      "origin_model_summaries['SFO']['training']['NumFlights']"
     ],
     "language": "python",
     "outputs": [
      {
       "output_type": "pyout",
       "prompt_number": 25,
       "text": [
        "532802"
       ]
      }
     ],
     "prompt_number": 25
    },
    {
     "cell_type": "code",
     "collapsed": false,
     "input": [
      "okeys = origin_model_summaries.keys()\n",
      "dkeys = destination_model_summaries.keys()\n",
      "\n",
      "airports = list(set(okeys).intersection(dkeys))\n",
      "\n",
      "### Sort by decreasing Destination NumFlightsTrain\n",
      "NumFlights = [destination_model_summaries[a]['training']['NumFlights'] for a in airports]\n",
      "NumFlights, airports = zip(* sorted( zip(NumFlights,airports), reverse=True ) )\n",
      "\n",
      "tkeys = ['ErrorRate','FalsePositiveRate','FalseNegativeRate','Recall','Precision']\n",
      "\n",
      "origin_results = {}\n",
      "origin_results['TimeToTrain'] = np.array([origin_model_summaries[a]['time_to_train'] for a in airports])\n",
      "origin_results['NumFlightsTrain'] = np.array([origin_model_summaries[a]['training']['NumFlights'] for a in airports])\n",
      "for tk in tkeys:\n",
      "    origin_results[tk] = np.array([origin_model_summaries[a]['test'][tk] for a in airports])\n",
      "\n",
      "destination_results = {}\n",
      "destination_results['TimeToTrain'] = np.array([destination_model_summaries[a]['time_to_train'] for a in airports])\n",
      "destination_results['NumFlightsTrain'] = np.array([destination_model_summaries[a]['training']['NumFlights'] for a in airports])\n",
      "for tk in tkeys:\n",
      "    destination_results[tk] = np.array([destination_model_summaries[a]['test'][tk] for a in airports])\n"
     ],
     "language": "python",
     "outputs": [],
     "prompt_number": 56
    },
    {
     "cell_type": "code",
     "collapsed": false,
     "input": [
      "import matplotlib.pyplot as plt\n",
      "\n",
      "from matplotlib.ticker import NullLocator\n",
      "\n",
      "Np = len(airports)\n",
      "\n",
      "fig = plt.figure(figsize=(10,5))\n",
      "ax = plt.axes([0.075,0.1,0.9,0.85])\n",
      "\n",
      "p1, = ax.plot(origin_results['Recall'],'bo',ls='-')\n",
      "p2, = ax.plot(destination_results['Recall'],'ro',ls='-')\n",
      "\n",
      "ax.annotate(airports[1], xy=(1, destination_results['Recall'][1] ), xycoords='data',\n",
      "\t    xytext=(5, 30), textcoords='offset points',\n",
      "\t    size=14,\n",
      "\t    arrowprops=dict(arrowstyle='simple',\n",
      "\t\t\t    shrinkB=5,\n",
      "\t\t\t    fc=\"0.6\", ec=\"none\",\n",
      "\t\t\t    connectionstyle=\"arc3,rad=0.3\") )\n",
      "\n",
      "ax.annotate(airports[8], xy=(8, destination_results['Recall'][8] ), xycoords='data',\n",
      "\t    xytext=(2, 20), textcoords='offset points',\n",
      "\t    size=14,\n",
      "\t    arrowprops=dict(arrowstyle='simple',\n",
      "\t\t\t    shrinkB=5,\n",
      "\t\t\t    fc=\"0.6\", ec=\"none\",\n",
      "\t\t\t    connectionstyle=\"arc3,rad=0.3\") )\n",
      "\n",
      "ax.annotate(airports[14], xy=(14, destination_results['Recall'][14] ), xycoords='data',\n",
      "\t    xytext=(10, 20), textcoords='offset points',\n",
      "\t    size=14,\n",
      "\t    arrowprops=dict(arrowstyle='simple',\n",
      "\t\t\t    shrinkB=5,\n",
      "\t\t\t    fc=\"0.6\", ec=\"none\",\n",
      "\t\t\t    connectionstyle=\"arc3,rad=0.3\") )\n",
      "\n",
      "ax.annotate(airports[19], xy=(19, destination_results['Recall'][19] ), xycoords='data',\n",
      "\t    xytext=(2, 30), textcoords='offset points',\n",
      "\t    size=14,\n",
      "\t    arrowprops=dict(arrowstyle='simple',\n",
      "\t\t\t    shrinkB=5,\n",
      "\t\t\t    fc=\"0.6\", ec=\"none\",\n",
      "\t\t\t    connectionstyle=\"arc3,rad=0.3\") )\n",
      "\n",
      "ax.annotate(airports[-9], xy=(Np-9, origin_results['Recall'][-9] ), xycoords='data',\n",
      "\t    xytext=(2, 30), textcoords='offset points',\n",
      "\t    size=14,\n",
      "\t    arrowprops=dict(arrowstyle='simple',\n",
      "\t\t\t    shrinkB=5,\n",
      "\t\t\t    fc=\"0.6\", ec=\"none\",\n",
      "\t\t\t    connectionstyle=\"arc3,rad=0.3\") )\n",
      "\n",
      "\n",
      "ax.legend([p1,p2],['Origin model','Destination model'],loc='upper right',fancybox=True,numpoints=1)\n",
      "\n",
      "ax.set_xlabel('Airports', size=16)\n",
      "ax.set_ylabel('Recall', size=16)\n",
      "\n",
      "ax.xaxis.set_major_locator(NullLocator())\n",
      "\n",
      "ax.set_xlim([-1,Np+1])\n",
      "\n",
      "plt.savefig('Recall_vs_airport.pdf',dpi=150)\n"
     ],
     "language": "python",
     "outputs": [
      {
       "output_type": "display_data",
       "png": "[encoded data removed]",
       "text": [
        "<matplotlib.figure.Figure at 0x1444e710>"
       ]
      }
     ],
     "prompt_number": 108
    },
    {
     "cell_type": "markdown",
     "source": [
      "### Model scans over a whole year for a few specific flights ###"
     ]
    },
    {
     "cell_type": "code",
     "collapsed": false,
     "input": [
      "hdf = pd.read_fwf('../data/US_holidays_1997-2020.txt',colspecs=[[0,2],[3,5],[6,10],[12,50]],header=None,names=['Month','Day','Year','Holiday'])\n",
      "hdf['Holiday'] = hdf['Holiday'].apply(lambda x: x[:-1])\n",
      "holiday_dates = hdf.apply(lambda x: datetime.date(x['Year'],x['Month'],x['Day']),axis=1).values\n",
      "del hdf"
     ],
     "language": "python",
     "outputs": [],
     "prompt_number": 90
    },
    {
     "cell_type": "code",
     "collapsed": false,
     "input": [
      "### EWR -> SFO (on United)\n",
      "Origin_Airport = 'EWR'\n",
      "Destination_Airport = 'SFO'\n",
      "Carrier = 'UA'"
     ],
     "language": "python",
     "outputs": [],
     "prompt_number": 192
    },
    {
     "cell_type": "code",
     "collapsed": false,
     "input": [
      "### SFO -> EWR (on United)\n",
      "Origin_Airport = 'SFO'\n",
      "Destination_Airport = 'EWR'\n",
      "Carrier = 'UA'"
     ],
     "language": "python",
     "outputs": [],
     "prompt_number": 195
    },
    {
     "cell_type": "code",
     "collapsed": false,
     "input": [
      "### LGA -> ORD (on United)\n",
      "Origin_Airport = 'LGA'\n",
      "Destination_Airport = 'ORD'\n",
      "Carrier = 'UA'"
     ],
     "language": "python",
     "outputs": [],
     "prompt_number": 202
    },
    {
     "cell_type": "code",
     "collapsed": false,
     "input": [
      "### ORD -> LGA (on United)\n",
      "Origin_Airport = 'ORD'\n",
      "Destination_Airport = 'LGA'\n",
      "Carrier = 'UA'"
     ],
     "language": "python",
     "outputs": [],
     "prompt_number": 208
    },
    {
     "cell_type": "code",
     "collapsed": false,
     "input": [
      "### EWR -> DFW (on United)\n",
      "Origin_Airport = 'EWR'\n",
      "Destination_Airport = 'DFW'\n",
      "Carrier = 'UA'"
     ],
     "language": "python",
     "outputs": [],
     "prompt_number": 212
    },
    {
     "cell_type": "code",
     "collapsed": false,
     "input": [
      "### LAX -> ATL (on United)\n",
      "Origin_Airport = 'LAX'\n",
      "Destination_Airport = 'ATL'\n",
      "Carrier = 'UA'"
     ],
     "language": "python",
     "outputs": [],
     "prompt_number": 224
    },
    {
     "cell_type": "code",
     "collapsed": false,
     "input": [
      "### Load Random Forest model for destination\n",
      "\n",
      "try:\n",
      "    del rfor, model_summary\n",
      "except NameError:\n",
      "    pass\n",
      "\n",
      "filename = '/data/DelayMeNot/RandomForest_models/by_destination/rfm_%s.pkl' % Destination_Airport\n",
      "f = open(filename,'rb')\n",
      "(rfor, model_summary) = cPickle.load(f)\n",
      "f.close()\n"
     ],
     "language": "python",
     "outputs": [],
     "prompt_number": 225
    },
    {
     "cell_type": "code",
     "collapsed": false,
     "input": [
      "import datetime\n",
      "import pandas as pd\n",
      "\n",
      "\n",
      "### Construct flight vector ###\n",
      "flights = {}\n",
      "flights['DepartureDateTime'] = []\n",
      "flights['ArrivalDateTime'] = []\n",
      "\n",
      "for d in xrange(365):\n",
      "    for h in xrange(6,24):\n",
      "\tdt = datetime.datetime(2013, 1, 1, h) + datetime.timedelta(d)\n",
      "\tat = dt + datetime.timedelta(hours=8.5)\n",
      "\n",
      "\tflights['DepartureDateTime'].append( dt )\n",
      "\tflights['ArrivalDateTime'].append( at )\n",
      "\tdel dt, at\n",
      "\n",
      "Nflights = len(flights['DepartureDateTime'])\n",
      "\t\t\n",
      "df = pd.DataFrame(flights)\n",
      "\n",
      "df['Year'] = df['DepartureDateTime'].apply(lambda x: x.year)\n",
      "df['Month'] = df['DepartureDateTime'].apply(lambda x: x.month)\n",
      "df['DayOfMonth'] = df['DepartureDateTime'].apply(lambda x: x.day)\n",
      "df['DayOfWeek'] = df['DepartureDateTime'].apply(lambda x: x.weekday()+1)\n",
      "df['DayOfYear'] = df['DepartureDateTime'].apply(lambda x: x.timetuple().tm_yday)\n",
      "df['Week'] = df['DayOfYear'] / 7 + 1\n",
      "df['ScheduledDepartureHour'] = df['DepartureDateTime'].apply(lambda x: x.hour)\n",
      "df['ScheduledArrivalHour'] = df['ArrivalDateTime'].apply(lambda x: x.hour)\n",
      "df['DaysFromNearestHoliday'] = df['DepartureDateTime'].apply(lambda x: abs(holiday_dates - x.date()).min().days)\n",
      "\n",
      "df = df.drop(['DepartureDateTime','ArrivalDateTime'],axis=1)\n",
      "\n",
      "df['ScheduledElapsedTime'] = np.zeros(Nflights) + 5.5\n",
      "df['Distance'] = np.zeros(Nflights) + 2565\n",
      "df['Carrier_%s' % Carrier] = np.ones(Nflights)\n",
      "df['Origin_%s' % Origin_Airport] = np.ones(Nflights)\n",
      "\n",
      "train_cols = model_summary['training_columns']\n",
      "\n",
      "### Add zero columns for any missing columns\n",
      "for tc in train_cols:\n",
      "    if tc not in df.columns:\n",
      "\tif not ( tc.startswith('Carrier_') | tc.startswith('Origin_') ):\n",
      "\t    print 'Did not find columns %s, adding zeros.' % tc\n",
      "\tdf[tc] = np.zeros(Nflights)\n",
      "\n",
      "### re-order the columns\n",
      "df = df.ix[:, train_cols]\n",
      "\n",
      "\n",
      "\n",
      "### Evaluate model ###\n",
      "rfor.n_jobs = 1\n",
      "df['Pdelay'] = rfor.predict_proba(df.values)[:,1]"
     ],
     "language": "python",
     "outputs": [],
     "prompt_number": 226
    },
    {
     "cell_type": "code",
     "collapsed": false,
     "input": [
      "import matplotlib.pyplot as plt\n",
      "\n",
      "fig = plt.figure(figsize=(10,5))\n",
      "ax = plt.axes([0.075,0.1,0.9,0.85])\n",
      "\n",
      "mdf = df[['DayOfYear','Pdelay']].groupby('DayOfYear').mean().add_prefix('mean_')\n",
      "\n",
      "p1, = plt.plot(df['DayOfYear'],df['Pdelay'],'bo',ms=3, alpha=0.5)\n",
      "p2, = plt.plot(mdf.index,mdf['mean_Pdelay'],'ro',ms=7)\n",
      "\n",
      "ax.set_xlabel('Day of Year', size=16)\n",
      "ax.set_ylabel('Delay Probability', size=16)\n",
      "\n",
      "\n",
      "month_names = ['Jan','Feb','Mar','Apr','May','Jun','Jul','Aug','Sep','Oct','Nov','Dec']\n",
      "month_days = np.array([31,28,31,30,31,30,31,31,30,31,30,31])\n",
      "tickv = np.roll(month_days.cumsum(),1)\n",
      "tickv[0] = 0\n",
      "ax.xaxis.set_ticks(tickv)\n",
      "tickn = [x+' 1' for x in month_names]\n",
      "ax.xaxis.set_ticklabels(tickn)\n",
      "\n",
      "ax.set_xlim([0,365])\n",
      "\n",
      "ax.text(0.025,0.95,'%s to %s on United\\nYear 2013' % (Origin_Airport,Destination_Airport), size=16, va='top', transform=ax.transAxes)\n",
      "\n",
      "ax.legend([p1,p2],['All data','Mean'],loc='upper right',fancybox=True,numpoints=1)\n",
      "\n",
      "plt.savefig('Pdelay_vs_DayOfYear_%s-%s-United-2013.pdf' % (Origin_Airport,Destination_Airport),dpi=150)\n"
     ],
     "language": "python",
     "outputs": [
      {
       "output_type": "display_data",
       "png": "[encoded data removed]",
       "text": [
        "<matplotlib.figure.Figure at 0x6095e410>"
       ]
      }
     ],
     "prompt_number": 227
    },
    {
     "cell_type": "code",
     "collapsed": false,
     "input": [
      "import matplotlib.pyplot as plt\n",
      "\n",
      "fig = plt.figure(figsize=(10,5))\n",
      "ax = plt.axes([0.075,0.1,0.9,0.85])\n",
      "\n",
      "mdf = df[['ScheduledDepartureHour','Pdelay']].groupby('ScheduledDepartureHour').mean().add_prefix('mean_')\n",
      "\n",
      "p1, = plt.plot(df['ScheduledDepartureHour'],df['Pdelay'],'bo',ms=3, alpha=0.5)\n",
      "p2, = plt.plot(mdf.index,mdf['mean_Pdelay'],'ro',ms=7)\n",
      "\n",
      "ax.set_xlabel('Scheduled Departure Hour', size=16)\n",
      "ax.set_ylabel1('Delay Probability', size=16)\n",
      "\n",
      "ax.xaxis.set_ticks([6,9,12,15,18,21])\n",
      "tickn = ['6 am','9 am','12 pm','3 pm','6 pm','9 pm']\n",
      "ax.xaxis.set_ticklabels(tickn)\n",
      "\n",
      "ax.set_xlim([5,24])\n",
      "\n",
      "ax.text(0.025,0.95,'%s to %s on United\\nYear 2013' % (Origin_Airport,Destination_Airport), size=16, va='top', transform=ax.transAxes)\n",
      "\n",
      "ax.legend([p1,p2],['All data','Mean'],loc='upper right',fancybox=True,numpoints=1)\n",
      "\n",
      "plt.savefig('Pdelay_vs_ScheduledDepartureHour_%s-%s-United-2013.pdf' % (Origin_Airport,Destination_Airport),dpi=150)\n"
     ],
     "language": "python",
     "outputs": [
      {
       "output_type": "display_data",
       "png": "[encoded data removed]",
       "text": [
        "<matplotlib.figure.Figure at 0x91129bd0>"
       ]
      }
     ],
     "prompt_number": 206
    },
    {
     "cell_type": "code",
     "collapsed": false,
     "input": [
      "import matplotlib.pyplot as plt\n",
      "\n",
      "fig = plt.figure(figsize=(10,5))\n",
      "ax = plt.axes([0.075,0.1,0.9,0.85])\n",
      "\n",
      "mdf = df[['DayOfMonth','Pdelay']].groupby('DayOfMonth').mean().add_prefix('mean_')\n",
      "\n",
      "p1, = plt.plot(df['DayOfMonth'],df['Pdelay'],'bo',ms=3, alpha=0.5)\n",
      "p2, = plt.plot(mdf.index,mdf['mean_Pdelay'],'ro',ms=7)\n",
      "\n",
      "ax.set_xlabel('Day Of Month', size=16)\n",
      "ax.set_ylabel('Delay Probability', size=16)\n",
      "\n",
      "## ax.xaxis.set_ticks([6,9,12,15,18,21])\n",
      "## tickn = ['6 am','9 am','12 pm','3 pm','6 pm','9 pm']\n",
      "## ax.xaxis.set_ticklabels(tickn)\n",
      "\n",
      "ax.set_xlim([0.5,31.5])\n",
      "\n",
      "ax.text(0.025,0.95,'%s to %s on United\\nYear 2013' % (Origin_Airport,Destination_Airport), size=16, va='top', transform=ax.transAxes)\n",
      "\n",
      "ax.legend([p1,p2],['All data','Mean'],loc='upper right',fancybox=True,numpoints=1)\n",
      "\n",
      "plt.savefig('Pdelay_vs_DayOfMonth_%s-%s-United-2013.pdf' % (Origin_Airport,Destination_Airport),dpi=150)\n"
     ],
     "language": "python",
     "outputs": [
      {
       "output_type": "display_data",
       "png": "[encoded data removed]",
       "text": [
        "<matplotlib.figure.Figure at 0x6094df90>"
       ]
      }
     ],
     "prompt_number": 230
    },
    {
     "cell_type": "code",
     "collapsed": false,
     "input": [
      "import matplotlib.pyplot as plt\n",
      "\n",
      "fig = plt.figure(figsize=(10,5))\n",
      "ax = plt.axes([0.075,0.1,0.9,0.85])\n",
      "\n",
      "mdf = df[['DayOfWeek','Pdelay']].groupby('DayOfWeek').mean().add_prefix('mean_')\n",
      "\n",
      "p1, = plt.plot(df['DayOfWeek'],df['Pdelay'],'bo',ms=3, alpha=0.5)\n",
      "p2, = plt.plot(mdf.index,mdf['mean_Pdelay'],'ro',ms=7)\n",
      "\n",
      "ax.set_xlabel('Day Of Week', size=16)\n",
      "ax.set_ylabel('Delay Probability', size=16)\n",
      "\n",
      "## ax.xaxis.set_ticks([6,9,12,15,18,21])\n",
      "## tickn = ['6 am','9 am','12 pm','3 pm','6 pm','9 pm']\n",
      "ax.xaxis.set_ticklabels(['', 'Monday','Tuesday','Wednesday','Thursday','Friday','Saturday','Sunday'],size=12)\n",
      "\n",
      "ax.set_xlim([0.8,7.2])\n",
      "\n",
      "ax.text(0.025,0.95,'%s to %s on United\\nYear 2013' % (Origin_Airport,Destination_Airport), size=16, va='top', transform=ax.transAxes)\n",
      "\n",
      "ax.legend([p1,p2],['All data','Mean'],loc='upper right',fancybox=True,numpoints=1)\n",
      "\n",
      "plt.savefig('Pdelay_vs_DayOfWeek_%s-%s-United-2013.pdf' % (Origin_Airport,Destination_Airport),dpi=150)\n"
     ],
     "language": "python",
     "outputs": [
      {
       "output_type": "display_data",
       "png": "[encoded data removed]",
       "text": [
        "<matplotlib.figure.Figure at 0x7fa97e10>"
       ]
      }
     ],
     "prompt_number": 207
    },
    {
     "cell_type": "code",
     "collapsed": false,
     "input": [],
     "language": "python",
     "outputs": []
    }
   ]
  }
 ]
}