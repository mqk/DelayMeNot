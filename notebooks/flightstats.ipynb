{
 "metadata": {
  "name": ""
 },
 "nbformat": 3,
 "nbformat_minor": 0,
 "worksheets": [
  {
   "cells": [
    {
     "cell_type": "code",
     "collapsed": false,
     "input": [
      "pwd"
     ],
     "language": "python",
     "outputs": [
      {
       "output_type": "pyout",
       "prompt_number": 1,
       "text": [
        "u'/home/mqk/DataProjects/DelayMeNot/notebooks'"
       ]
      }
     ],
     "prompt_number": 1
    },
    {
     "cell_type": "code",
     "collapsed": false,
     "input": [
      "import json\n",
      "\n",
      "fs1 = json.load(open('../webpage/JSON/SFO_EWR_10142013.json','r'))\n",
      "fs2 = json.load(open('../webpage/JSON/VX_1178_10142013.json','r'))"
     ],
     "language": "python",
     "outputs": [],
     "prompt_number": 93
    },
    {
     "cell_type": "code",
     "collapsed": false,
     "input": [
      "print fs1.keys()"
     ],
     "language": "python",
     "outputs": [
      {
       "output_type": "stream",
       "stream": "stdout",
       "text": [
        "[u'flights', u'appendix', u'request']\n"
       ]
      }
     ],
     "prompt_number": 94
    },
    {
     "cell_type": "code",
     "collapsed": false,
     "input": [
      "fs2.keys()"
     ],
     "language": "python",
     "outputs": [
      {
       "output_type": "pyout",
       "prompt_number": 101,
       "text": [
        "[u'scheduledFlights', u'appendix', u'request']"
       ]
      }
     ],
     "prompt_number": 101
    },
    {
     "cell_type": "code",
     "collapsed": false,
     "input": [
      "fs2['appendix'].keys()"
     ],
     "language": "python",
     "outputs": [
      {
       "output_type": "pyout",
       "prompt_number": 103,
       "text": [
        "[u'equipments', u'airports', u'airlines']"
       ]
      }
     ],
     "prompt_number": 103
    },
    {
     "cell_type": "code",
     "collapsed": false,
     "input": [
      "fs2['scheduledFlights'][0].keys()"
     ],
     "language": "python",
     "outputs": [
      {
       "output_type": "pyout",
       "prompt_number": 98,
       "text": [
        "[u'trafficRestrictions',\n",
        " u'departureTime',\n",
        " u'arrivalTerminal',\n",
        " u'codeshares',\n",
        " u'referenceCode',\n",
        " u'flightNumber',\n",
        " u'stops',\n",
        " u'serviceClasses',\n",
        " u'serviceType',\n",
        " u'flightEquipmentIataCode',\n",
        " u'departureTerminal',\n",
        " u'arrivalTime',\n",
        " u'arrivalAirportFsCode',\n",
        " u'isCodeshare',\n",
        " u'isWetlease',\n",
        " u'departureAirportFsCode',\n",
        " u'carrierFsCode']"
       ]
      }
     ],
     "prompt_number": 98
    },
    {
     "cell_type": "code",
     "collapsed": false,
     "input": [
      "carrier_dict = {x['fs']:x['name'] for x in fs['appendix']['airlines']}"
     ],
     "language": "python",
     "outputs": [],
     "prompt_number": 83
    },
    {
     "cell_type": "code",
     "collapsed": false,
     "input": [
      "carrier_dict['B6']"
     ],
     "language": "python",
     "outputs": [
      {
       "output_type": "pyout",
       "prompt_number": 85,
       "text": [
        "u'JetBlue Airways'"
       ]
      }
     ],
     "prompt_number": 85
    },
    {
     "cell_type": "code",
     "collapsed": false,
     "input": [
      "fs.keys()"
     ],
     "language": "python",
     "outputs": [
      {
       "output_type": "pyout",
       "prompt_number": 86,
       "text": [
        "[u'flights', u'appendix', u'request']"
       ]
      }
     ],
     "prompt_number": 86
    },
    {
     "cell_type": "code",
     "collapsed": false,
     "input": [
      "fs['request']['date']['interpreted']"
     ],
     "language": "python",
     "outputs": [
      {
       "output_type": "pyout",
       "prompt_number": 89,
       "text": [
        "u'2013-10-14'"
       ]
      }
     ],
     "prompt_number": 89
    },
    {
     "cell_type": "code",
     "collapsed": true,
     "input": [
      "fs['appendix']['airlines']"
     ],
     "language": "python",
     "outputs": [
      {
       "output_type": "pyout",
       "prompt_number": 22,
       "text": [
        "[{u'active': True,\n",
        "  u'fs': u'AS',\n",
        "  u'iata': u'AS',\n",
        "  u'icao': u'ASA',\n",
        "  u'name': u'Alaska Airlines',\n",
        "  u'phoneNumber': u'1-800-252-7522'},\n",
        " {u'active': True,\n",
        "  u'fs': u'US',\n",
        "  u'iata': u'US',\n",
        "  u'icao': u'AWE',\n",
        "  u'name': u'US Airways',\n",
        "  u'phoneNumber': u'1-800-943-5436'},\n",
        " {u'active': True,\n",
        "  u'fs': u'B6',\n",
        "  u'iata': u'B6',\n",
        "  u'icao': u'JBU',\n",
        "  u'name': u'JetBlue Airways'},\n",
        " {u'active': True,\n",
        "  u'fs': u'DL',\n",
        "  u'iata': u'DL',\n",
        "  u'icao': u'DAL',\n",
        "  u'name': u'Delta Air Lines',\n",
        "  u'phoneNumber': u'1-800-221-1212'},\n",
        " {u'active': True,\n",
        "  u'fs': u'UA',\n",
        "  u'iata': u'UA',\n",
        "  u'icao': u'UAL',\n",
        "  u'name': u'United Airlines',\n",
        "  u'phoneNumber': u'1-800-864-8331'},\n",
        " {u'active': True,\n",
        "  u'fs': u'AA',\n",
        "  u'iata': u'AA',\n",
        "  u'icao': u'AAL',\n",
        "  u'name': u'American Airlines',\n",
        "  u'phoneNumber': u'1-800-433-7300'},\n",
        " {u'active': True,\n",
        "  u'fs': u'VX',\n",
        "  u'iata': u'VX',\n",
        "  u'icao': u'VRD',\n",
        "  u'name': u'Virgin America'}]"
       ]
      }
     ],
     "prompt_number": 22
    },
    {
     "cell_type": "code",
     "collapsed": false,
     "input": [
      "fs['flights'][0]"
     ],
     "language": "python",
     "outputs": [
      {
       "output_type": "pyout",
       "prompt_number": 19,
       "text": [
        "{u'arrivalAirportFsCode': u'EWR',\n",
        " u'arrivalDateAdjustment': 1,\n",
        " u'arrivalTime': u'10:51:00.000',\n",
        " u'departureAirportFsCode': u'SFO',\n",
        " u'departureDateFrom': u'2013-09-10',\n",
        " u'departureDateTo': u'2013-10-25',\n",
        " u'departureDaysOfWeek': [1, 2, 3, 4, 5, 6, 7],\n",
        " u'departureTime': u'22:49:00.000',\n",
        " u'distanceMiles': 2900,\n",
        " u'flightDurationMinutes': 413,\n",
        " u'flightLegs': [{u'arrivalAirportFsCode': u'BOS',\n",
        "   u'arrivalDateAdjustment': 1,\n",
        "   u'arrivalTerminal': u'C',\n",
        "   u'arrivalTime': u'07:21:00.000',\n",
        "   u'carrierFsCode': u'B6',\n",
        "   u'codeshare': False,\n",
        "   u'departureAirportFsCode': u'SFO',\n",
        "   u'departureDateAdjustment': 0,\n",
        "   u'departureTerminal': u'I',\n",
        "   u'departureTime': u'22:49:00.000',\n",
        "   u'distanceMiles': 2700,\n",
        "   u'equipmentCodes': [u'320'],\n",
        "   u'flightDurationMinutes': 332,\n",
        "   u'flightNumber': u'834',\n",
        "   u'layoverDurationMinutes': 0,\n",
        "   u'ratings': [{u'airlineFsCode': u'B6',\n",
        "     u'allDelayCumulative': 0,\n",
        "     u'allDelayStars': 0,\n",
        "     u'allOntimeCumulative': 0,\n",
        "     u'allOntimeStars': 0,\n",
        "     u'allStars': 0,\n",
        "     u'arrivalAirportFsCode': u'BOS',\n",
        "     u'cancelled': 3,\n",
        "     u'codeshares': 0,\n",
        "     u'delayMax': 230,\n",
        "     u'delayMean': 62,\n",
        "     u'delayMin': 0,\n",
        "     u'delayObservations': 43,\n",
        "     u'delayStandardDeviation': 50.624592,\n",
        "     u'departureAirportFsCode': u'SFO',\n",
        "     u'directs': 0,\n",
        "     u'diverted': 0,\n",
        "     u'flightNumber': u'834',\n",
        "     u'late15': 7,\n",
        "     u'late30': 5,\n",
        "     u'late45': 23,\n",
        "     u'observations': 60,\n",
        "     u'ontime': 22,\n",
        "     u'ontimePercent': 0.36666667}]},\n",
        "  {u'arrivalAirportFsCode': u'EWR',\n",
        "   u'arrivalDateAdjustment': 1,\n",
        "   u'arrivalTerminal': u'A',\n",
        "   u'arrivalTime': u'10:51:00.000',\n",
        "   u'carrierFsCode': u'B6',\n",
        "   u'codeshare': False,\n",
        "   u'departureAirportFsCode': u'BOS',\n",
        "   u'departureDateAdjustment': 1,\n",
        "   u'departureTerminal': u'C',\n",
        "   u'departureTime': u'09:30:00.000',\n",
        "   u'distanceMiles': 200,\n",
        "   u'equipmentCodes': [u'E90'],\n",
        "   u'flightDurationMinutes': 81,\n",
        "   u'flightNumber': u'2379',\n",
        "   u'layoverDurationMinutes': 0,\n",
        "   u'ratings': [{u'airlineFsCode': u'B6',\n",
        "     u'allDelayCumulative': 0.61790001,\n",
        "     u'allDelayStars': 3.0999999,\n",
        "     u'allOntimeCumulative': 1,\n",
        "     u'allOntimeStars': 5,\n",
        "     u'allStars': 4.0500002,\n",
        "     u'arrivalAirportFsCode': u'EWR',\n",
        "     u'cancelled': 0,\n",
        "     u'codeshares': 0,\n",
        "     u'delayMax': 67,\n",
        "     u'delayMean': 24,\n",
        "     u'delayMin': 0,\n",
        "     u'delayObservations': 7,\n",
        "     u'delayStandardDeviation': 28.617344,\n",
        "     u'departureAirportFsCode': u'BOS',\n",
        "     u'directs': 0,\n",
        "     u'diverted': 0,\n",
        "     u'flightNumber': u'2379',\n",
        "     u'late15': 0,\n",
        "     u'late30': 0,\n",
        "     u'late45': 3,\n",
        "     u'observations': 62,\n",
        "     u'ontime': 59,\n",
        "     u'ontimePercent': 0.95161289}]}],\n",
        " u'flightType': u'CONNECTION',\n",
        " u'layoverDurationMinutes': 129,\n",
        " u'online': True,\n",
        " u'serviceType': u'PASSENGER_ONLY'}"
       ]
      }
     ],
     "prompt_number": 19
    },
    {
     "cell_type": "code",
     "collapsed": false,
     "input": [
      "(fs['flights'][0]['flightLegs'])[0]"
     ],
     "language": "python",
     "outputs": [
      {
       "output_type": "pyout",
       "prompt_number": 13,
       "text": [
        "{u'arrivalAirportFsCode': u'BOS',\n",
        " u'arrivalDateAdjustment': 1,\n",
        " u'arrivalTerminal': u'C',\n",
        " u'arrivalTime': u'07:21:00.000',\n",
        " u'carrierFsCode': u'B6',\n",
        " u'codeshare': False,\n",
        " u'departureAirportFsCode': u'SFO',\n",
        " u'departureDateAdjustment': 0,\n",
        " u'departureTerminal': u'I',\n",
        " u'departureTime': u'22:49:00.000',\n",
        " u'distanceMiles': 2700,\n",
        " u'equipmentCodes': [u'320'],\n",
        " u'flightDurationMinutes': 332,\n",
        " u'flightNumber': u'834',\n",
        " u'layoverDurationMinutes': 0,\n",
        " u'ratings': [{u'airlineFsCode': u'B6',\n",
        "   u'allDelayCumulative': 0,\n",
        "   u'allDelayStars': 0,\n",
        "   u'allOntimeCumulative': 0,\n",
        "   u'allOntimeStars': 0,\n",
        "   u'allStars': 0,\n",
        "   u'arrivalAirportFsCode': u'BOS',\n",
        "   u'cancelled': 3,\n",
        "   u'codeshares': 0,\n",
        "   u'delayMax': 230,\n",
        "   u'delayMean': 62,\n",
        "   u'delayMin': 0,\n",
        "   u'delayObservations': 43,\n",
        "   u'delayStandardDeviation': 50.624592,\n",
        "   u'departureAirportFsCode': u'SFO',\n",
        "   u'directs': 0,\n",
        "   u'diverted': 0,\n",
        "   u'flightNumber': u'834',\n",
        "   u'late15': 7,\n",
        "   u'late30': 5,\n",
        "   u'late45': 23,\n",
        "   u'observations': 60,\n",
        "   u'ontime': 22,\n",
        "   u'ontimePercent': 0.36666667}]}"
       ]
      }
     ],
     "prompt_number": 13
    },
    {
     "cell_type": "code",
     "collapsed": false,
     "input": [
      "ind = []\n",
      "for i,f in enumerate(fs['flights']):\n",
      "    Nleg = len(f['flightLegs'])\n",
      "    if Nleg < 2: continue\n",
      "    if f['flightLegs'][0]['carrierFsCode'] != f['flightLegs'][1]['carrierFsCode']:\n",
      "        ind.append(i)\n",
      "        \n",
      "    \n",
      "    "
     ],
     "language": "python",
     "outputs": [],
     "prompt_number": 40
    },
    {
     "cell_type": "code",
     "collapsed": false,
     "input": [],
     "language": "python",
     "outputs": [
      {
       "output_type": "pyout",
       "prompt_number": 41,
       "text": [
        "80"
       ]
      }
     ],
     "prompt_number": 41
    },
    {
     "cell_type": "code",
     "collapsed": false,
     "input": [
      "def parse_flightstats_json(filename):\n",
      "    import datetime\n",
      "    fs = json.load(open(filename,'r'))\n",
      "\n",
      "    flights = fs['flights']        \n",
      "    Nflights = len(flights)\n",
      "\n",
      "    flightstats = []\n",
      "\n",
      "    for i,f in enumerate(flights):\n",
      "\n",
      "        ## not sure if this is necessary, are more than 2 legs ever returned?\n",
      "        if len(f['flightLegs']) > 2: continue\n",
      "\n",
      "        ## reject flights with non-online legs (different carriers)\n",
      "        if not f['online']: continue\n",
      "        \n",
      "        this_flight = {}\n",
      "        this_flight['Carrier'] = f['flightLegs'][0]['carrierFsCode']\n",
      "        this_flight['Nlegs'] = len(f['flightLegs'])\n",
      "        this_flight['FlightNumber'] = [ int(f['flightLegs'][0]['flightNumber']) ]\n",
      "        this_flight['DepartureTime'] = datetime.datetime.strptime(f['departureTime'][:-4],'%H:%M:%S').strftime('%I:%M %p')\n",
      "        this_flight['ArrivalTime'] = datetime.datetime.strptime(f['arrivalTime'][:-4],'%H:%M:%S').strftime('%I:%M %p')\n",
      "        this_flight['LayoverMinutes'] = f['layoverDurationMinutes']\n",
      "\n",
      "        if this_flight['Nlegs'] > 1:\n",
      "            this_flight['FlightNumber'].append( int(f['flightLegs'][1]['flightNumber']) )\n",
      "            this_flight['ConnectionAirport'] = f['flightLegs'][0]['arrivalAirportFsCode']\n",
      "        else:\n",
      "            this_flight['ConnectionAirport'] = ''\n",
      "            \n",
      "        flightstats.append(this_flight)\n",
      "\n",
      "    return flightstats\n",
      "        "
     ],
     "language": "python",
     "outputs": [],
     "prompt_number": 80
    },
    {
     "cell_type": "code",
     "collapsed": false,
     "input": [
      "flightstats = parse_flightstats_json('../flightstats/SFO_EWR_10142013.json')"
     ],
     "language": "python",
     "outputs": [],
     "prompt_number": 81
    },
    {
     "cell_type": "code",
     "collapsed": false,
     "input": [
      "flightstats[0]"
     ],
     "language": "python",
     "outputs": [
      {
       "output_type": "pyout",
       "prompt_number": 82,
       "text": [
        "{'ArrivalTime': '10:51 AM',\n",
        " 'Carrier': u'B6',\n",
        " 'ConnectionAirport': u'BOS',\n",
        " 'DepartureTime': '10:49 PM',\n",
        " 'FlightNumber': [834, 2379],\n",
        " 'LayoverMinutes': 129,\n",
        " 'Nlegs': 2}"
       ]
      }
     ],
     "prompt_number": 82
    },
    {
     "cell_type": "code",
     "collapsed": false,
     "input": [],
     "language": "python",
     "outputs": []
    }
   ]
  }
 ]
}