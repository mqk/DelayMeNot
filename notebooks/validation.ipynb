{
 "metadata": {
  "name": ""
 },
 "nbformat": 3,
 "nbformat_minor": 0,
 "worksheets": [
  {
   "cells": [
    {
     "cell_type": "markdown",
     "source": [
      "## This notebook is for experimentation with validation of my predictions ##"
     ]
    },
    {
     "cell_type": "markdown",
     "source": [
      "### Validation of simple binning model ###\n",
      "\n",
      "* In each grouping (i.e. bin with NumFlight > 100) randomly split the sample in two.\n",
      "\n",
      "* Separately determine P_late (delay > 30 min.) in each sample.\n",
      "\n",
      "* Calculate (Delta P_late)^2 = (P_late_1 - P_late_2)^2.\n",
      "\n",
      "* Repeat this process 10 times, and calculate the mean: <(Delta P_late)^2>.\n",
      "\n",
      "* Pick the grouping with the smallest <(Delta P_late)^2>, and report\n",
      "  sqrt(<(Delta P_late)^2>) as the error on the prediction.\n",
      "  "
     ]
    },
    {
     "cell_type": "code",
     "collapsed": false,
     "input": [
      "import pandas as pd\n",
      "from pandas import Series, DataFrame"
     ],
     "language": "python",
     "outputs": [],
     "prompt_number": 1
    },
    {
     "cell_type": "code",
     "collapsed": false,
     "input": [
      "import MySQLdb\n",
      "db = MySQLdb.connect(host=\"virginia.dyndns-at-home.com\",\n",
      "                     user=\"mqk\",\n",
      "                     passwd=\"z2yv52K*hJ<otclN\",\n",
      "                     db=\"DelayMeNot\",\n",
      "                     local_infile = 1)\n",
      "db.autocommit(True)\n",
      "\n",
      "cur = db.cursor()"
     ],
     "language": "python",
     "outputs": [],
     "prompt_number": 2
    },
    {
     "cell_type": "code",
     "collapsed": false,
     "input": [
      "import time\n",
      "\n",
      "origin = 'SFO'\n",
      "destination = 'JFK'\n",
      "\n",
      "time0 = time.time()\n",
      "cur.execute(\"SELECT Year, Month, DayofMonth, DayOfWeek, CRSDepTime, UniqueCarrier, ArrDelay FROM flights_100000 WHERE Origin = %s and Dest = %s;\", (origin, destination))\n",
      "rows = cur.fetchall()\n",
      "td = time.time() - time0\n",
      "print 'Database query took %.2f seconds.' % td\n",
      "\n"
     ],
     "language": "python",
     "outputs": [
      {
       "output_type": "stream",
       "stream": "stdout",
       "text": [
        "Database query took 5.83 seconds.\n"
       ]
      }
     ],
     "prompt_number": 3
    },
    {
     "cell_type": "code",
     "collapsed": false,
     "input": [
      "### Convert to DataFrame\n",
      "\n",
      "df = DataFrame(list(rows), columns=['Year', 'Month', 'DayOfMonth', 'DayOfWeek', 'CRSDepTime', 'Carrier', 'ArrDelay'])\n",
      "\n",
      "### drop columns without delays (cancellations)\n",
      "df = df.dropna()\n",
      "\n",
      "### Create some auxiliary columns\n",
      "import datetime\n",
      "\n",
      "df['DayOfYear'] = df.apply( lambda x: datetime.datetime(x['Year'],x['Month'],x['DayOfMonth']).timetuple().tm_yday, axis=1)\n",
      "df['Week'] = df['DayOfYear'] / 7 + 1\n",
      "df['DepHour'] = df['CRSDepTime']/100\n",
      "\n",
      "df = df.drop(['DayOfMonth','CRSDepTime'],axis=1).sort_index(axis=1)\n",
      "\n",
      "df.head()"
     ],
     "language": "python",
     "outputs": [
      {
       "html": [
        "<div style=\"max-height:1000px;max-width:1500px;overflow:auto;\">\n",
        "<table border=\"1\" class=\"dataframe\">\n",
        "  <thead>\n",
        "    <tr style=\"text-align: right;\">\n",
        "      <th></th>\n",
        "      <th>ArrDelay</th>\n",
        "      <th>Carrier</th>\n",
        "      <th>DayOfWeek</th>\n",
        "      <th>DayOfYear</th>\n",
        "      <th>DepHour</th>\n",
        "      <th>Month</th>\n",
        "      <th>Week</th>\n",
        "      <th>Year</th>\n",
        "    </tr>\n",
        "  </thead>\n",
        "  <tbody>\n",
        "    <tr>\n",
        "      <th>1</th>\n",
        "      <td>  -4</td>\n",
        "      <td> UA</td>\n",
        "      <td> 3</td>\n",
        "      <td> 2</td>\n",
        "      <td> 6</td>\n",
        "      <td> 1</td>\n",
        "      <td> 1</td>\n",
        "      <td> 2008</td>\n",
        "    </tr>\n",
        "    <tr>\n",
        "      <th>2</th>\n",
        "      <td> -23</td>\n",
        "      <td> UA</td>\n",
        "      <td> 4</td>\n",
        "      <td> 3</td>\n",
        "      <td> 6</td>\n",
        "      <td> 1</td>\n",
        "      <td> 1</td>\n",
        "      <td> 2008</td>\n",
        "    </tr>\n",
        "    <tr>\n",
        "      <th>3</th>\n",
        "      <td> -19</td>\n",
        "      <td> UA</td>\n",
        "      <td> 5</td>\n",
        "      <td> 4</td>\n",
        "      <td> 6</td>\n",
        "      <td> 1</td>\n",
        "      <td> 1</td>\n",
        "      <td> 2008</td>\n",
        "    </tr>\n",
        "    <tr>\n",
        "      <th>4</th>\n",
        "      <td> 200</td>\n",
        "      <td> UA</td>\n",
        "      <td> 6</td>\n",
        "      <td> 5</td>\n",
        "      <td> 6</td>\n",
        "      <td> 1</td>\n",
        "      <td> 1</td>\n",
        "      <td> 2008</td>\n",
        "    </tr>\n",
        "    <tr>\n",
        "      <th>5</th>\n",
        "      <td>   4</td>\n",
        "      <td> UA</td>\n",
        "      <td> 7</td>\n",
        "      <td> 6</td>\n",
        "      <td> 6</td>\n",
        "      <td> 1</td>\n",
        "      <td> 1</td>\n",
        "      <td> 2008</td>\n",
        "    </tr>\n",
        "  </tbody>\n",
        "</table>\n",
        "</div>"
       ],
       "output_type": "pyout",
       "prompt_number": 92,
       "text": [
        "   ArrDelay Carrier  DayOfWeek  DayOfYear  DepHour  Month  Week  Year\n",
        "1        -4      UA          3          2        6      1     1  2008\n",
        "2       -23      UA          4          3        6      1     1  2008\n",
        "3       -19      UA          5          4        6      1     1  2008\n",
        "4       200      UA          6          5        6      1     1  2008\n",
        "5         4      UA          7          6        6      1     1  2008"
       ]
      }
     ],
     "prompt_number": 92
    },
    {
     "cell_type": "code",
     "collapsed": false,
     "input": [
      "### Set up a flight\n",
      "\n",
      "flight = {'DateTime':datetime.datetime(2008, 8, 25, 10, 2, 00)}\n",
      "\n",
      "tmt = flight['DateTime'].timetuple()\n",
      "\n",
      "flight['DayOfYear'] = tmt.tm_yday\n",
      "flight['Month'] = tmt.tm_mon\n",
      "flight['Week'] = tmt.tm_yday / 7\n",
      "flight['DayOfWeek'] = tmt.tm_wday + 1  ## Monday = 1\n",
      "flight['DepHour'] = tmt.tm_hour\n",
      "flight['Carrier'] = 'UA'\n",
      "\n",
      "del tmt"
     ],
     "language": "python",
     "outputs": [],
     "prompt_number": 65
    },
    {
     "cell_type": "code",
     "collapsed": false,
     "input": [
      "import model.delay_stats as ds\n",
      "reload(ds)\n",
      "\n",
      "Plate = ds.Plate_binned(flight, df)\n",
      "\n",
      "## Sort into descending NumFlights order\n",
      "Plate = Plate.sort('NumFlights',ascending=False)\n",
      "\n",
      "\n",
      "Plate['Delta(Plate)'] = Plate['Plate'] - Plate['Plate']['All']\n",
      "Plate['sigma(f)/f'] = np.sqrt( Plate['error']**2 + Plate['error']['All']**2 ) / abs(Plate['Delta(Plate)'])\n"
     ],
     "language": "python",
     "outputs": [],
     "prompt_number": 122
    },
    {
     "cell_type": "code",
     "collapsed": false,
     "input": [
      "print Plate\n",
      "print\n",
      "print Plate.ix[ Plate['sigma(f)/f'].argmin() ]"
     ],
     "language": "python",
     "outputs": [
      {
       "output_type": "stream",
       "stream": "stdout",
       "text": [
        "                                           NumFlights      Plate       error  Delta(Plate)  sigma(f)/f\n",
        "All                                            103388  11.889194    0.196456      0.000000         inf\n",
        "same DayOfWeek                                  15116  10.617888    0.684262     -1.271306    0.559980\n",
        "same DayOfWeek & Carrier                         6352  10.815491    0.695694     -1.073703    0.673278\n",
        "same DepHour                                     2139  17.671809    1.661714      5.782615    0.289365\n",
        "same Week                                        2111  13.263856    1.816700      1.374662    1.329266\n",
        "same Week & Carrier                               849  12.131920    1.967307      0.242726    8.145370\n",
        "same DepHour & Carrier                            683  27.818448    5.193584     15.929254    0.326274\n",
        "same DayOfWeek & DepHour                          321  12.149533    3.788187      0.260339   14.570552\n",
        "same Week & DayOfWeek                             306  11.111111    3.531832     -0.778083    4.546162\n",
        "same Week & DayOfWeek & Carrier                   121   7.438017    5.443272     -4.451178    1.223680\n",
        "same DayOfWeek & DepHour & Carrier                102  25.490196    5.947353     13.601002    0.437512\n",
        "same Week & DepHour                                58  37.931034   14.133725     26.041840    0.542784\n",
        "same Week & DepHour & Carrier                      14  57.142857   20.203051     45.253663    0.446461\n",
        "same Week & DayOfWeek & DepHour & Carrier           2  50.000000  100.000000     38.110806    2.623933\n",
        "\n",
        "NumFlights      2139.000000\n",
        "Plate             17.671809\n",
        "error              1.661714\n",
        "Delta(Plate)       5.782615\n",
        "sigma(f)/f         0.289365\n",
        "Name: same DepHour, dtype: float64\n"
       ]
      }
     ],
     "prompt_number": 123
    },
    {
     "cell_type": "code",
     "collapsed": false,
     "input": [],
     "language": "python",
     "outputs": []
    }
   ]
  }
 ]
}