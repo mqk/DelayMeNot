{
 "metadata": {
  "name": "database_setup"
 },
 "nbformat": 3,
 "nbformat_minor": 0,
 "worksheets": [
  {
   "cells": [
    {
     "cell_type": "code",
     "collapsed": false,
     "input": [
      "### Load MySQL python interface and log in ###\n",
      "import MySQLdb\n",
      "db = MySQLdb.connect(host=\"localhost\",\n",
      "\t\t     user=\"mqk\",\n",
      "\t\t     passwd=\"z2yv52K*hJ<otclN\",\n",
      "\t\t     db=\"DelayMeNot\",\n",
      "\t\t     local_infile = 1)\n",
      "db.autocommit(True)\n",
      "\n",
      "## db = MySQLdb.connect(host=\"localhost\",\n",
      "## \t\t     user=\"root\",\n",
      "## \t\t     passwd=\"EQTbf2<M%[Q$={<2\",\n",
      "## \t\t     db=\"DelayMeNot\",\n",
      "## \t\t     local_infile = 1)\n",
      "\n",
      "cur = db.cursor()"
     ],
     "language": "python",
     "outputs": [],
     "prompt_number": 5
    },
    {
     "cell_type": "markdown",
     "source": [
      "### Subsampled flights table (flights_small) ###\n"
     ]
    },
    {
     "cell_type": "code",
     "collapsed": false,
     "input": [
      "## Create the table ##\n",
      "\n",
      "command = \"\"\"\n",
      "CREATE TABLE flights_small\n",
      "(\n",
      "\tFlightID\t\tint\tNOT NULL AUTO_INCREMENT,\n",
      "\tYear\t\t\tint\tNOT NULL,\t\n",
      "\tMonth\t\t\tint\tNOT NULL,\n",
      "\tDayofMonth\t\tint\tNOT NULL,\n",
      "\tDayOfWeek\t\tint\tNOT NULL,\n",
      "\tDepTime\t\t\tint\tNULL,\n",
      "\tCRSDepTime\t\tint\tNULL,\n",
      "\tArrTime\t\t\tint\tNULL,\n",
      "\tCRSArrTime\t\tint\tNULL,\n",
      "\tUniqueCarrier\t\tchar(3) NULL,\n",
      "\tFlightNum\t\tint\tNULL,\n",
      "\tTailNum \t\tchar(6) NULL,\n",
      "\tActualElapsedTime\tint\tNULL,\n",
      "\tCRSElapsedTime\t\tint\tNULL,\n",
      "\tAirTime\t\t\tint\tNULL,\n",
      "\tArrDelay\t\tint\tNULL,\n",
      "\tDepDelay\t\tint\tNULL,\n",
      "\tOrigin\t\t\tchar(3) NULL,\n",
      "\tDest\t\t\tchar(3) NULL,\n",
      "\tDistance\t\tint\tNULL,\n",
      "\tTaxiIn\t\t\tint\tNULL,\n",
      "\tTaxiOut\t \t\tint\tNULL,\n",
      "\tCancelled\t\tint\tNULL,\n",
      "\tCancellationCode\tchar(1)\tNULL,\n",
      "\tDiverted\t\tint\tNULL,\n",
      "\tCarrierDelay\t\tint\tNULL,\n",
      "\tWeatherDelay\t\tint\tNULL,\t\t\n",
      "\tNASDelay\t\tint\tNULL,\n",
      "\tSecurityDelay\t\tint\tNULL,\n",
      "\tLateAircraftDelay\tint\tNULL,\n",
      "\tPRIMARY KEY (FlightID)\n",
      ") ENGINE=InnoDB;\n",
      "\n",
      "\"\"\"\n",
      "\n",
      "Nout = cur.execute(command)\n"
     ],
     "language": "python",
     "outputs": [],
     "prompt_number": 3
    },
    {
     "cell_type": "code",
     "collapsed": false,
     "input": [
      "import re\n",
      "import sys\n",
      "\n",
      "## Populate the table ##\n",
      "\n",
      "years = np.arange(2008,1986,-1)\n",
      "\n",
      "#for y in years:\n",
      "for y in [2008]:\n",
      "\n",
      "    filename = '../data/RITA/subsample/%d_r100.csv' % y\n",
      "    print 'Loading data from %s...' % filename\n",
      "    sys.stdout.flush()\n",
      "\t\n",
      "    ## obtain column names\n",
      "    f = open(filename,'r')\n",
      "    header = f.readline().strip()\n",
      "    f.close()\n",
      "    colnames = header.split(',')\n",
      "\n",
      "    Ncol = len(colnames)\n",
      "\n",
      "    ## construct mysql command\n",
      "    command = \"LOAD DATA LOCAL INFILE '%s'\" % filename\n",
      "\n",
      "    command += \"\"\"\n",
      "  INTO TABLE flights_small\n",
      "  FIELDS TERMINATED BY ','\n",
      "  IGNORE 1 LINES\n",
      "\"\"\"\n",
      "    command += '  (' + ','.join(['@col%d' % i for i in xrange(Ncol)]) + ')\\n'\n",
      "    command += '  SET\\n'\n",
      "    for i in xrange(Ncol):\n",
      "\tcommand += \"    %s = IF(@col%d = 'NA' OR @col%d = '', NULL, @col%d),\\n\" % (colnames[i],i,i,i)\n",
      "    command = re.sub(r'(.*),\\n$', r'\\1;\\n', command)\n",
      "\n",
      "#    print command + '\\n'\n",
      "    Nout = cur.execute(command)\n",
      "    print '   Added %d rows.\\n' % Nout\n",
      "    sys.stdout.flush()\n",
      "    "
     ],
     "language": "python",
     "outputs": [
      {
       "output_type": "stream",
       "stream": "stdout",
       "text": [
        "Loading data from ../data/RITA/subsample/2008_r100.csv...\n"
       ]
      },
      {
       "output_type": "stream",
       "stream": "stdout",
       "text": [
        "   Added 70098 rows.\n",
        "\n"
       ]
      }
     ],
     "prompt_number": 4
    },
    {
     "cell_type": "code",
     "collapsed": false,
     "input": [
      "### Drop the table\n",
      "_ = cur.execute('drop table flights_small')"
     ],
     "language": "python",
     "outputs": [],
     "prompt_number": 2
    },
    {
     "cell_type": "code",
     "collapsed": false,
     "input": [
      "### Fetch all rows\n",
      "cur.execute('select * from flights_small')\n",
      "rows = cur.fetchall()\n",
      "print 'Fetched %d rows.' % len(rows)"
     ],
     "language": "python",
     "outputs": [
      {
       "output_type": "stream",
       "stream": "stdout",
       "text": [
        "Fetched 0 rows.\n"
       ]
      }
     ],
     "prompt_number": 8
    },
    {
     "cell_type": "code",
     "collapsed": false,
     "input": [
      "print rows[0]\n",
      "print rows[14]"
     ],
     "language": "python",
     "outputs": [
      {
       "output_type": "stream",
       "stream": "stdout",
       "text": [
        "(1L, 2008L, 1L, 3L, 4L, 2003L, 1955L, 2211L, 2225L, 'WN', 335L, 'N712SW', 128L, 150L, 116L, -14L, 8L, 'IAD', 'TPA', 810L, 4L, 8L, 0L, None, 0L, None, None, None, None, None)\n"
       ]
      }
     ],
     "prompt_number": 114
    },
    {
     "cell_type": "code",
     "collapsed": false,
     "input": [
      "### Close up\n",
      "\n",
      "cur.close()\n",
      "db.close()\n",
      "\n",
      "del cur,db\n"
     ],
     "language": "python",
     "outputs": [],
     "prompt_number": 5
    },
    {
     "cell_type": "markdown",
     "source": [
      "### All flights table (flights) ###\n"
     ]
    },
    {
     "cell_type": "code",
     "collapsed": false,
     "input": [
      "## Create the table ##\n",
      "\n",
      "command = \"\"\"\n",
      "CREATE TABLE flights\n",
      "(\n",
      "\tFlightID\t\tint\tNOT NULL AUTO_INCREMENT,\n",
      "\tYear\t\t\tint\tNOT NULL,\t\n",
      "\tMonth\t\t\tint\tNOT NULL,\n",
      "\tDayofMonth\t\tint\tNOT NULL,\n",
      "\tDayOfWeek\t\tint\tNOT NULL,\n",
      "\tDepTime\t\t\tint\tNULL,\n",
      "\tCRSDepTime\t\tint\tNULL,\n",
      "\tArrTime\t\t\tint\tNULL,\n",
      "\tCRSArrTime\t\tint\tNULL,\n",
      "\tUniqueCarrier\t\tchar(3) NULL,\n",
      "\tFlightNum\t\tint\tNULL,\n",
      "\tTailNum \t\tchar(6) NULL,\n",
      "\tActualElapsedTime\tint\tNULL,\n",
      "\tCRSElapsedTime\t\tint\tNULL,\n",
      "\tAirTime\t\t\tint\tNULL,\n",
      "\tArrDelay\t\tint\tNULL,\n",
      "\tDepDelay\t\tint\tNULL,\n",
      "\tOrigin\t\t\tchar(3) NULL,\n",
      "\tDest\t\t\tchar(3) NULL,\n",
      "\tDistance\t\tint\tNULL,\n",
      "\tTaxiIn\t\t\tint\tNULL,\n",
      "\tTaxiOut\t \t\tint\tNULL,\n",
      "\tCancelled\t\tint\tNULL,\n",
      "\tCancellationCode\tchar(1)\tNULL,\n",
      "\tDiverted\t\tint\tNULL,\n",
      "\tCarrierDelay\t\tint\tNULL,\n",
      "\tWeatherDelay\t\tint\tNULL,\t\t\n",
      "\tNASDelay\t\tint\tNULL,\n",
      "\tSecurityDelay\t\tint\tNULL,\n",
      "\tLateAircraftDelay\tint\tNULL,\n",
      "\tPRIMARY KEY (FlightID)\n",
      ") ENGINE=InnoDB;\n",
      "\n",
      "\"\"\"\n",
      "\n",
      "Nout = cur.execute(command)\n"
     ],
     "language": "python",
     "outputs": [],
     "prompt_number": 2
    },
    {
     "cell_type": "code",
     "collapsed": true,
     "input": [
      "import re\n",
      "import sys\n",
      "\n",
      "## Populate the table ##\n",
      "\n",
      "years = np.arange(2008,1986,-1)\n",
      "\n",
      "for y in years:\n",
      "#for y in [2008]:\n",
      "\n",
      "    filename = '../data/RITA/%d.csv' % y\n",
      "    print 'Loading data from %s...' % filename\n",
      "    sys.stdout.flush()\n",
      "\t\n",
      "    ## obtain column names\n",
      "    f = open(filename,'r')\n",
      "    header = f.readline().strip()\n",
      "    f.close()\n",
      "    colnames = header.split(',')\n",
      "\n",
      "    Ncol = len(colnames)\n",
      "\n",
      "    ## construct mysql command\n",
      "    command = \"LOAD DATA LOCAL INFILE '%s'\" % filename\n",
      "\n",
      "    command += \"\"\"\n",
      "  INTO TABLE flights\n",
      "  FIELDS TERMINATED BY ','\n",
      "  IGNORE 1 LINES\n",
      "\"\"\"\n",
      "    command += '  (' + ','.join(['@col%d' % i for i in xrange(Ncol)]) + ')\\n'\n",
      "    command += '  SET\\n'\n",
      "    for i in xrange(Ncol):\n",
      "\tcommand += \"    %s = IF(@col%d = 'NA' OR @col%d = '', NULL, @col%d),\\n\" % (colnames[i],i,i,i)\n",
      "    command = re.sub(r'(.*),\\n$', r'\\1;\\n', command)\n",
      "\n",
      "    ## print command + '\\n'\n",
      "    Nout = cur.execute(command)\n",
      "    print '   Added %d rows.\\n' % Nout\n",
      "    sys.stdout.flush()\n",
      "    "
     ],
     "language": "python",
     "outputs": [
      {
       "output_type": "stream",
       "stream": "stdout",
       "text": [
        "Loading data from ../data/RITA/2008.csv...\n"
       ]
      },
      {
       "output_type": "stream",
       "stream": "stdout",
       "text": [
        "   Added 7009728 rows.\n",
        "\n"
       ]
      },
      {
       "output_type": "stream",
       "stream": "stdout",
       "text": [
        "Loading data from ../data/RITA/2007.csv...\n"
       ]
      },
      {
       "output_type": "stream",
       "stream": "stdout",
       "text": [
        "   Added 7453215 rows.\n",
        "\n"
       ]
      },
      {
       "output_type": "stream",
       "stream": "stdout",
       "text": [
        "Loading data from ../data/RITA/2006.csv...\n"
       ]
      },
      {
       "output_type": "stream",
       "stream": "stdout",
       "text": [
        "   Added 7141922 rows.\n",
        "\n"
       ]
      },
      {
       "output_type": "stream",
       "stream": "stdout",
       "text": [
        "Loading data from ../data/RITA/2005.csv...\n"
       ]
      },
      {
       "output_type": "stream",
       "stream": "stdout",
       "text": [
        "   Added 7140596 rows.\n",
        "\n"
       ]
      },
      {
       "output_type": "stream",
       "stream": "stdout",
       "text": [
        "Loading data from ../data/RITA/2004.csv...\n"
       ]
      },
      {
       "output_type": "stream",
       "stream": "stdout",
       "text": [
        "   Added 7129270 rows.\n",
        "\n"
       ]
      },
      {
       "output_type": "stream",
       "stream": "stdout",
       "text": [
        "Loading data from ../data/RITA/2003.csv...\n"
       ]
      },
      {
       "output_type": "stream",
       "stream": "stdout",
       "text": [
        "   Added 6488540 rows.\n",
        "\n"
       ]
      },
      {
       "output_type": "stream",
       "stream": "stdout",
       "text": [
        "Loading data from ../data/RITA/2002.csv...\n"
       ]
      },
      {
       "output_type": "stream",
       "stream": "stdout",
       "text": [
        "   Added 5271359 rows.\n",
        "\n"
       ]
      },
      {
       "output_type": "stream",
       "stream": "stdout",
       "text": [
        "Loading data from ../data/RITA/2001.csv...\n"
       ]
      },
      {
       "output_type": "stream",
       "stream": "stdout",
       "text": [
        "   Added 5967780 rows.\n",
        "\n"
       ]
      },
      {
       "output_type": "stream",
       "stream": "stdout",
       "text": [
        "Loading data from ../data/RITA/2000.csv...\n"
       ]
      },
      {
       "output_type": "stream",
       "stream": "stdout",
       "text": [
        "   Added 5683047 rows.\n",
        "\n"
       ]
      },
      {
       "output_type": "stream",
       "stream": "stdout",
       "text": [
        "Loading data from ../data/RITA/1999.csv...\n"
       ]
      },
      {
       "output_type": "stream",
       "stream": "stdout",
       "text": [
        "   Added 5527884 rows.\n",
        "\n"
       ]
      },
      {
       "output_type": "stream",
       "stream": "stdout",
       "text": [
        "Loading data from ../data/RITA/1998.csv...\n"
       ]
      },
      {
       "output_type": "stream",
       "stream": "stdout",
       "text": [
        "   Added 5384721 rows.\n",
        "\n"
       ]
      },
      {
       "output_type": "stream",
       "stream": "stdout",
       "text": [
        "Loading data from ../data/RITA/1997.csv...\n"
       ]
      },
      {
       "output_type": "stream",
       "stream": "stdout",
       "text": [
        "   Added 5411843 rows.\n",
        "\n"
       ]
      },
      {
       "output_type": "stream",
       "stream": "stdout",
       "text": [
        "Loading data from ../data/RITA/1996.csv...\n"
       ]
      },
      {
       "output_type": "stream",
       "stream": "stdout",
       "text": [
        "   Added 5351983 rows.\n",
        "\n"
       ]
      },
      {
       "output_type": "stream",
       "stream": "stdout",
       "text": [
        "Loading data from ../data/RITA/1995.csv...\n"
       ]
      },
      {
       "output_type": "stream",
       "stream": "stdout",
       "text": [
        "   Added 5327435 rows.\n",
        "\n"
       ]
      },
      {
       "output_type": "stream",
       "stream": "stdout",
       "text": [
        "Loading data from ../data/RITA/1994.csv...\n"
       ]
      },
      {
       "output_type": "stream",
       "stream": "stdout",
       "text": [
        "   Added 5180048 rows.\n",
        "\n"
       ]
      },
      {
       "output_type": "stream",
       "stream": "stdout",
       "text": [
        "Loading data from ../data/RITA/1993.csv...\n"
       ]
      },
      {
       "output_type": "stream",
       "stream": "stdout",
       "text": [
        "   Added 5070501 rows.\n",
        "\n"
       ]
      },
      {
       "output_type": "stream",
       "stream": "stdout",
       "text": [
        "Loading data from ../data/RITA/1992.csv...\n"
       ]
      },
      {
       "output_type": "stream",
       "stream": "stdout",
       "text": [
        "   Added 5092157 rows.\n",
        "\n"
       ]
      },
      {
       "output_type": "stream",
       "stream": "stdout",
       "text": [
        "Loading data from ../data/RITA/1991.csv...\n"
       ]
      },
      {
       "output_type": "stream",
       "stream": "stdout",
       "text": [
        "   Added 5076925 rows.\n",
        "\n"
       ]
      },
      {
       "output_type": "stream",
       "stream": "stdout",
       "text": [
        "Loading data from ../data/RITA/1990.csv...\n"
       ]
      },
      {
       "output_type": "stream",
       "stream": "stderr",
       "text": [
        "-c:38: Warning: Data truncated for column 'UniqueCarrier' at row 129489\n",
        "-c:38: Warning: Data truncated for column 'UniqueCarrier' at row 129490\n",
        "-c:38: Warning: Data truncated for column 'UniqueCarrier' at row 129491\n",
        "-c:38: Warning: Data truncated for column 'UniqueCarrier' at row 129492\n",
        "-c:38: Warning: Data truncated for column 'UniqueCarrier' at row 129493\n",
        "-c:38: Warning: Data truncated for column 'UniqueCarrier' at row 129494\n",
        "-c:38: Warning: Data truncated for column 'UniqueCarrier' at row 129495\n",
        "-c:38: Warning: Data truncated for column 'UniqueCarrier' at row 129496\n",
        "-c:38: Warning: Data truncated for column 'UniqueCarrier' at row 129497\n",
        "-c:38: Warning: Data truncated for column 'UniqueCarrier' at row 129498\n",
        "-c:38: Warning: Data truncated for column 'UniqueCarrier' at row 129499\n",
        "-c:38: Warning: Data truncated for column 'UniqueCarrier' at row 129500\n",
        "-c:38: Warning: Data truncated for column 'UniqueCarrier' at row 129501\n",
        "-c:38: Warning: Data truncated for column 'UniqueCarrier' at row 129502\n",
        "-c:38: Warning: Data truncated for column 'UniqueCarrier' at row 129503\n",
        "-c:38: Warning: Data truncated for column 'UniqueCarrier' at row 129504\n",
        "-c:38: Warning: Data truncated for column 'UniqueCarrier' at row 129505\n",
        "-c:38: Warning: Data truncated for column 'UniqueCarrier' at row 129506\n",
        "-c:38: Warning: Data truncated for column 'UniqueCarrier' at row 129507\n",
        "-c:38: Warning: Data truncated for column 'UniqueCarrier' at row 129508\n",
        "-c:38: Warning: Data truncated for column 'UniqueCarrier' at row 129509\n",
        "-c:38: Warning: Data truncated for column 'UniqueCarrier' at row 129510\n",
        "-c:38: Warning: Data truncated for column 'UniqueCarrier' at row 129511\n",
        "-c:38: Warning: Data truncated for column 'UniqueCarrier' at row 129512\n",
        "-c:38: Warning: Data truncated for column 'UniqueCarrier' at row 129513\n",
        "-c:38: Warning: Data truncated for column 'UniqueCarrier' at row 129514\n",
        "-c:38: Warning: Data truncated for column 'UniqueCarrier' at row 129515\n",
        "-c:38: Warning: Data truncated for column 'UniqueCarrier' at row 129516\n",
        "-c:38: Warning: Data truncated for column 'UniqueCarrier' at row 129517\n",
        "-c:38: Warning: Data truncated for column 'UniqueCarrier' at row 129518\n",
        "-c:38: Warning: Data truncated for column 'UniqueCarrier' at row 129519\n",
        "-c:38: Warning: Data truncated for column 'UniqueCarrier' at row 129520\n",
        "-c:38: Warning: Data truncated for column 'UniqueCarrier' at row 129521\n",
        "-c:38: Warning: Data truncated for column 'UniqueCarrier' at row 129522\n",
        "-c:38: Warning: Data truncated for column 'UniqueCarrier' at row 129523\n",
        "-c:38: Warning: Data truncated for column 'UniqueCarrier' at row 129524\n",
        "-c:38: Warning: Data truncated for column 'UniqueCarrier' at row 129525\n",
        "-c:38: Warning: Data truncated for column 'UniqueCarrier' at row 129526\n",
        "-c:38: Warning: Data truncated for column 'UniqueCarrier' at row 129527\n",
        "-c:38: Warning: Data truncated for column 'UniqueCarrier' at row 129528\n",
        "-c:38: Warning: Data truncated for column 'UniqueCarrier' at row 129529\n",
        "-c:38: Warning: Data truncated for column 'UniqueCarrier' at row 129530\n",
        "-c:38: Warning: Data truncated for column 'UniqueCarrier' at row 129531\n",
        "-c:38: Warning: Data truncated for column 'UniqueCarrier' at row 129532\n",
        "-c:38: Warning: Data truncated for column 'UniqueCarrier' at row 129533\n",
        "-c:38: Warning: Data truncated for column 'UniqueCarrier' at row 129534\n",
        "-c:38: Warning: Data truncated for column 'UniqueCarrier' at row 129535\n",
        "-c:38: Warning: Data truncated for column 'UniqueCarrier' at row 129536\n",
        "-c:38: Warning: Data truncated for column 'UniqueCarrier' at row 129537\n",
        "-c:38: Warning: Data truncated for column 'UniqueCarrier' at row 129538\n",
        "-c:38: Warning: Data truncated for column 'UniqueCarrier' at row 129539\n",
        "-c:38: Warning: Data truncated for column 'UniqueCarrier' at row 129540\n",
        "-c:38: Warning: Data truncated for column 'UniqueCarrier' at row 129541\n",
        "-c:38: Warning: Data truncated for column 'UniqueCarrier' at row 129542\n",
        "-c:38: Warning: Data truncated for column 'UniqueCarrier' at row 129543\n",
        "-c:38: Warning: Data truncated for column 'UniqueCarrier' at row 129544\n",
        "-c:38: Warning: Data truncated for column 'UniqueCarrier' at row 129545\n",
        "-c:38: Warning: Data truncated for column 'UniqueCarrier' at row 129546\n",
        "-c:38: Warning: Data truncated for column 'UniqueCarrier' at row 129547\n",
        "-c:38: Warning: Data truncated for column 'UniqueCarrier' at row 129548\n",
        "-c:38: Warning: Data truncated for column 'UniqueCarrier' at row 129549\n",
        "-c:38: Warning: Data truncated for column 'UniqueCarrier' at row 129550\n",
        "-c:38: Warning: Data truncated for column 'UniqueCarrier' at row 129551\n",
        "-c:38: Warning: Data truncated for column 'UniqueCarrier' at row 129552\n",
        "-c:38: Warning: Data truncated for column 'UniqueCarrier' at row 138937\n"
       ]
      },
      {
       "output_type": "stream",
       "stream": "stdout",
       "text": [
        "   Added 5270893 rows.\n",
        "\n"
       ]
      },
      {
       "output_type": "stream",
       "stream": "stdout",
       "text": [
        "Loading data from ../data/RITA/1989.csv...\n"
       ]
      },
      {
       "output_type": "stream",
       "stream": "stderr",
       "text": [
        "-c:38: Warning: Data truncated for column 'UniqueCarrier' at row 138938\n",
        "-c:38: Warning: Data truncated for column 'UniqueCarrier' at row 138939\n",
        "-c:38: Warning: Data truncated for column 'UniqueCarrier' at row 138940\n",
        "-c:38: Warning: Data truncated for column 'UniqueCarrier' at row 138941\n",
        "-c:38: Warning: Data truncated for column 'UniqueCarrier' at row 138942\n",
        "-c:38: Warning: Data truncated for column 'UniqueCarrier' at row 138943\n",
        "-c:38: Warning: Data truncated for column 'UniqueCarrier' at row 138944\n",
        "-c:38: Warning: Data truncated for column 'UniqueCarrier' at row 138945\n",
        "-c:38: Warning: Data truncated for column 'UniqueCarrier' at row 138946\n",
        "-c:38: Warning: Data truncated for column 'UniqueCarrier' at row 138947\n",
        "-c:38: Warning: Data truncated for column 'UniqueCarrier' at row 138948\n",
        "-c:38: Warning: Data truncated for column 'UniqueCarrier' at row 138949\n",
        "-c:38: Warning: Data truncated for column 'UniqueCarrier' at row 138950\n",
        "-c:38: Warning: Data truncated for column 'UniqueCarrier' at row 138951\n",
        "-c:38: Warning: Data truncated for column 'UniqueCarrier' at row 138952\n",
        "-c:38: Warning: Data truncated for column 'UniqueCarrier' at row 138953\n",
        "-c:38: Warning: Data truncated for column 'UniqueCarrier' at row 138954\n",
        "-c:38: Warning: Data truncated for column 'UniqueCarrier' at row 138955\n",
        "-c:38: Warning: Data truncated for column 'UniqueCarrier' at row 138956\n",
        "-c:38: Warning: Data truncated for column 'UniqueCarrier' at row 138957\n",
        "-c:38: Warning: Data truncated for column 'UniqueCarrier' at row 138958\n",
        "-c:38: Warning: Data truncated for column 'UniqueCarrier' at row 138959\n",
        "-c:38: Warning: Data truncated for column 'UniqueCarrier' at row 138960\n",
        "-c:38: Warning: Data truncated for column 'UniqueCarrier' at row 138961\n",
        "-c:38: Warning: Data truncated for column 'UniqueCarrier' at row 138962\n",
        "-c:38: Warning: Data truncated for column 'UniqueCarrier' at row 138963\n",
        "-c:38: Warning: Data truncated for column 'UniqueCarrier' at row 138964\n",
        "-c:38: Warning: Data truncated for column 'UniqueCarrier' at row 138965\n",
        "-c:38: Warning: Data truncated for column 'UniqueCarrier' at row 138966\n",
        "-c:38: Warning: Data truncated for column 'UniqueCarrier' at row 138967\n",
        "-c:38: Warning: Data truncated for column 'UniqueCarrier' at row 138968\n",
        "-c:38: Warning: Data truncated for column 'UniqueCarrier' at row 138969\n",
        "-c:38: Warning: Data truncated for column 'UniqueCarrier' at row 138970\n",
        "-c:38: Warning: Data truncated for column 'UniqueCarrier' at row 138971\n",
        "-c:38: Warning: Data truncated for column 'UniqueCarrier' at row 138972\n",
        "-c:38: Warning: Data truncated for column 'UniqueCarrier' at row 138973\n",
        "-c:38: Warning: Data truncated for column 'UniqueCarrier' at row 138974\n",
        "-c:38: Warning: Data truncated for column 'UniqueCarrier' at row 138975\n",
        "-c:38: Warning: Data truncated for column 'UniqueCarrier' at row 138976\n",
        "-c:38: Warning: Data truncated for column 'UniqueCarrier' at row 138977\n",
        "-c:38: Warning: Data truncated for column 'UniqueCarrier' at row 138978\n",
        "-c:38: Warning: Data truncated for column 'UniqueCarrier' at row 138979\n",
        "-c:38: Warning: Data truncated for column 'UniqueCarrier' at row 138980\n",
        "-c:38: Warning: Data truncated for column 'UniqueCarrier' at row 138981\n",
        "-c:38: Warning: Data truncated for column 'UniqueCarrier' at row 138982\n",
        "-c:38: Warning: Data truncated for column 'UniqueCarrier' at row 138983\n",
        "-c:38: Warning: Data truncated for column 'UniqueCarrier' at row 138984\n",
        "-c:38: Warning: Data truncated for column 'UniqueCarrier' at row 138985\n",
        "-c:38: Warning: Data truncated for column 'UniqueCarrier' at row 138986\n",
        "-c:38: Warning: Data truncated for column 'UniqueCarrier' at row 138987\n",
        "-c:38: Warning: Data truncated for column 'UniqueCarrier' at row 138988\n",
        "-c:38: Warning: Data truncated for column 'UniqueCarrier' at row 138989\n",
        "-c:38: Warning: Data truncated for column 'UniqueCarrier' at row 138990\n",
        "-c:38: Warning: Data truncated for column 'UniqueCarrier' at row 138991\n",
        "-c:38: Warning: Data truncated for column 'UniqueCarrier' at row 138992\n",
        "-c:38: Warning: Data truncated for column 'UniqueCarrier' at row 138993\n",
        "-c:38: Warning: Data truncated for column 'UniqueCarrier' at row 138994\n",
        "-c:38: Warning: Data truncated for column 'UniqueCarrier' at row 138995\n",
        "-c:38: Warning: Data truncated for column 'UniqueCarrier' at row 138996\n",
        "-c:38: Warning: Data truncated for column 'UniqueCarrier' at row 138997\n",
        "-c:38: Warning: Data truncated for column 'UniqueCarrier' at row 138998\n",
        "-c:38: Warning: Data truncated for column 'UniqueCarrier' at row 138999\n",
        "-c:38: Warning: Data truncated for column 'UniqueCarrier' at row 139000\n",
        "-c:38: Warning: Data truncated for column 'UniqueCarrier' at row 142301\n"
       ]
      },
      {
       "output_type": "stream",
       "stream": "stdout",
       "text": [
        "   Added 5041200 rows.\n",
        "\n"
       ]
      },
      {
       "output_type": "stream",
       "stream": "stdout",
       "text": [
        "Loading data from ../data/RITA/1988.csv...\n"
       ]
      },
      {
       "output_type": "stream",
       "stream": "stderr",
       "text": [
        "-c:38: Warning: Data truncated for column 'UniqueCarrier' at row 142302\n",
        "-c:38: Warning: Data truncated for column 'UniqueCarrier' at row 142303\n",
        "-c:38: Warning: Data truncated for column 'UniqueCarrier' at row 142304\n",
        "-c:38: Warning: Data truncated for column 'UniqueCarrier' at row 142305\n",
        "-c:38: Warning: Data truncated for column 'UniqueCarrier' at row 142306\n",
        "-c:38: Warning: Data truncated for column 'UniqueCarrier' at row 142307\n",
        "-c:38: Warning: Data truncated for column 'UniqueCarrier' at row 142308\n",
        "-c:38: Warning: Data truncated for column 'UniqueCarrier' at row 142309\n",
        "-c:38: Warning: Data truncated for column 'UniqueCarrier' at row 142310\n",
        "-c:38: Warning: Data truncated for column 'UniqueCarrier' at row 142311\n",
        "-c:38: Warning: Data truncated for column 'UniqueCarrier' at row 142312\n",
        "-c:38: Warning: Data truncated for column 'UniqueCarrier' at row 142313\n",
        "-c:38: Warning: Data truncated for column 'UniqueCarrier' at row 142314\n",
        "-c:38: Warning: Data truncated for column 'UniqueCarrier' at row 142315\n",
        "-c:38: Warning: Data truncated for column 'UniqueCarrier' at row 142316\n",
        "-c:38: Warning: Data truncated for column 'UniqueCarrier' at row 142317\n",
        "-c:38: Warning: Data truncated for column 'UniqueCarrier' at row 142318\n",
        "-c:38: Warning: Data truncated for column 'UniqueCarrier' at row 142319\n",
        "-c:38: Warning: Data truncated for column 'UniqueCarrier' at row 142320\n",
        "-c:38: Warning: Data truncated for column 'UniqueCarrier' at row 142321\n",
        "-c:38: Warning: Data truncated for column 'UniqueCarrier' at row 142322\n",
        "-c:38: Warning: Data truncated for column 'UniqueCarrier' at row 142323\n",
        "-c:38: Warning: Data truncated for column 'UniqueCarrier' at row 142324\n",
        "-c:38: Warning: Data truncated for column 'UniqueCarrier' at row 142325\n",
        "-c:38: Warning: Data truncated for column 'UniqueCarrier' at row 142326\n",
        "-c:38: Warning: Data truncated for column 'UniqueCarrier' at row 142327\n",
        "-c:38: Warning: Data truncated for column 'UniqueCarrier' at row 142328\n",
        "-c:38: Warning: Data truncated for column 'UniqueCarrier' at row 142329\n",
        "-c:38: Warning: Data truncated for column 'UniqueCarrier' at row 142330\n",
        "-c:38: Warning: Data truncated for column 'UniqueCarrier' at row 142331\n",
        "-c:38: Warning: Data truncated for column 'UniqueCarrier' at row 142332\n",
        "-c:38: Warning: Data truncated for column 'UniqueCarrier' at row 142333\n",
        "-c:38: Warning: Data truncated for column 'UniqueCarrier' at row 142334\n",
        "-c:38: Warning: Data truncated for column 'UniqueCarrier' at row 142335\n",
        "-c:38: Warning: Data truncated for column 'UniqueCarrier' at row 142336\n",
        "-c:38: Warning: Data truncated for column 'UniqueCarrier' at row 142337\n",
        "-c:38: Warning: Data truncated for column 'UniqueCarrier' at row 142338\n",
        "-c:38: Warning: Data truncated for column 'UniqueCarrier' at row 142339\n",
        "-c:38: Warning: Data truncated for column 'UniqueCarrier' at row 142340\n",
        "-c:38: Warning: Data truncated for column 'UniqueCarrier' at row 142341\n",
        "-c:38: Warning: Data truncated for column 'UniqueCarrier' at row 142342\n",
        "-c:38: Warning: Data truncated for column 'UniqueCarrier' at row 142343\n",
        "-c:38: Warning: Data truncated for column 'UniqueCarrier' at row 142344\n",
        "-c:38: Warning: Data truncated for column 'UniqueCarrier' at row 142345\n",
        "-c:38: Warning: Data truncated for column 'UniqueCarrier' at row 142346\n",
        "-c:38: Warning: Data truncated for column 'UniqueCarrier' at row 142347\n",
        "-c:38: Warning: Data truncated for column 'UniqueCarrier' at row 142348\n",
        "-c:38: Warning: Data truncated for column 'UniqueCarrier' at row 142349\n",
        "-c:38: Warning: Data truncated for column 'UniqueCarrier' at row 142350\n",
        "-c:38: Warning: Data truncated for column 'UniqueCarrier' at row 142351\n",
        "-c:38: Warning: Data truncated for column 'UniqueCarrier' at row 142352\n",
        "-c:38: Warning: Data truncated for column 'UniqueCarrier' at row 142353\n",
        "-c:38: Warning: Data truncated for column 'UniqueCarrier' at row 142354\n",
        "-c:38: Warning: Data truncated for column 'UniqueCarrier' at row 142355\n",
        "-c:38: Warning: Data truncated for column 'UniqueCarrier' at row 142356\n",
        "-c:38: Warning: Data truncated for column 'UniqueCarrier' at row 142357\n",
        "-c:38: Warning: Data truncated for column 'UniqueCarrier' at row 142358\n",
        "-c:38: Warning: Data truncated for column 'UniqueCarrier' at row 142359\n",
        "-c:38: Warning: Data truncated for column 'UniqueCarrier' at row 142360\n",
        "-c:38: Warning: Data truncated for column 'UniqueCarrier' at row 142361\n",
        "-c:38: Warning: Data truncated for column 'UniqueCarrier' at row 142362\n",
        "-c:38: Warning: Data truncated for column 'UniqueCarrier' at row 142363\n",
        "-c:38: Warning: Data truncated for column 'UniqueCarrier' at row 142364\n",
        "-c:38: Warning: Data truncated for column 'UniqueCarrier' at row 173273\n"
       ]
      },
      {
       "output_type": "stream",
       "stream": "stdout",
       "text": [
        "   Added 5202096 rows.\n",
        "\n"
       ]
      },
      {
       "output_type": "stream",
       "stream": "stdout",
       "text": [
        "Loading data from ../data/RITA/1987.csv...\n"
       ]
      },
      {
       "output_type": "stream",
       "stream": "stderr",
       "text": [
        "-c:38: Warning: Data truncated for column 'UniqueCarrier' at row 173274\n",
        "-c:38: Warning: Data truncated for column 'UniqueCarrier' at row 173275\n",
        "-c:38: Warning: Data truncated for column 'UniqueCarrier' at row 173276\n",
        "-c:38: Warning: Data truncated for column 'UniqueCarrier' at row 173277\n",
        "-c:38: Warning: Data truncated for column 'UniqueCarrier' at row 173278\n",
        "-c:38: Warning: Data truncated for column 'UniqueCarrier' at row 173279\n",
        "-c:38: Warning: Data truncated for column 'UniqueCarrier' at row 173280\n",
        "-c:38: Warning: Data truncated for column 'UniqueCarrier' at row 173281\n",
        "-c:38: Warning: Data truncated for column 'UniqueCarrier' at row 173282\n",
        "-c:38: Warning: Data truncated for column 'UniqueCarrier' at row 173283\n",
        "-c:38: Warning: Data truncated for column 'UniqueCarrier' at row 173284\n",
        "-c:38: Warning: Data truncated for column 'UniqueCarrier' at row 173285\n",
        "-c:38: Warning: Data truncated for column 'UniqueCarrier' at row 173286\n",
        "-c:38: Warning: Data truncated for column 'UniqueCarrier' at row 173287\n",
        "-c:38: Warning: Data truncated for column 'UniqueCarrier' at row 173288\n",
        "-c:38: Warning: Data truncated for column 'UniqueCarrier' at row 173289\n",
        "-c:38: Warning: Data truncated for column 'UniqueCarrier' at row 173290\n",
        "-c:38: Warning: Data truncated for column 'UniqueCarrier' at row 173291\n",
        "-c:38: Warning: Data truncated for column 'UniqueCarrier' at row 173292\n",
        "-c:38: Warning: Data truncated for column 'UniqueCarrier' at row 173293\n",
        "-c:38: Warning: Data truncated for column 'UniqueCarrier' at row 173294\n",
        "-c:38: Warning: Data truncated for column 'UniqueCarrier' at row 173295\n",
        "-c:38: Warning: Data truncated for column 'UniqueCarrier' at row 173296\n",
        "-c:38: Warning: Data truncated for column 'UniqueCarrier' at row 173297\n",
        "-c:38: Warning: Data truncated for column 'UniqueCarrier' at row 173298\n",
        "-c:38: Warning: Data truncated for column 'UniqueCarrier' at row 173299\n",
        "-c:38: Warning: Data truncated for column 'UniqueCarrier' at row 173300\n",
        "-c:38: Warning: Data truncated for column 'UniqueCarrier' at row 173301\n",
        "-c:38: Warning: Data truncated for column 'UniqueCarrier' at row 173302\n",
        "-c:38: Warning: Data truncated for column 'UniqueCarrier' at row 173303\n",
        "-c:38: Warning: Data truncated for column 'UniqueCarrier' at row 173304\n",
        "-c:38: Warning: Data truncated for column 'UniqueCarrier' at row 173305\n",
        "-c:38: Warning: Data truncated for column 'UniqueCarrier' at row 173306\n",
        "-c:38: Warning: Data truncated for column 'UniqueCarrier' at row 173307\n",
        "-c:38: Warning: Data truncated for column 'UniqueCarrier' at row 173308\n",
        "-c:38: Warning: Data truncated for column 'UniqueCarrier' at row 173309\n",
        "-c:38: Warning: Data truncated for column 'UniqueCarrier' at row 173310\n",
        "-c:38: Warning: Data truncated for column 'UniqueCarrier' at row 173311\n",
        "-c:38: Warning: Data truncated for column 'UniqueCarrier' at row 173312\n",
        "-c:38: Warning: Data truncated for column 'UniqueCarrier' at row 173313\n",
        "-c:38: Warning: Data truncated for column 'UniqueCarrier' at row 173314\n",
        "-c:38: Warning: Data truncated for column 'UniqueCarrier' at row 173315\n",
        "-c:38: Warning: Data truncated for column 'UniqueCarrier' at row 173316\n",
        "-c:38: Warning: Data truncated for column 'UniqueCarrier' at row 173317\n",
        "-c:38: Warning: Data truncated for column 'UniqueCarrier' at row 173318\n",
        "-c:38: Warning: Data truncated for column 'UniqueCarrier' at row 173319\n",
        "-c:38: Warning: Data truncated for column 'UniqueCarrier' at row 173320\n",
        "-c:38: Warning: Data truncated for column 'UniqueCarrier' at row 173321\n",
        "-c:38: Warning: Data truncated for column 'UniqueCarrier' at row 173322\n",
        "-c:38: Warning: Data truncated for column 'UniqueCarrier' at row 173323\n",
        "-c:38: Warning: Data truncated for column 'UniqueCarrier' at row 173324\n",
        "-c:38: Warning: Data truncated for column 'UniqueCarrier' at row 173325\n",
        "-c:38: Warning: Data truncated for column 'UniqueCarrier' at row 173326\n",
        "-c:38: Warning: Data truncated for column 'UniqueCarrier' at row 173327\n",
        "-c:38: Warning: Data truncated for column 'UniqueCarrier' at row 173328\n",
        "-c:38: Warning: Data truncated for column 'UniqueCarrier' at row 173329\n",
        "-c:38: Warning: Data truncated for column 'UniqueCarrier' at row 173330\n",
        "-c:38: Warning: Data truncated for column 'UniqueCarrier' at row 173331\n",
        "-c:38: Warning: Data truncated for column 'UniqueCarrier' at row 173332\n",
        "-c:38: Warning: Data truncated for column 'UniqueCarrier' at row 173333\n",
        "-c:38: Warning: Data truncated for column 'UniqueCarrier' at row 173334\n",
        "-c:38: Warning: Data truncated for column 'UniqueCarrier' at row 173335\n",
        "-c:38: Warning: Data truncated for column 'UniqueCarrier' at row 173336\n",
        "-c:38: Warning: Data truncated for column 'UniqueCarrier' at row 178961\n"
       ]
      },
      {
       "output_type": "stream",
       "stream": "stdout",
       "text": [
        "   Added 1311826 rows.\n",
        "\n"
       ]
      },
      {
       "output_type": "stream",
       "stream": "stderr",
       "text": [
        "-c:38: Warning: Data truncated for column 'UniqueCarrier' at row 178962\n",
        "-c:38: Warning: Data truncated for column 'UniqueCarrier' at row 178963\n",
        "-c:38: Warning: Data truncated for column 'UniqueCarrier' at row 178964\n",
        "-c:38: Warning: Data truncated for column 'UniqueCarrier' at row 178965\n",
        "-c:38: Warning: Data truncated for column 'UniqueCarrier' at row 178966\n",
        "-c:38: Warning: Data truncated for column 'UniqueCarrier' at row 178967\n",
        "-c:38: Warning: Data truncated for column 'UniqueCarrier' at row 178968\n",
        "-c:38: Warning: Data truncated for column 'UniqueCarrier' at row 178969\n",
        "-c:38: Warning: Data truncated for column 'UniqueCarrier' at row 178970\n",
        "-c:38: Warning: Data truncated for column 'UniqueCarrier' at row 178971\n",
        "-c:38: Warning: Data truncated for column 'UniqueCarrier' at row 178972\n",
        "-c:38: Warning: Data truncated for column 'UniqueCarrier' at row 178973\n",
        "-c:38: Warning: Data truncated for column 'UniqueCarrier' at row 178974\n",
        "-c:38: Warning: Data truncated for column 'UniqueCarrier' at row 178975\n",
        "-c:38: Warning: Data truncated for column 'UniqueCarrier' at row 178976\n",
        "-c:38: Warning: Data truncated for column 'UniqueCarrier' at row 178977\n",
        "-c:38: Warning: Data truncated for column 'UniqueCarrier' at row 178978\n",
        "-c:38: Warning: Data truncated for column 'UniqueCarrier' at row 178979\n",
        "-c:38: Warning: Data truncated for column 'UniqueCarrier' at row 178980\n",
        "-c:38: Warning: Data truncated for column 'UniqueCarrier' at row 178981\n",
        "-c:38: Warning: Data truncated for column 'UniqueCarrier' at row 178982\n",
        "-c:38: Warning: Data truncated for column 'UniqueCarrier' at row 178983\n",
        "-c:38: Warning: Data truncated for column 'UniqueCarrier' at row 178984\n",
        "-c:38: Warning: Data truncated for column 'UniqueCarrier' at row 178985\n",
        "-c:38: Warning: Data truncated for column 'UniqueCarrier' at row 178986\n",
        "-c:38: Warning: Data truncated for column 'UniqueCarrier' at row 178987\n",
        "-c:38: Warning: Data truncated for column 'UniqueCarrier' at row 178988\n",
        "-c:38: Warning: Data truncated for column 'UniqueCarrier' at row 178989\n",
        "-c:38: Warning: Data truncated for column 'UniqueCarrier' at row 178990\n",
        "-c:38: Warning: Data truncated for column 'UniqueCarrier' at row 178991\n",
        "-c:38: Warning: Data truncated for column 'UniqueCarrier' at row 178992\n",
        "-c:38: Warning: Data truncated for column 'UniqueCarrier' at row 178993\n",
        "-c:38: Warning: Data truncated for column 'UniqueCarrier' at row 178994\n",
        "-c:38: Warning: Data truncated for column 'UniqueCarrier' at row 178995\n",
        "-c:38: Warning: Data truncated for column 'UniqueCarrier' at row 178996\n",
        "-c:38: Warning: Data truncated for column 'UniqueCarrier' at row 178997\n",
        "-c:38: Warning: Data truncated for column 'UniqueCarrier' at row 178998\n",
        "-c:38: Warning: Data truncated for column 'UniqueCarrier' at row 178999\n",
        "-c:38: Warning: Data truncated for column 'UniqueCarrier' at row 179000\n",
        "-c:38: Warning: Data truncated for column 'UniqueCarrier' at row 179001\n",
        "-c:38: Warning: Data truncated for column 'UniqueCarrier' at row 179002\n",
        "-c:38: Warning: Data truncated for column 'UniqueCarrier' at row 179003\n",
        "-c:38: Warning: Data truncated for column 'UniqueCarrier' at row 179004\n",
        "-c:38: Warning: Data truncated for column 'UniqueCarrier' at row 179005\n",
        "-c:38: Warning: Data truncated for column 'UniqueCarrier' at row 179006\n",
        "-c:38: Warning: Data truncated for column 'UniqueCarrier' at row 179007\n",
        "-c:38: Warning: Data truncated for column 'UniqueCarrier' at row 179008\n",
        "-c:38: Warning: Data truncated for column 'UniqueCarrier' at row 179009\n",
        "-c:38: Warning: Data truncated for column 'UniqueCarrier' at row 179010\n",
        "-c:38: Warning: Data truncated for column 'UniqueCarrier' at row 179011\n",
        "-c:38: Warning: Data truncated for column 'UniqueCarrier' at row 179012\n",
        "-c:38: Warning: Data truncated for column 'UniqueCarrier' at row 179013\n",
        "-c:38: Warning: Data truncated for column 'UniqueCarrier' at row 179014\n",
        "-c:38: Warning: Data truncated for column 'UniqueCarrier' at row 179015\n",
        "-c:38: Warning: Data truncated for column 'UniqueCarrier' at row 179016\n",
        "-c:38: Warning: Data truncated for column 'UniqueCarrier' at row 179017\n",
        "-c:38: Warning: Data truncated for column 'UniqueCarrier' at row 179018\n",
        "-c:38: Warning: Data truncated for column 'UniqueCarrier' at row 179019\n",
        "-c:38: Warning: Data truncated for column 'UniqueCarrier' at row 179020\n",
        "-c:38: Warning: Data truncated for column 'UniqueCarrier' at row 179021\n",
        "-c:38: Warning: Data truncated for column 'UniqueCarrier' at row 179022\n",
        "-c:38: Warning: Data truncated for column 'UniqueCarrier' at row 179023\n",
        "-c:38: Warning: Data truncated for column 'UniqueCarrier' at row 179024\n"
       ]
      }
     ],
     "prompt_number": 3
    },
    {
     "cell_type": "code",
     "collapsed": true,
     "input": [
      "### Drop the table\n",
      "_ = cur.execute('drop table flights')"
     ],
     "language": "python",
     "outputs": [],
     "prompt_number": 4
    },
    {
     "cell_type": "code",
     "collapsed": false,
     "input": [
      "cur.execute('select FlightID from flights')"
     ],
     "language": "python",
     "outputs": [
      {
       "output_type": "pyout",
       "prompt_number": 4,
       "text": [
        "0L"
       ]
      }
     ],
     "prompt_number": 4
    },
    {
     "cell_type": "code",
     "collapsed": false,
     "input": [
      "### Fetch all rows\n",
      "cur.execute('select * from flights')\n",
      "rows = cur.fetchall()\n",
      "print 'Fetched %d rows.' % len(rows)"
     ],
     "language": "python",
     "outputs": [
      {
       "output_type": "stream",
       "stream": "stdout",
       "text": [
        "Fetched 0 rows.\n"
       ]
      }
     ],
     "prompt_number": 5
    },
    {
     "cell_type": "code",
     "collapsed": false,
     "input": [
      "### Close up\n",
      "\n",
      "cur.close()\n",
      "db.close()\n",
      "\n",
      "del cur, db"
     ],
     "language": "python",
     "outputs": [],
     "prompt_number": 4
    },
    {
     "cell_type": "markdown",
     "source": [
      "### Extract SFO to JFK flights and put them into their own table###\n",
      "\n",
      "This is to speed up loading of data while I'm developing the model.\n"
     ]
    },
    {
     "cell_type": "code",
     "collapsed": false,
     "input": [
      "## How many SFO-JFK flights are there? ##\n",
      "\n",
      "cur.execute(\"select * from flights where Origin = 'SFO' and Dest = 'JFK'\")\n",
      "rows = cur.fetchall()\n",
      "print 'Fetched %d rows.' % len(rows)"
     ],
     "language": "python",
     "outputs": [
      {
       "output_type": "stream",
       "stream": "stdout",
       "text": [
        "Fetched 105628 rows.\n"
       ]
      }
     ],
     "prompt_number": 7
    },
    {
     "cell_type": "code",
     "collapsed": false,
     "input": [
      "## Create the new table ##\n",
      "\n",
      "command = \"\"\"\n",
      "CREATE TABLE flights_SFOtoJFK\n",
      "(\n",
      "\tFlightID\t\tint\tNOT NULL AUTO_INCREMENT,\n",
      "\tYear\t\t\tint\tNOT NULL,\t\n",
      "\tMonth\t\t\tint\tNOT NULL,\n",
      "\tDayofMonth\t\tint\tNOT NULL,\n",
      "\tDayOfWeek\t\tint\tNOT NULL,\n",
      "\tDepTime\t\t\tint\tNULL,\n",
      "\tCRSDepTime\t\tint\tNULL,\n",
      "\tArrTime\t\t\tint\tNULL,\n",
      "\tCRSArrTime\t\tint\tNULL,\n",
      "\tUniqueCarrier\t\tchar(3) NULL,\n",
      "\tFlightNum\t\tint\tNULL,\n",
      "\tTailNum \t\tchar(6) NULL,\n",
      "\tActualElapsedTime\tint\tNULL,\n",
      "\tCRSElapsedTime\t\tint\tNULL,\n",
      "\tAirTime\t\t\tint\tNULL,\n",
      "\tArrDelay\t\tint\tNULL,\n",
      "\tDepDelay\t\tint\tNULL,\n",
      "\tOrigin\t\t\tchar(3) NULL,\n",
      "\tDest\t\t\tchar(3) NULL,\n",
      "\tDistance\t\tint\tNULL,\n",
      "\tTaxiIn\t\t\tint\tNULL,\n",
      "\tTaxiOut\t \t\tint\tNULL,\n",
      "\tCancelled\t\tint\tNULL,\n",
      "\tCancellationCode\tchar(1)\tNULL,\n",
      "\tDiverted\t\tint\tNULL,\n",
      "\tCarrierDelay\t\tint\tNULL,\n",
      "\tWeatherDelay\t\tint\tNULL,\t\t\n",
      "\tNASDelay\t\tint\tNULL,\n",
      "\tSecurityDelay\t\tint\tNULL,\n",
      "\tLateAircraftDelay\tint\tNULL,\n",
      "\tPRIMARY KEY (FlightID)\n",
      ") ENGINE=InnoDB;\n",
      "\n",
      "\"\"\"\n",
      "\n",
      "Nout = cur.execute(command)\n"
     ],
     "language": "python",
     "outputs": [],
     "prompt_number": 9
    },
    {
     "cell_type": "code",
     "collapsed": false,
     "input": [
      "## Insert into new table ##\n",
      "\n",
      "command = \"\"\"\n",
      "INSERT INTO flights_SFOtoJFK(\n",
      "    FlightID,\n",
      "    Year,\n",
      "    Month,\n",
      "    DayofMonth,\n",
      "    DayOfWeek,\n",
      "    DepTime,\n",
      "    CRSDepTime,\n",
      "    ArrTime,\n",
      "    CRSArrTime,\n",
      "    UniqueCarrier,\n",
      "    FlightNum,\n",
      "    TailNum,\n",
      "    ActualElapsedTime,\n",
      "    CRSElapsedTime,\n",
      "    AirTime,\n",
      "    ArrDelay,\n",
      "    DepDelay,\n",
      "    Origin,\n",
      "    Dest,\n",
      "    Distance,\n",
      "    TaxiIn,\n",
      "    TaxiOut,\n",
      "    Cancelled,\n",
      "    CancellationCode,\n",
      "    Diverted,\n",
      "    CarrierDelay,\n",
      "    WeatherDelay,\n",
      "    NASDelay,\n",
      "    SecurityDelay,\n",
      "    LateAircraftDelay)\n",
      "SELECT * FROM flights WHERE Origin = 'SFO' AND Dest = 'JFK';\n",
      "\"\"\"\n",
      "\n",
      "## print command\n",
      "Nout = cur.execute(command)\n",
      "print '   Added %d rows.' % Nout\n"
     ],
     "language": "python",
     "outputs": [
      {
       "output_type": "stream",
       "stream": "stdout",
       "text": [
        "   Added 105628 rows.\n"
       ]
      }
     ],
     "prompt_number": 12
    },
    {
     "cell_type": "code",
     "collapsed": false,
     "input": [
      "### Close up\n",
      "\n",
      "cur.close()\n",
      "db.close()\n",
      "\n",
      "del cur, db"
     ],
     "language": "python",
     "outputs": [],
     "prompt_number": 13
    },
    {
     "cell_type": "code",
     "collapsed": false,
     "input": [],
     "language": "python",
     "outputs": []
    }
   ]
  }
 ]
}