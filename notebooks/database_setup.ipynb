{
 "metadata": {
  "name": ""
 },
 "nbformat": 3,
 "nbformat_minor": 0,
 "worksheets": [
  {
   "cells": [
    {
     "cell_type": "markdown",
     "source": [
      "## This notebook is for setting up the mysql databases. ##\n"
     ]
    },
    {
     "cell_type": "code",
     "collapsed": false,
     "input": [
      "import pandas as pd\n",
      "from pandas import DataFrame"
     ],
     "language": "python",
     "outputs": [],
     "prompt_number": 1
    },
    {
     "cell_type": "markdown",
     "source": [
      "### Load MySQL python interface and log in. ###\n"
     ]
    },
    {
     "cell_type": "code",
     "collapsed": false,
     "input": [
      "import MySQLdb\n",
      "db = MySQLdb.connect(host=\"virginia.dyndns-at-home.com\",\n",
      "                     user=\"mqk\",\n",
      "                     passwd=\"z2yv52K*hJ<otclN\",\n",
      "                     db=\"DelayMeNot\",\n",
      "                     local_infile = 1)\n",
      "db.autocommit(True)\n",
      "\n",
      "cur = db.cursor()"
     ],
     "language": "python",
     "outputs": [],
     "prompt_number": 2
    },
    {
     "cell_type": "markdown",
     "source": [
      "### Airports, Carriers, and Plane databases ###"
     ]
    },
    {
     "cell_type": "markdown",
     "source": [
      "#### Airports ####"
     ]
    },
    {
     "cell_type": "code",
     "collapsed": false,
     "input": [
      "df = pd.read_csv('../data/airports.csv')\n",
      "df = df[df['country'] == 'USA']\n",
      "\n",
      "df.head()"
     ],
     "language": "python",
     "outputs": [
      {
       "html": [
        "<div style=\"max-height:1000px;max-width:1500px;overflow:auto;\">\n",
        "<table border=\"1\" class=\"dataframe\">\n",
        "  <thead>\n",
        "    <tr style=\"text-align: right;\">\n",
        "      <th></th>\n",
        "      <th>iata</th>\n",
        "      <th>airport</th>\n",
        "      <th>city</th>\n",
        "      <th>state</th>\n",
        "      <th>country</th>\n",
        "      <th>lat</th>\n",
        "      <th>long</th>\n",
        "    </tr>\n",
        "  </thead>\n",
        "  <tbody>\n",
        "    <tr>\n",
        "      <th>0</th>\n",
        "      <td> 00M</td>\n",
        "      <td>             Thigpen </td>\n",
        "      <td>      Bay Springs</td>\n",
        "      <td> MS</td>\n",
        "      <td> USA</td>\n",
        "      <td> 31.953765</td>\n",
        "      <td> -89.234505</td>\n",
        "    </tr>\n",
        "    <tr>\n",
        "      <th>1</th>\n",
        "      <td> 00R</td>\n",
        "      <td> Livingston Municipal</td>\n",
        "      <td>       Livingston</td>\n",
        "      <td> TX</td>\n",
        "      <td> USA</td>\n",
        "      <td> 30.685861</td>\n",
        "      <td> -95.017928</td>\n",
        "    </tr>\n",
        "    <tr>\n",
        "      <th>2</th>\n",
        "      <td> 00V</td>\n",
        "      <td>          Meadow Lake</td>\n",
        "      <td> Colorado Springs</td>\n",
        "      <td> CO</td>\n",
        "      <td> USA</td>\n",
        "      <td> 38.945749</td>\n",
        "      <td>-104.569893</td>\n",
        "    </tr>\n",
        "    <tr>\n",
        "      <th>3</th>\n",
        "      <td> 01G</td>\n",
        "      <td>         Perry-Warsaw</td>\n",
        "      <td>            Perry</td>\n",
        "      <td> NY</td>\n",
        "      <td> USA</td>\n",
        "      <td> 42.741347</td>\n",
        "      <td> -78.052081</td>\n",
        "    </tr>\n",
        "    <tr>\n",
        "      <th>4</th>\n",
        "      <td> 01J</td>\n",
        "      <td>     Hilliard Airpark</td>\n",
        "      <td>         Hilliard</td>\n",
        "      <td> FL</td>\n",
        "      <td> USA</td>\n",
        "      <td> 30.688012</td>\n",
        "      <td> -81.905944</td>\n",
        "    </tr>\n",
        "  </tbody>\n",
        "</table>\n",
        "</div>"
       ],
       "output_type": "pyout",
       "prompt_number": 3,
       "text": [
        "  iata               airport              city state country        lat        long\n",
        "0  00M              Thigpen        Bay Springs    MS     USA  31.953765  -89.234505\n",
        "1  00R  Livingston Municipal        Livingston    TX     USA  30.685861  -95.017928\n",
        "2  00V           Meadow Lake  Colorado Springs    CO     USA  38.945749 -104.569893\n",
        "3  01G          Perry-Warsaw             Perry    NY     USA  42.741347  -78.052081\n",
        "4  01J      Hilliard Airpark          Hilliard    FL     USA  30.688012  -81.905944"
       ]
      }
     ],
     "prompt_number": 3
    },
    {
     "cell_type": "code",
     "collapsed": false,
     "input": [
      "command = \"\"\"\n",
      "CREATE TABLE airports\n",
      "(\n",
      "    IATA    char(4)       NOT NULL,\n",
      "    Airport varchar(50)   NOT NULL,\n",
      "    City    varchar(50)   NULL,\n",
      "    State   char(2)       NULL,\n",
      "    Lat     float         NOT NULL,\n",
      "    Lon     float         NOT NULL,\n",
      "    PRIMARY KEY (IATA)\n",
      ") ENGINE=InnoDB;\n",
      "\"\"\"\n",
      "\n",
      "## print command\n",
      "Nout = cur.execute(command)"
     ],
     "language": "python",
     "outputs": [],
     "prompt_number": 4
    },
    {
     "cell_type": "code",
     "collapsed": false,
     "input": [
      "import re\n",
      "\n",
      "command = \"\"\"\n",
      "INSERT INTO airports(IATA, Airport, City, State, Lat, Lon)\n",
      "VALUES\n",
      "\"\"\"\n",
      "return_string = lambda x: '\\\"%s\\\"' % x if type(x)!=float else 'NULL'\n",
      "make_string = lambda row: \"(%s, %s, %s, %s, %f, %f),\" % (return_string(row['iata']), return_string(row['airport'].strip()), return_string(row['city']), return_string(row['state']), row['lat'], row['long'])\n",
      "\n",
      "command += df.apply(make_string, axis=1).values.sum()\n",
      "command = re.sub(r'(.*),$', r'\\1;\\n', command)\n",
      "## print command\n",
      "cur.execute(command);\n",
      "    "
     ],
     "language": "python",
     "outputs": [],
     "prompt_number": 5
    },
    {
     "cell_type": "markdown",
     "source": [
      "#### Carriers ####"
     ]
    },
    {
     "cell_type": "code",
     "collapsed": false,
     "input": [
      "import re\n",
      "\n",
      "df = pd.read_csv('../data/carriers.csv')\n",
      "df['Code'] = df['Code'].astype('string')\n",
      "\n",
      "## get rid of rows for which Code contains a '(1)'\n",
      "regex = re.compile('\\(.\\)')\n",
      "df = df[ df['Code'].str.count(regex) == 0 ]\n",
      "\n",
      "df.head()"
     ],
     "language": "python",
     "outputs": [
      {
       "html": [
        "<div style=\"max-height:1000px;max-width:1500px;overflow:auto;\">\n",
        "<table border=\"1\" class=\"dataframe\">\n",
        "  <thead>\n",
        "    <tr style=\"text-align: right;\">\n",
        "      <th></th>\n",
        "      <th>Code</th>\n",
        "      <th>Description</th>\n",
        "    </tr>\n",
        "  </thead>\n",
        "  <tbody>\n",
        "    <tr>\n",
        "      <th>0</th>\n",
        "      <td> 02Q</td>\n",
        "      <td>                 Titan Airways</td>\n",
        "    </tr>\n",
        "    <tr>\n",
        "      <th>1</th>\n",
        "      <td> 04Q</td>\n",
        "      <td>            Tradewind Aviation</td>\n",
        "    </tr>\n",
        "    <tr>\n",
        "      <th>2</th>\n",
        "      <td> 05Q</td>\n",
        "      <td>           Comlux Aviation, AG</td>\n",
        "    </tr>\n",
        "    <tr>\n",
        "      <th>3</th>\n",
        "      <td> 06Q</td>\n",
        "      <td> Master Top Linhas Aereas Ltd.</td>\n",
        "    </tr>\n",
        "    <tr>\n",
        "      <th>4</th>\n",
        "      <td> 07Q</td>\n",
        "      <td>           Flair Airlines Ltd.</td>\n",
        "    </tr>\n",
        "  </tbody>\n",
        "</table>\n",
        "</div>"
       ],
       "output_type": "pyout",
       "prompt_number": 4,
       "text": [
        "  Code                    Description\n",
        "0  02Q                  Titan Airways\n",
        "1  04Q             Tradewind Aviation\n",
        "2  05Q            Comlux Aviation, AG\n",
        "3  06Q  Master Top Linhas Aereas Ltd.\n",
        "4  07Q            Flair Airlines Ltd."
       ]
      }
     ],
     "prompt_number": 4
    },
    {
     "cell_type": "code",
     "collapsed": false,
     "input": [
      "command = \"\"\"\n",
      "CREATE TABLE carriers\n",
      "(\n",
      "    Code    char(3)        NOT NULL,\n",
      "    Name    varchar(100)   NOT NULL,\n",
      "    PRIMARY KEY (Code)\n",
      ") ENGINE=InnoDB;\n",
      "\"\"\"\n",
      "\n",
      "## print command\n",
      "Nout = cur.execute(command)"
     ],
     "language": "python",
     "outputs": [],
     "prompt_number": 5
    },
    {
     "cell_type": "code",
     "collapsed": false,
     "input": [
      "command = \"\"\"\n",
      "INSERT INTO carriers(Code, Name)\n",
      "VALUES\n",
      "\"\"\"\n",
      "return_string = lambda x: '\\\"%s\\\"' % x if type(x)!=float else 'NULL'\n",
      "make_string = lambda row: \"(%s, %s),\" % (return_string(row['Code'].strip()), return_string(row['Description'].strip()))\n",
      "\n",
      "command += df.apply(make_string, axis=1).values.sum()\n",
      "command = re.sub(r'(.*),$', r'\\1;\\n', command)\n",
      "## print command\n",
      "cur.execute(command);\n",
      "    "
     ],
     "language": "python",
     "outputs": [],
     "prompt_number": 6
    },
    {
     "cell_type": "markdown",
     "source": [
      "#### Airplane data ####"
     ]
    },
    {
     "cell_type": "code",
     "collapsed": false,
     "input": [
      "df = pd.read_csv('../data/plane-data.csv')\n",
      "\n",
      "## Get rid of all-NaN rows\n",
      "df = df[ df['type'].apply(lambda x: True if type(x)!=float else False) ]\n",
      "\n",
      "df.head()"
     ],
     "language": "python",
     "outputs": [
      {
       "html": [
        "<div style=\"max-height:1000px;max-width:1500px;overflow:auto;\">\n",
        "<table border=\"1\" class=\"dataframe\">\n",
        "  <thead>\n",
        "    <tr style=\"text-align: right;\">\n",
        "      <th></th>\n",
        "      <th>tailnum</th>\n",
        "      <th>type</th>\n",
        "      <th>manufacturer</th>\n",
        "      <th>issue_date</th>\n",
        "      <th>model</th>\n",
        "      <th>status</th>\n",
        "      <th>aircraft_type</th>\n",
        "      <th>engine_type</th>\n",
        "      <th>year</th>\n",
        "    </tr>\n",
        "  </thead>\n",
        "  <tbody>\n",
        "    <tr>\n",
        "      <th>34</th>\n",
        "      <td> N10156</td>\n",
        "      <td> Corporation</td>\n",
        "      <td>          EMBRAER</td>\n",
        "      <td> 02/13/2004</td>\n",
        "      <td> EMB-145XR</td>\n",
        "      <td> Valid</td>\n",
        "      <td> Fixed Wing Multi-Engine</td>\n",
        "      <td> Turbo-Fan</td>\n",
        "      <td> 2004</td>\n",
        "    </tr>\n",
        "    <tr>\n",
        "      <th>35</th>\n",
        "      <td> N102UW</td>\n",
        "      <td> Corporation</td>\n",
        "      <td> AIRBUS INDUSTRIE</td>\n",
        "      <td> 05/26/1999</td>\n",
        "      <td>  A320-214</td>\n",
        "      <td> Valid</td>\n",
        "      <td> Fixed Wing Multi-Engine</td>\n",
        "      <td> Turbo-Fan</td>\n",
        "      <td> 1998</td>\n",
        "    </tr>\n",
        "    <tr>\n",
        "      <th>36</th>\n",
        "      <td> N10323</td>\n",
        "      <td> Corporation</td>\n",
        "      <td>           BOEING</td>\n",
        "      <td> 07/01/1997</td>\n",
        "      <td>   737-3TO</td>\n",
        "      <td> Valid</td>\n",
        "      <td> Fixed Wing Multi-Engine</td>\n",
        "      <td> Turbo-Jet</td>\n",
        "      <td> 1986</td>\n",
        "    </tr>\n",
        "    <tr>\n",
        "      <th>37</th>\n",
        "      <td> N103US</td>\n",
        "      <td> Corporation</td>\n",
        "      <td> AIRBUS INDUSTRIE</td>\n",
        "      <td> 06/18/1999</td>\n",
        "      <td>  A320-214</td>\n",
        "      <td> Valid</td>\n",
        "      <td> Fixed Wing Multi-Engine</td>\n",
        "      <td> Turbo-Fan</td>\n",
        "      <td> 1999</td>\n",
        "    </tr>\n",
        "    <tr>\n",
        "      <th>38</th>\n",
        "      <td> N104UA</td>\n",
        "      <td> Corporation</td>\n",
        "      <td>           BOEING</td>\n",
        "      <td> 01/26/1998</td>\n",
        "      <td>   747-422</td>\n",
        "      <td> Valid</td>\n",
        "      <td> Fixed Wing Multi-Engine</td>\n",
        "      <td> Turbo-Fan</td>\n",
        "      <td> 1998</td>\n",
        "    </tr>\n",
        "  </tbody>\n",
        "</table>\n",
        "</div>"
       ],
       "output_type": "pyout",
       "prompt_number": 62,
       "text": [
        "   tailnum         type      manufacturer  issue_date      model status  \\\n",
        "34  N10156  Corporation           EMBRAER  02/13/2004  EMB-145XR  Valid   \n",
        "35  N102UW  Corporation  AIRBUS INDUSTRIE  05/26/1999   A320-214  Valid   \n",
        "36  N10323  Corporation            BOEING  07/01/1997    737-3TO  Valid   \n",
        "37  N103US  Corporation  AIRBUS INDUSTRIE  06/18/1999   A320-214  Valid   \n",
        "38  N104UA  Corporation            BOEING  01/26/1998    747-422  Valid   \n",
        "\n",
        "              aircraft_type engine_type  year  \n",
        "34  Fixed Wing Multi-Engine   Turbo-Fan  2004  \n",
        "35  Fixed Wing Multi-Engine   Turbo-Fan  1998  \n",
        "36  Fixed Wing Multi-Engine   Turbo-Jet  1986  \n",
        "37  Fixed Wing Multi-Engine   Turbo-Fan  1999  \n",
        "38  Fixed Wing Multi-Engine   Turbo-Fan  1998  "
       ]
      }
     ],
     "prompt_number": 62
    },
    {
     "cell_type": "code",
     "collapsed": false,
     "input": [
      "command = \"\"\"\n",
      "CREATE TABLE airplane_data\n",
      "(\n",
      "    TailNum         char(6)        NOT NULL,\n",
      "    Type            varchar(20)   NOT NULL,\n",
      "    Manufacturer    varchar(40)   NOT NULL,\n",
      "    IssueDate       char(10)   NOT NULL,\n",
      "    Model           varchar(20)   NOT NULL,\n",
      "    Status          varchar(20)   NOT NULL,\n",
      "    AircraftType    varchar(30)   NOT NULL,\n",
      "    EngineType      varchar(20)   NOT NULL,\n",
      "    Year            int   NULL,\n",
      "    PRIMARY KEY (TailNum)\n",
      ") ENGINE=InnoDB;\n",
      "\"\"\"\n",
      "\n",
      "## print command\n",
      "Nout = cur.execute(command)"
     ],
     "language": "python",
     "outputs": [],
     "prompt_number": 78
    },
    {
     "cell_type": "code",
     "collapsed": false,
     "input": [
      "import re\n",
      "\n",
      "command = \"\"\"\n",
      "INSERT INTO airplane_data(TailNum, Type, Manufacturer, IssueDate, Model, Status, AircraftType, EngineType, Year)\n",
      "VALUES\n",
      "\"\"\"\n",
      "return_int = lambda x: x if x!='None' else 'NULL'\n",
      "make_string = lambda row: \"('%s', '%s', '%s', '%s', '%s', '%s', '%s', '%s', %s),\" % (row['tailnum'],row['type'],row['manufacturer'],row['issue_date'],row['model'],row['status'],row['aircraft_type'],row['engine_type'],return_int(row['year']))\n",
      "\n",
      "command += df.apply(make_string, axis=1).values.sum()\n",
      "command = re.sub(r'(.*),$', r'\\1;\\n', command)\n",
      "## print command\n",
      "cur.execute(command);\n",
      "    "
     ],
     "language": "python",
     "outputs": [],
     "prompt_number": 79
    },
    {
     "cell_type": "markdown",
     "source": [
      "### US National holidays table ###"
     ]
    },
    {
     "cell_type": "code",
     "collapsed": true,
     "input": [
      "help(pd.read_fwf)"
     ],
     "language": "python",
     "outputs": [
      {
       "output_type": "stream",
       "stream": "stdout",
       "text": [
        "Help on function read_fwf in module pandas.io.parsers:\n",
        "\n",
        "read_fwf(filepath_or_buffer, colspecs=None, widths=None, **kwds)\n",
        "    Read a table of fixed-width formatted lines into DataFrame\n",
        "    \n",
        "    Also supports optionally iterating or breaking of the file\n",
        "    into chunks.\n",
        "    \n",
        "    Parameters\n",
        "    ----------\n",
        "    filepath_or_buffer : string or file handle / StringIO. The string could be\n",
        "        a URL. Valid URL schemes include http, ftp, s3, and file. For file URLs, a host\n",
        "        is expected. For instance, a local file could be\n",
        "        file ://localhost/path/to/table.csv\n",
        "    colspecs : a list of pairs (tuples), giving the extents\n",
        "        of the fixed-width fields of each line as half-open internals\n",
        "        (i.e.,  [from, to[  ).\n",
        "    widths : a list of field widths, which can be used instead of\n",
        "        'colspecs' if the intervals are contiguous.\n",
        "    \n",
        "    lineterminator : string (length 1), default None\n",
        "        Character to break file into lines. Only valid with C parser\n",
        "    quotechar : string\n",
        "        The character to used to denote the start and end of a quoted item. Quoted items can include the delimiter and it will be ignored.\n",
        "    quoting : int\n",
        "        Controls whether quotes should be recognized. Values are taken from\n",
        "        `csv.QUOTE_*` values. Acceptable values are 0, 1, 2, and 3 for\n",
        "        QUOTE_MINIMAL, QUOTE_ALL, QUOTE_NONE, and QUOTE_NONNUMERIC, respectively.\n",
        "    skipinitialspace : boolean, default False\n",
        "        Skip spaces after delimiter\n",
        "    escapechar : string\n",
        "    dtype : Type name or dict of column -> type\n",
        "        Data type for data or columns. E.g. {'a': np.float64, 'b': np.int32}\n",
        "    compression : {'gzip', 'bz2', None}, default None\n",
        "        For on-the-fly decompression of on-disk data\n",
        "    dialect : string or csv.Dialect instance, default None\n",
        "        If None defaults to Excel dialect. Ignored if sep longer than 1 char\n",
        "        See csv.Dialect documentation for more details\n",
        "    header : int, default 0 if names parameter not specified,\n",
        "        Row to use for the column labels of the parsed DataFrame. Specify None if\n",
        "        there is no header row. Can be a list of integers that specify row\n",
        "        locations for a multi-index on the columns E.g. [0,1,3]. Interveaning\n",
        "        rows that are not specified (E.g. 2 in this example are skipped)\n",
        "    skiprows : list-like or integer\n",
        "        Row numbers to skip (0-indexed) or number of rows to skip (int)\n",
        "        at the start of the file\n",
        "    index_col : int or sequence or False, default None\n",
        "        Column to use as the row labels of the DataFrame. If a sequence is given, a\n",
        "        MultiIndex is used. If you have a malformed file with delimiters at the end\n",
        "        of each line, you might consider index_col=False to force pandas to _not_\n",
        "        use the first column as the index (row names)\n",
        "    names : array-like\n",
        "        List of column names to use. If file contains no header row, then you\n",
        "        should explicitly pass header=None\n",
        "    prefix : string or None (default)\n",
        "        Prefix to add to column numbers when no header, e.g 'X' for X0, X1, ...\n",
        "    na_values : list-like or dict, default None\n",
        "        Additional strings to recognize as NA/NaN. If dict passed, specific\n",
        "        per-column NA values\n",
        "    true_values : list\n",
        "        Values to consider as True\n",
        "    false_values : list\n",
        "        Values to consider as False\n",
        "    keep_default_na : bool, default True\n",
        "        If na_values are specified and keep_default_na is False the default NaN\n",
        "        values are overridden, otherwise they're appended to\n",
        "    parse_dates : boolean, list of ints or names, list of lists, or dict\n",
        "        If True -> try parsing the index.\n",
        "        If [1, 2, 3] -> try parsing columns 1, 2, 3 each as a separate date column.\n",
        "        If [[1, 3]] -> combine columns 1 and 3 and parse as a single date column.\n",
        "        {'foo' : [1, 3]} -> parse columns 1, 3 as date and call result 'foo'\n",
        "    keep_date_col : boolean, default False\n",
        "        If True and parse_dates specifies combining multiple columns then\n",
        "        keep the original columns.\n",
        "    date_parser : function\n",
        "        Function to use for converting a sequence of string columns to an\n",
        "        array of datetime instances. The default uses dateutil.parser.parser\n",
        "        to do the conversion.\n",
        "    dayfirst : boolean, default False\n",
        "        DD/MM format dates, international and European format\n",
        "    thousands : str, default None\n",
        "        Thousands separator\n",
        "    comment : str, default None\n",
        "        Indicates remainder of line should not be parsed\n",
        "        Does not support line commenting (will return empty line)\n",
        "    decimal : str, default '.'\n",
        "        Character to recognize as decimal point. E.g. use ',' for European data\n",
        "    nrows : int, default None\n",
        "        Number of rows of file to read. Useful for reading pieces of large files\n",
        "    iterator : boolean, default False\n",
        "        Return TextFileReader object\n",
        "    chunksize : int, default None\n",
        "        Return TextFileReader object for iteration\n",
        "    skipfooter : int, default 0\n",
        "        Number of line at bottom of file to skip\n",
        "    converters : dict. optional\n",
        "        Dict of functions for converting values in certain columns. Keys can either\n",
        "        be integers or column labels\n",
        "    verbose : boolean, default False\n",
        "        Indicate number of NA values placed in non-numeric columns\n",
        "    delimiter : string, default None\n",
        "        Alternative argument name for sep. Regular expressions are accepted.\n",
        "    encoding : string, default None\n",
        "        Encoding to use for UTF when reading/writing (ex. 'utf-8')\n",
        "    squeeze : boolean, default False\n",
        "        If the parsed data only contains one column then return a Series\n",
        "    na_filter: boolean, default True\n",
        "        Detect missing value markers (empty strings and the value of na_values). In\n",
        "        data without any NAs, passing na_filter=False can improve the performance\n",
        "        of reading a large file\n",
        "    usecols : array-like\n",
        "        Return a subset of the columns.\n",
        "        Results in much faster parsing time and lower memory usage.\n",
        "    mangle_dupe_cols: boolean, default True\n",
        "        Duplicate columns will be specified as 'X.0'...'X.N', rather than 'X'...'X'\n",
        "    tupleize_cols: boolean, default False\n",
        "        Leave a list of tuples on columns as is (default is to convert to\n",
        "        a Multi Index on the columns)\n",
        "    \n",
        "    Returns\n",
        "    -------\n",
        "    result : DataFrame or TextParser\n",
        "    \n",
        "    \n",
        "    Also, 'delimiter' is used to specify the filler character of the\n",
        "    fields if it is not spaces (e.g., '~').\n",
        "\n"
       ]
      }
     ],
     "prompt_number": 3
    },
    {
     "cell_type": "code",
     "collapsed": false,
     "input": [
      "\n",
      "df = pd.read_fwf('../data/US_holidays_1997-2020.txt',colspecs=[[0,2],[3,5],[6,10],[12,50]],header=None,names=['Month','Day','Year','Holiday'])\n",
      "df['Holiday'] = df['Holiday'].apply(lambda x: x[:-1])\n",
      "df.head()"
     ],
     "language": "python",
     "outputs": [
      {
       "html": [
        "<div style=\"max-height:1000px;max-width:1500px;overflow:auto;\">\n",
        "<table border=\"1\" class=\"dataframe\">\n",
        "  <thead>\n",
        "    <tr style=\"text-align: right;\">\n",
        "      <th></th>\n",
        "      <th>Month</th>\n",
        "      <th>Day</th>\n",
        "      <th>Year</th>\n",
        "      <th>Holiday</th>\n",
        "    </tr>\n",
        "  </thead>\n",
        "  <tbody>\n",
        "    <tr>\n",
        "      <th>0</th>\n",
        "      <td> 1</td>\n",
        "      <td>  1</td>\n",
        "      <td> 1997</td>\n",
        "      <td>                      New Year's Day</td>\n",
        "    </tr>\n",
        "    <tr>\n",
        "      <th>1</th>\n",
        "      <td> 1</td>\n",
        "      <td> 20</td>\n",
        "      <td> 1997</td>\n",
        "      <td> Birthday of Martin Luther King, Jr.</td>\n",
        "    </tr>\n",
        "    <tr>\n",
        "      <th>2</th>\n",
        "      <td> 2</td>\n",
        "      <td> 17</td>\n",
        "      <td> 1997</td>\n",
        "      <td>               Washington's Birthday</td>\n",
        "    </tr>\n",
        "    <tr>\n",
        "      <th>3</th>\n",
        "      <td> 5</td>\n",
        "      <td> 26</td>\n",
        "      <td> 1997</td>\n",
        "      <td>                        Memorial Day</td>\n",
        "    </tr>\n",
        "    <tr>\n",
        "      <th>4</th>\n",
        "      <td> 7</td>\n",
        "      <td>  4</td>\n",
        "      <td> 1997</td>\n",
        "      <td>                    Independence Day</td>\n",
        "    </tr>\n",
        "  </tbody>\n",
        "</table>\n",
        "</div>"
       ],
       "output_type": "pyout",
       "prompt_number": 9,
       "text": [
        "   Month  Day  Year                              Holiday\n",
        "0      1    1  1997                       New Year's Day\n",
        "1      1   20  1997  Birthday of Martin Luther King, Jr.\n",
        "2      2   17  1997                Washington's Birthday\n",
        "3      5   26  1997                         Memorial Day\n",
        "4      7    4  1997                     Independence Day"
       ]
      }
     ],
     "prompt_number": 9
    },
    {
     "cell_type": "code",
     "collapsed": false,
     "input": [
      "command = \"\"\"\n",
      "CREATE TABLE holidays\n",
      "(\n",
      "\tHolidayID\t\tint\t          NOT NULL AUTO_INCREMENT,\n",
      "    Month           int           NOT NULL,\n",
      "    Day             int           NOT NULL,\n",
      "    Year            int           NOT NULL,\n",
      "    Holiday         varchar(50)   NOT NULL,\n",
      "    PRIMARY KEY (HolidayID)\n",
      ") ENGINE=InnoDB;\n",
      "\"\"\"\n",
      "\n",
      "## print command\n",
      "Nout = cur.execute(command)"
     ],
     "language": "python",
     "outputs": [],
     "prompt_number": 5
    },
    {
     "cell_type": "code",
     "collapsed": false,
     "input": [
      "import re\n",
      "\n",
      "command = \"\"\"\n",
      "INSERT INTO holidays(Month,Day,Year,Holiday)\n",
      "VALUES\n",
      "\"\"\"\n",
      "make_string = lambda row: '(%d, %d, %d, \"%s\"),' % (row['Month'],row['Day'],row['Year'],row['Holiday'])\n",
      "\n",
      "command += df.apply(make_string, axis=1).values.sum()\n",
      "command = re.sub(r'(.*),$', r'\\1;\\n', command)\n",
      "## print command\n",
      "cur.execute(command);"
     ],
     "language": "python",
     "outputs": [],
     "prompt_number": 11
    },
    {
     "cell_type": "markdown",
     "source": [
      "### Subsampled flights table (flights_small). ###\n"
     ]
    },
    {
     "cell_type": "markdown",
     "source": [
      "#### Create the table ####"
     ]
    },
    {
     "cell_type": "code",
     "collapsed": false,
     "input": [
      "command = \"\"\"\n",
      "CREATE TABLE flights_small\n",
      "(\n",
      "\tFlightID\t\tint\tNOT NULL AUTO_INCREMENT,\n",
      "\tYear\t\t\tint\tNOT NULL,\t\n",
      "\tMonth\t\t\tint\tNOT NULL,\n",
      "\tDayofMonth\t\tint\tNOT NULL,\n",
      "\tDayOfWeek\t\tint\tNOT NULL,\n",
      "\tDepTime\t\t\tint\tNULL,\n",
      "\tCRSDepTime\t\tint\tNULL,\n",
      "\tArrTime\t\t\tint\tNULL,\n",
      "\tCRSArrTime\t\tint\tNULL,\n",
      "\tUniqueCarrier\t\tchar(3) NULL,\n",
      "\tFlightNum\t\tint\tNULL,\n",
      "\tTailNum \t\tchar(6) NULL,\n",
      "\tActualElapsedTime\tint\tNULL,\n",
      "\tCRSElapsedTime\t\tint\tNULL,\n",
      "\tAirTime\t\t\tint\tNULL,\n",
      "\tArrDelay\t\tint\tNULL,\n",
      "\tDepDelay\t\tint\tNULL,\n",
      "\tOrigin\t\t\tchar(3) NULL,\n",
      "\tDest\t\t\tchar(3) NULL,\n",
      "\tDistance\t\tint\tNULL,\n",
      "\tTaxiIn\t\t\tint\tNULL,\n",
      "\tTaxiOut\t \t\tint\tNULL,\n",
      "\tCancelled\t\tint\tNULL,\n",
      "\tCancellationCode\tchar(1)\tNULL,\n",
      "\tDiverted\t\tint\tNULL,\n",
      "\tCarrierDelay\t\tint\tNULL,\n",
      "\tWeatherDelay\t\tint\tNULL,\t\t\n",
      "\tNASDelay\t\tint\tNULL,\n",
      "\tSecurityDelay\t\tint\tNULL,\n",
      "\tLateAircraftDelay\tint\tNULL,\n",
      "\tPRIMARY KEY (FlightID)\n",
      ") ENGINE=InnoDB;\n",
      "\n",
      "\"\"\"\n",
      "\n",
      "Nout = cur.execute(command)\n"
     ],
     "language": "python",
     "outputs": [],
     "prompt_number": 3
    },
    {
     "cell_type": "markdown",
     "source": [
      "#### Populate the table ####"
     ]
    },
    {
     "cell_type": "code",
     "collapsed": false,
     "input": [
      "import re\n",
      "import sys\n",
      "\n",
      "years = np.arange(2008,1986,-1)\n",
      "\n",
      "#for y in years:\n",
      "for y in [2008]:\n",
      "\n",
      "    filename = '../data/RITA/subsample/%d_r100.csv' % y\n",
      "    print 'Loading data from %s...' % filename\n",
      "    sys.stdout.flush()\n",
      "\t\n",
      "    ## obtain column names\n",
      "    f = open(filename,'r')\n",
      "    header = f.readline().strip()\n",
      "    f.close()\n",
      "    colnames = header.split(',')\n",
      "\n",
      "    Ncol = len(colnames)\n",
      "\n",
      "    ## construct mysql command\n",
      "    command = \"LOAD DATA LOCAL INFILE '%s'\" % filename\n",
      "\n",
      "    command += \"\"\"\n",
      "  INTO TABLE flights_small\n",
      "  FIELDS TERMINATED BY ','\n",
      "  IGNORE 1 LINES\n",
      "\"\"\"\n",
      "    command += '  (' + ','.join(['@col%d' % i for i in xrange(Ncol)]) + ')\\n'\n",
      "    command += '  SET\\n'\n",
      "    for i in xrange(Ncol):\n",
      "\tcommand += \"    %s = IF(@col%d = 'NA' OR @col%d = '', NULL, @col%d),\\n\" % (colnames[i],i,i,i)\n",
      "    command = re.sub(r'(.*),\\n$', r'\\1;\\n', command)\n",
      "\n",
      "#    print command + '\\n'\n",
      "    Nout = cur.execute(command)\n",
      "    print '   Added %d rows.\\n' % Nout\n",
      "    sys.stdout.flush()\n",
      "    "
     ],
     "language": "python",
     "outputs": [
      {
       "output_type": "stream",
       "stream": "stdout",
       "text": [
        "Loading data from ../data/RITA/subsample/2008_r100.csv...\n"
       ]
      },
      {
       "output_type": "stream",
       "stream": "stdout",
       "text": [
        "   Added 70098 rows.\n",
        "\n"
       ]
      }
     ],
     "prompt_number": 4
    },
    {
     "cell_type": "code",
     "collapsed": false,
     "input": [
      "## Drop the table\n",
      "_ = cur.execute('drop table flights_small')"
     ],
     "language": "python",
     "outputs": [],
     "prompt_number": 2
    },
    {
     "cell_type": "code",
     "collapsed": false,
     "input": [
      "## Fetch all rows\n",
      "cur.execute('select * from flights_small')\n",
      "rows = cur.fetchall()\n",
      "print 'Fetched %d rows.' % len(rows)"
     ],
     "language": "python",
     "outputs": [
      {
       "output_type": "stream",
       "stream": "stdout",
       "text": [
        "Fetched 0 rows.\n"
       ]
      }
     ],
     "prompt_number": 8
    },
    {
     "cell_type": "code",
     "collapsed": false,
     "input": [
      "print rows[0]\n",
      "print rows[14]"
     ],
     "language": "python",
     "outputs": [
      {
       "output_type": "stream",
       "stream": "stdout",
       "text": [
        "(1L, 2008L, 1L, 3L, 4L, 2003L, 1955L, 2211L, 2225L, 'WN', 335L, 'N712SW', 128L, 150L, 116L, -14L, 8L, 'IAD', 'TPA', 810L, 4L, 8L, 0L, None, 0L, None, None, None, None, None)\n"
       ]
      }
     ],
     "prompt_number": 114
    },
    {
     "cell_type": "markdown",
     "source": [
      "### All flights table (flights). ###"
     ]
    },
    {
     "cell_type": "markdown",
     "source": [
      "#### Create the table ####"
     ]
    },
    {
     "cell_type": "code",
     "collapsed": false,
     "input": [
      "command = \"\"\"\n",
      "CREATE TABLE flights\n",
      "(\n",
      "\tFlightID\t\tint\tNOT NULL AUTO_INCREMENT,\n",
      "\tYear\t\t\tint\tNOT NULL,\t\n",
      "\tMonth\t\t\tint\tNOT NULL,\n",
      "\tDayofMonth\t\tint\tNOT NULL,\n",
      "\tDayOfWeek\t\tint\tNOT NULL,\n",
      "\tDepTime\t\t\tint\tNULL,\n",
      "\tCRSDepTime\t\tint\tNULL,\n",
      "\tArrTime\t\t\tint\tNULL,\n",
      "\tCRSArrTime\t\tint\tNULL,\n",
      "\tUniqueCarrier\t\tchar(3) NULL,\n",
      "\tFlightNum\t\tint\tNULL,\n",
      "\tTailNum \t\tchar(6) NULL,\n",
      "\tActualElapsedTime\tint\tNULL,\n",
      "\tCRSElapsedTime\t\tint\tNULL,\n",
      "\tAirTime\t\t\tint\tNULL,\n",
      "\tArrDelay\t\tint\tNULL,\n",
      "\tDepDelay\t\tint\tNULL,\n",
      "\tOrigin\t\t\tchar(3) NULL,\n",
      "\tDest\t\t\tchar(3) NULL,\n",
      "\tDistance\t\tint\tNULL,\n",
      "\tTaxiIn\t\t\tint\tNULL,\n",
      "\tTaxiOut\t \t\tint\tNULL,\n",
      "\tCancelled\t\tint\tNULL,\n",
      "\tCancellationCode\tchar(1)\tNULL,\n",
      "\tDiverted\t\tint\tNULL,\n",
      "\tCarrierDelay\t\tint\tNULL,\n",
      "\tWeatherDelay\t\tint\tNULL,\t\t\n",
      "\tNASDelay\t\tint\tNULL,\n",
      "\tSecurityDelay\t\tint\tNULL,\n",
      "\tLateAircraftDelay\tint\tNULL,\n",
      "\tPRIMARY KEY (FlightID),\n",
      "        INDEX year_index (Year),\n",
      "        INDEX origin_dest_index (Origin,Dest)\n",
      ") ENGINE=InnoDB;\n",
      "\n",
      "\"\"\"\n",
      "\n",
      "Nout = cur.execute(command)\n"
     ],
     "language": "python",
     "outputs": [],
     "prompt_number": 4
    },
    {
     "cell_type": "markdown",
     "source": [
      "#### Populate the table ####"
     ]
    },
    {
     "cell_type": "code",
     "collapsed": false,
     "input": [
      "import re\n",
      "import sys\n",
      "\n",
      "years = np.arange(2013,1986,-1)\n",
      "\n",
      "colnames = ['Year','Month','DayofMonth','DayOfWeek','DepTime','CRSDepTime','ArrTime','CRSArrTime','UniqueCarrier','FlightNum','TailNum','ActualElapsedTime','CRSElapsedTime','AirTime','ArrDelay','DepDelay','Origin','Dest','Distance','TaxiIn','TaxiOut','Cancelled','CancellationCode','Diverted','CarrierDelay','WeatherDelay','NASDelay','SecurityDelay','LateAircraftDelay']\n",
      "\n",
      "#for y in years:\n",
      "for y in [2013]:\n",
      "\n",
      "    filename = '/data/DelayMeNot/data/RITA/%d.csv' % y\n",
      "    print 'Loading data from %s...' % filename\n",
      "    sys.stdout.flush()\n",
      "\t\n",
      "    ## obtain column names\n",
      "    ## f = open(filename,'r')\n",
      "    ## header = f.readline().strip()\n",
      "    ## f.close()\n",
      "    ## colnames = header.split(',')\n",
      "\n",
      "    Ncol = len(colnames)\n",
      "\n",
      "    ## construct mysql command\n",
      "    command = \"LOAD DATA INFILE '%s'\" % filename         ## if the file lives on the MySQL server\n",
      "    ## command = \"LOAD DATA LOCAL INFILE '%s'\" % filename   ## if the file lives on the local machine\n",
      "\n",
      "    command += \"\"\"\n",
      "  INTO TABLE flights\n",
      "  FIELDS TERMINATED BY ','\n",
      "  IGNORE 1 LINES\n",
      "\"\"\"\n",
      "    command += '  (' + ','.join(['@col%d' % i for i in xrange(Ncol)]) + ')\\n'\n",
      "    command += '  SET\\n'\n",
      "    for i in xrange(Ncol):\n",
      "\tcommand += \"    %s = IF(@col%d = 'NA' OR @col%d = '', NULL, @col%d),\\n\" % (colnames[i],i,i,i)\n",
      "    command = re.sub(r'(.*),\\n$', r'\\1;\\n', command)\n",
      "\n",
      "    print command + '\\n'\n",
      "    ## Nout = cur.execute(command)\n",
      "    print '   Added %d rows.\\n' % Nout\n",
      "    sys.stdout.flush()\n",
      "    "
     ],
     "language": "python",
     "outputs": [
      {
       "output_type": "stream",
       "stream": "stdout",
       "text": [
        "Loading data from /data/DelayMeNot/data/RITA/2013.csv...\n"
       ]
      },
      {
       "output_type": "stream",
       "stream": "stdout",
       "text": [
        "LOAD DATA INFILE '/data/DelayMeNot/data/RITA/2013.csv'\n",
        "  INTO TABLE flights\n",
        "  FIELDS TERMINATED BY ','\n",
        "  IGNORE 1 LINES\n",
        "  (@col0,@col1,@col2,@col3,@col4,@col5,@col6,@col7,@col8,@col9,@col10,@col11,@col12,@col13,@col14,@col15,@col16,@col17,@col18,@col19,@col20,@col21,@col22,@col23,@col24,@col25,@col26,@col27,@col28)\n",
        "  SET\n",
        "    Year = IF(@col0 = 'NA' OR @col0 = '', NULL, @col0),\n",
        "    Month = IF(@col1 = 'NA' OR @col1 = '', NULL, @col1),\n",
        "    DayofMonth = IF(@col2 = 'NA' OR @col2 = '', NULL, @col2),\n",
        "    DayOfWeek = IF(@col3 = 'NA' OR @col3 = '', NULL, @col3),\n",
        "    DepTime = IF(@col4 = 'NA' OR @col4 = '', NULL, @col4),\n",
        "    CRSDepTime = IF(@col5 = 'NA' OR @col5 = '', NULL, @col5),\n",
        "    ArrTime = IF(@col6 = 'NA' OR @col6 = '', NULL, @col6),\n",
        "    CRSArrTime = IF(@col7 = 'NA' OR @col7 = '', NULL, @col7),\n",
        "    UniqueCarrier = IF(@col8 = 'NA' OR @col8 = '', NULL, @col8),\n",
        "    FlightNum = IF(@col9 = 'NA' OR @col9 = '', NULL, @col9),\n",
        "    TailNum = IF(@col10 = 'NA' OR @col10 = '', NULL, @col10),\n",
        "    ActualElapsedTime = IF(@col11 = 'NA' OR @col11 = '', NULL, @col11),\n",
        "    CRSElapsedTime = IF(@col12 = 'NA' OR @col12 = '', NULL, @col12),\n",
        "    AirTime = IF(@col13 = 'NA' OR @col13 = '', NULL, @col13),\n",
        "    ArrDelay = IF(@col14 = 'NA' OR @col14 = '', NULL, @col14),\n",
        "    DepDelay = IF(@col15 = 'NA' OR @col15 = '', NULL, @col15),\n",
        "    Origin = IF(@col16 = 'NA' OR @col16 = '', NULL, @col16),\n",
        "    Dest = IF(@col17 = 'NA' OR @col17 = '', NULL, @col17),\n",
        "    Distance = IF(@col18 = 'NA' OR @col18 = '', NULL, @col18),\n",
        "    TaxiIn = IF(@col19 = 'NA' OR @col19 = '', NULL, @col19),\n",
        "    TaxiOut = IF(@col20 = 'NA' OR @col20 = '', NULL, @col20),\n",
        "    Cancelled = IF(@col21 = 'NA' OR @col21 = '', NULL, @col21),\n",
        "    CancellationCode = IF(@col22 = 'NA' OR @col22 = '', NULL, @col22),\n",
        "    Diverted = IF(@col23 = 'NA' OR @col23 = '', NULL, @col23),\n",
        "    CarrierDelay = IF(@col24 = 'NA' OR @col24 = '', NULL, @col24),\n",
        "    WeatherDelay = IF(@col25 = 'NA' OR @col25 = '', NULL, @col25),\n",
        "    NASDelay = IF(@col26 = 'NA' OR @col26 = '', NULL, @col26),\n",
        "    SecurityDelay = IF(@col27 = 'NA' OR @col27 = '', NULL, @col27),\n",
        "    LateAircraftDelay = IF(@col28 = 'NA' OR @col28 = '', NULL, @col28);\n",
        "\n",
        "\n",
        "   Added 0 rows.\n",
        "\n"
       ]
      }
     ],
     "prompt_number": 8
    },
    {
     "cell_type": "code",
     "collapsed": false,
     "input": [
      "%%timeit -n1 -r1\n",
      "\n",
      "#### before index creation\n",
      "cur.execute(\"select Year, Month, DayofMonth, DayOfWeek, CRSDepTime, UniqueCarrier, ArrDelay from flights where Origin = 'JFK' and Dest = 'LAX';\")"
     ],
     "language": "python",
     "outputs": [
      {
       "output_type": "stream",
       "stream": "stdout",
       "text": [
        "1 loops, best of 1: 1min 26s per loop\n"
       ]
      }
     ],
     "prompt_number": 4
    },
    {
     "cell_type": "code",
     "collapsed": false,
     "input": [
      "## Insert a multi-column index for Origin and Dest\n",
      "command = \"CREATE INDEX origin_dest_index ON flights(Origin, Dest);\"\n",
      "cur.execute(command)"
     ],
     "language": "python",
     "outputs": [
      {
       "output_type": "pyout",
       "prompt_number": 5,
       "text": [
        "0L"
       ]
      }
     ],
     "prompt_number": 5
    },
    {
     "cell_type": "code",
     "collapsed": false,
     "input": [
      "%%timeit -n1 -r1\n",
      "\n",
      "#### after index creation\n",
      "cur.execute(\"select Year, Month, DayofMonth, DayOfWeek, CRSDepTime, UniqueCarrier, ArrDelay from flights where Origin = 'JFK' and Dest = 'LAX';\")"
     ],
     "language": "python",
     "outputs": [
      {
       "output_type": "stream",
       "stream": "stdout",
       "text": [
        "1 loops, best of 1: 10.6 s per loop\n"
       ]
      }
     ],
     "prompt_number": 7
    },
    {
     "cell_type": "code",
     "collapsed": false,
     "input": [
      "%%timeit -n1 -r1\n",
      "\n",
      "#### after index creation\n",
      "cur.execute(\"select Year, Month, DayofMonth, DayOfWeek, CRSDepTime, UniqueCarrier, ArrDelay from flights where Origin = 'EWR' and Dest = 'ORD';\")"
     ],
     "language": "python",
     "outputs": [
      {
       "output_type": "stream",
       "stream": "stdout",
       "text": [
        "1 loops, best of 1: 9.01 s per loop\n"
       ]
      }
     ],
     "prompt_number": 12
    },
    {
     "cell_type": "code",
     "collapsed": false,
     "input": [
      "## Add a Route column (NOT NECESSARY...)\n",
      "command = \"ALTER TABLE flights_SFOtoJFK ADD Route CHAR(7) AFTER Dest;\"\n",
      "cur.execute(command)\n",
      "\n",
      "command = \"INSERT INTO flights_SFOtoJFK(Route) SELECT CONCAT(Origin,'-',Dest) FROM flights_SFOtoJFK;\"\n",
      "cur.execute(command)"
     ],
     "language": "python",
     "outputs": []
    },
    {
     "cell_type": "code",
     "collapsed": true,
     "input": [
      "## Drop the table\n",
      "_ = cur.execute('drop table flights')"
     ],
     "language": "python",
     "outputs": [],
     "prompt_number": 4
    },
    {
     "cell_type": "code",
     "collapsed": false,
     "input": [
      "## Fetch all rows\n",
      "cur.execute('select * from flights')\n",
      "rows = cur.fetchall()\n",
      "print 'Fetched %d rows.' % len(rows)"
     ],
     "language": "python",
     "outputs": [
      {
       "output_type": "stream",
       "stream": "stdout",
       "text": [
        "Fetched 0 rows.\n"
       ]
      }
     ],
     "prompt_number": 5
    },
    {
     "cell_type": "markdown",
     "source": [
      "### Extract SFO to JFK flights and put them into their own table###\n",
      "\n",
      "This is to speed up loading of data while I'm developing the model.\n"
     ]
    },
    {
     "cell_type": "code",
     "collapsed": false,
     "input": [
      "## How many SFO-JFK flights are there?\n",
      "\n",
      "cur.execute(\"select * from flights where Origin = 'SFO' and Dest = 'JFK'\")\n",
      "rows = cur.fetchall()\n",
      "print 'Fetched %d rows.' % len(rows)"
     ],
     "language": "python",
     "outputs": [
      {
       "output_type": "stream",
       "stream": "stdout",
       "text": [
        "Fetched 105628 rows.\n"
       ]
      }
     ],
     "prompt_number": 7
    },
    {
     "cell_type": "markdown",
     "source": [
      "#### Create the new table ####"
     ]
    },
    {
     "cell_type": "code",
     "collapsed": false,
     "input": [
      "command = \"\"\"\n",
      "CREATE TABLE flights_SFOtoJFK\n",
      "(\n",
      "\tFlightID\t\tint\tNOT NULL AUTO_INCREMENT,\n",
      "\tYear\t\t\tint\tNOT NULL,\t\n",
      "\tMonth\t\t\tint\tNOT NULL,\n",
      "\tDayofMonth\t\tint\tNOT NULL,\n",
      "\tDayOfWeek\t\tint\tNOT NULL,\n",
      "\tDepTime\t\t\tint\tNULL,\n",
      "\tCRSDepTime\t\tint\tNULL,\n",
      "\tArrTime\t\t\tint\tNULL,\n",
      "\tCRSArrTime\t\tint\tNULL,\n",
      "\tUniqueCarrier\t\tchar(3) NULL,\n",
      "\tFlightNum\t\tint\tNULL,\n",
      "\tTailNum \t\tchar(6) NULL,\n",
      "\tActualElapsedTime\tint\tNULL,\n",
      "\tCRSElapsedTime\t\tint\tNULL,\n",
      "\tAirTime\t\t\tint\tNULL,\n",
      "\tArrDelay\t\tint\tNULL,\n",
      "\tDepDelay\t\tint\tNULL,\n",
      "\tOrigin\t\t\tchar(3) NULL,\n",
      "\tDest\t\t\tchar(3) NULL,\n",
      "\tDistance\t\tint\tNULL,\n",
      "\tTaxiIn\t\t\tint\tNULL,\n",
      "\tTaxiOut\t \t\tint\tNULL,\n",
      "\tCancelled\t\tint\tNULL,\n",
      "\tCancellationCode\tchar(1)\tNULL,\n",
      "\tDiverted\t\tint\tNULL,\n",
      "\tCarrierDelay\t\tint\tNULL,\n",
      "\tWeatherDelay\t\tint\tNULL,\t\t\n",
      "\tNASDelay\t\tint\tNULL,\n",
      "\tSecurityDelay\t\tint\tNULL,\n",
      "\tLateAircraftDelay\tint\tNULL,\n",
      "\tPRIMARY KEY (FlightID)\n",
      ") ENGINE=InnoDB;\n",
      "\n",
      "\"\"\"\n",
      "\n",
      "Nout = cur.execute(command)\n"
     ],
     "language": "python",
     "outputs": [],
     "prompt_number": 9
    },
    {
     "cell_type": "markdown",
     "source": [
      "#### Insert into new table ####"
     ]
    },
    {
     "cell_type": "code",
     "collapsed": false,
     "input": [
      "command = \"\"\"\n",
      "INSERT INTO flights_SFOtoJFK(\n",
      "    FlightID,\n",
      "    Year,\n",
      "    Month,\n",
      "    DayofMonth,\n",
      "    DayOfWeek,\n",
      "    DepTime,\n",
      "    CRSDepTime,\n",
      "    ArrTime,\n",
      "    CRSArrTime,\n",
      "    UniqueCarrier,\n",
      "    FlightNum,\n",
      "    TailNum,\n",
      "    ActualElapsedTime,\n",
      "    CRSElapsedTime,\n",
      "    AirTime,\n",
      "    ArrDelay,\n",
      "    DepDelay,\n",
      "    Origin,\n",
      "    Dest,\n",
      "    Distance,\n",
      "    TaxiIn,\n",
      "    TaxiOut,\n",
      "    Cancelled,\n",
      "    CancellationCode,\n",
      "    Diverted,\n",
      "    CarrierDelay,\n",
      "    WeatherDelay,\n",
      "    NASDelay,\n",
      "    SecurityDelay,\n",
      "    LateAircraftDelay)\n",
      "SELECT * FROM flights WHERE Origin = 'SFO' AND Dest = 'JFK';\n",
      "\"\"\"\n",
      "\n",
      "## print command\n",
      "Nout = cur.execute(command)\n",
      "print '   Added %d rows.' % Nout\n"
     ],
     "language": "python",
     "outputs": [
      {
       "output_type": "stream",
       "stream": "stdout",
       "text": [
        "   Added 105628 rows.\n"
       ]
      }
     ],
     "prompt_number": 12
    },
    {
     "cell_type": "markdown",
     "source": [
      "### Create a separate table of flights with Year >= 2008 ###"
     ]
    },
    {
     "cell_type": "code",
     "collapsed": false,
     "input": [
      "Year_cutoff = 2008\n",
      "cur.execute(\"select count(FlightID) from flights where Year >= %d;\" % Year_cutoff)\n",
      "rows = cur.fetchall()\n",
      "print 'Found %d routes with Year >= %d.' % (len(rows), Year_cutoff)\n"
     ],
     "language": "python",
     "outputs": [],
     "prompt_number": 4
    },
    {
     "cell_type": "code",
     "collapsed": false,
     "input": [
      "%%timeit -n1 -r1\n",
      "\n",
      "## command = \"CREATE TABLE flights_2008_2013 LIKE flights;\"\n",
      "## Nout = cur.execute(command)\n",
      "\n",
      "command = \"INSERT INTO flights_2008_2013 SELECT * FROM flights WHERE Year >= 2008;\"\n",
      "Nout = cur.execute(command)\n"
     ],
     "language": "python",
     "outputs": [],
     "prompt_number": 2
    },
    {
     "cell_type": "markdown",
     "source": [
      "### Create a separate table of flights with more than 100,000 flights per route ###"
     ]
    },
    {
     "cell_type": "code",
     "collapsed": false,
     "input": [
      "### Find number of routes with more X flights\n",
      "NumFlights_cutoff = 100000\n",
      "\n",
      "cur.execute(\"select Route from flight_routes where NumFlights > %d;\" % NumFlights_cutoff)\n",
      "rows = cur.fetchall()\n",
      "print 'Found %d routes with more than %d flights.' % (len(rows), NumFlights_cutoff)\n"
     ],
     "language": "python",
     "outputs": [
      {
       "output_type": "stream",
       "stream": "stdout",
       "text": [
        "Found 160 routes with more than 100000 flights.\n"
       ]
      }
     ],
     "prompt_number": 2
    },
    {
     "cell_type": "code",
     "collapsed": false,
     "input": [
      "%%timeit -n1 -r1\n",
      "\n",
      "command = \"CREATE TABLE flights_100000 LIKE flights;\"\n",
      "Nout = cur.execute(command)\n",
      "\n",
      "command = \"INSERT INTO flights_100000 SELECT f.* FROM flights AS f, flight_routes AS fr WHERE CONCAT(f.Origin,'-',f.Dest) = fr.Route AND fr.NumFlights > 100000;\"\n",
      "Nout = cur.execute(command)\n"
     ],
     "language": "python",
     "outputs": [
      {
       "output_type": "stream",
       "stream": "stdout",
       "text": [
        "1 loops, best of 1: 14min 14s per loop\n"
       ]
      }
     ],
     "prompt_number": 3
    },
    {
     "cell_type": "code",
     "collapsed": false,
     "input": [
      "%%timeit -n1 -r1\n",
      "\n",
      "command = \"SELECT f.FlightID FROM flights AS f, flight_routes AS fr WHERE CONCAT(f.Origin,'-',f.Dest) = fr.Route AND fr.NumFlights > 100000;\"\n",
      "Nout = cur.execute(command)\n",
      "print cur.rowcount\n"
     ],
     "language": "python",
     "outputs": [
      {
       "output_type": "stream",
       "stream": "stdout",
       "text": [
        "23408115\n",
        "1 loops, best of 1: 9min 32s per loop"
       ]
      },
      {
       "output_type": "stream",
       "stream": "stdout",
       "text": [
        "\n"
       ]
      }
     ],
     "prompt_number": 2
    },
    {
     "cell_type": "code",
     "collapsed": false,
     "input": [
      "## Insert a multi-column index for Origin and Dest\n",
      "command = \"CREATE INDEX origin_dest_index ON flights_100000(Origin, Dest);\"\n",
      "cur.execute(command)"
     ],
     "language": "python",
     "outputs": [],
     "prompt_number": "*"
    },
    {
     "cell_type": "code",
     "collapsed": false,
     "input": [
      "## Insert a multi-column index for Origin and Dest\n",
      "command = \"CREATE INDEX origin_dest_index ON flights_100000(Origin, Dest);\"\n",
      "cur.execute(command)"
     ],
     "language": "python",
     "outputs": []
    },
    {
     "cell_type": "code",
     "collapsed": false,
     "input": [],
     "language": "python",
     "outputs": []
    },
    {
     "cell_type": "markdown",
     "source": [
      "### Close up ###"
     ]
    },
    {
     "cell_type": "code",
     "collapsed": false,
     "input": [
      "try:\n",
      "    cur.close()\n",
      "    del cur\n",
      "except NameError:\n",
      "    print 'Cursor (cur) already closed and deleted.'\n",
      "\n",
      "try:\n",
      "    db.close()\n",
      "    del db\n",
      "except NameError:\n",
      "    print 'Database (db) already closed and deleted.'\n"
     ],
     "language": "python",
     "outputs": [],
     "prompt_number": 12
    },
    {
     "cell_type": "code",
     "collapsed": false,
     "input": [
      "from numpy.random import rand\n",
      "import matplotlib.pyplot as plt\n",
      "import matplotlib.colors as mcolors\n",
      "\n",
      "## cdict = {'red':   ((0.0, 0.0, 0.0),\n",
      "##                    (0.5, 0.0, 0.0),\n",
      "##                    (1.0, 1.0, 1.0)),\n",
      "##          'blue':  ((0.0, 0.0, 0.0),\n",
      "##                    (1.0, 0.0, 0.0)),\n",
      "##          'green': ((0.0, 0.0, 1.0),\n",
      "##                    (0.5, 0.0, 0.0),\n",
      "##                    (1.0, 0.0, 0.0))}\n",
      "\n",
      "cdict = {'red': ((0.0, 0.0, 0.0),\n",
      "                 (1.0, 1.0, 1.0)),\n",
      "         'green': ((0.0, 1.0, 1.0),\n",
      "                   (1.0, 0.0, 0.0)),\n",
      "         'blue': ((0.0, 0.0, 0.0),\n",
      "                  (1.0, 0.0, 0.0))}\n",
      "\n",
      "cmap = mcolors.LinearSegmentedColormap('my_colormap', cdict, 100)\n",
      "\n",
      "ax = plt.subplot(111)\n",
      "im = ax.imshow(2*rand(20, 20) + 1.5, cmap=cmap)\n",
      "plt.colorbar(im)\n",
      "plt.show()"
     ],
     "language": "python",
     "outputs": [
      {
       "output_type": "display_data",
       "png": "[encoded data removed]",
       "text": [
        "<matplotlib.figure.Figure at 0x42e3510>"
       ]
      }
     ],
     "prompt_number": 22
    },
    {
     "cell_type": "code",
     "collapsed": false,
     "input": [],
     "language": "python",
     "outputs": []
    }
   ]
  }
 ]
}